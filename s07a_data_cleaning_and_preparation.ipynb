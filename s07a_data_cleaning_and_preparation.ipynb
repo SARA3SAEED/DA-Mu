{
  "cells": [
    {
      "cell_type": "markdown",
      "metadata": {
        "id": "view-in-github",
        "colab_type": "text"
      },
      "source": [
        "<a href=\"https://colab.research.google.com/github/SARA3SAEED/DA-Mu/blob/main/s07a_data_cleaning_and_preparation.ipynb\" target=\"_parent\"><img src=\"https://colab.research.google.com/assets/colab-badge.svg\" alt=\"Open In Colab\"/></a>"
      ]
    },
    {
      "cell_type": "markdown",
      "metadata": {
        "id": "gFRNX14R_pgk"
      },
      "source": [
        "# ADVANCED PANDAS: DATA PREPROCESSING"
      ]
    },
    {
      "cell_type": "markdown",
      "metadata": {
        "id": "l4tV7-JX_pgs"
      },
      "source": [
        "## Course Outline:\n",
        "- ***Introduction to Data Wrangling***\n",
        "    - ***Case-study: Data Preprocessing for The Absolute Beginners***\n",
        "- ***Data Cleaning & Preparation***\n",
        "    - ***Data Cleaning (Missing & Duplicated Data)***\n",
        "    - ***String Manipulation (Regular Expression)***\n",
        "    - ***Data Transformation***\n",
        "- Merging, Joining, and Concatenating Data\n",
        "    - concat()\n",
        "    - merge()\n",
        "    - join()\n",
        "- Aggregation and Grouping\n",
        "    - groupby()\n",
        "- Reshaping and Pivoting\n",
        "    - pivot()\n",
        "    - pivot_table()\n",
        "    - crosstab()"
      ]
    },
    {
      "cell_type": "code",
      "execution_count": null,
      "metadata": {
        "id": "jIBQvp5l_pgu"
      },
      "outputs": [],
      "source": []
    },
    {
      "cell_type": "markdown",
      "metadata": {
        "id": "SMXvoCv__pgv"
      },
      "source": [
        "=========="
      ]
    },
    {
      "cell_type": "markdown",
      "metadata": {
        "id": "xkPmLXm8_pgw"
      },
      "source": [
        "# *Introduction to Data Wrangling*"
      ]
    },
    {
      "cell_type": "markdown",
      "metadata": {
        "id": "EpM_qpZT_pgx"
      },
      "source": [
        "## Data Wrangling (Munging) Basics\n",
        "Data wrangling is defined as the process of taking disorganized or incomplete raw data and standardizing it so that you can easily access, consolidate, and analyze it (i.e. SNR), the steps are as follow:\n",
        "- Discovering (Understanding Data)\n",
        "- Structuring (Features Splitting, Tidy-data)\n",
        "- Cleaning (Missing Data, Outliers Detections, Remove Duplications)\n",
        "- Enriching (Merging, Concatenation)\n",
        "- Validating (Data Types)\n",
        "- Publishing (Readiness for Analysis & Visualization)"
      ]
    },
    {
      "cell_type": "code",
      "execution_count": null,
      "metadata": {
        "id": "Wnj1avXZ_pgy"
      },
      "outputs": [],
      "source": [
        "from IPython.display import Image\n",
        "Image(\"data/preprocessing.png\")"
      ]
    },
    {
      "cell_type": "markdown",
      "metadata": {
        "id": "d1tFg-kO_pg1"
      },
      "source": [
        "### Resources:\n",
        "- Cheat Sheet: https://pandas.pydata.org/Pandas_Cheat_Sheet.pdf\n",
        "- User Guide (10 Minutes Pandas): https://pandas.pydata.org/docs/user_guide/10min.html\n",
        "- Exercises: https://www.w3resource.com/python-exercises/pandas/index.php"
      ]
    },
    {
      "cell_type": "code",
      "execution_count": null,
      "metadata": {
        "id": "nDkL47Rg_pg2"
      },
      "outputs": [],
      "source": []
    },
    {
      "cell_type": "markdown",
      "metadata": {
        "id": "Wb5miqPz_pg3"
      },
      "source": [
        "## Case-study: Data Preprocessing for The Absolute Beginners"
      ]
    },
    {
      "cell_type": "markdown",
      "metadata": {
        "id": "8lNleSbZ_pg3"
      },
      "source": [
        "Our client is a credit card company. They have brought us a dataset that includes some demographics and recent financial data (the past six months) for a sample of 30,000 of their account holders.\n",
        "\n",
        "Data Source (Modified): https://archive.ics.uci.edu/ml/datasets/default+of+credit+card+clients#"
      ]
    },
    {
      "cell_type": "markdown",
      "metadata": {
        "id": "DncsbyUU_pg4"
      },
      "source": [
        "### Step #0: Importing the Libraries"
      ]
    },
    {
      "cell_type": "code",
      "execution_count": null,
      "metadata": {
        "id": "VR7qJXYj_pg4"
      },
      "outputs": [],
      "source": [
        "import numpy as np"
      ]
    },
    {
      "cell_type": "code",
      "execution_count": null,
      "metadata": {
        "id": "cGObMlqA_pg5"
      },
      "outputs": [],
      "source": [
        "import pandas as pd"
      ]
    },
    {
      "cell_type": "code",
      "execution_count": null,
      "metadata": {
        "id": "JbTkQoGp_pg5"
      },
      "outputs": [],
      "source": [
        "import matplotlib.pyplot as plt\n",
        "import seaborn as sns\n",
        "\n",
        "%matplotlib inline\n",
        "sns.set()"
      ]
    },
    {
      "cell_type": "code",
      "execution_count": null,
      "metadata": {
        "id": "fmNTMZ_Q_pg6"
      },
      "outputs": [],
      "source": [
        "# import matplotlib as mpl #additional plotting functionality\n",
        "# mpl.rcParams['figure.dpi'] = 400 #high resolution figures"
      ]
    },
    {
      "cell_type": "code",
      "execution_count": null,
      "metadata": {
        "id": "8zfPFEmu_pg6"
      },
      "outputs": [],
      "source": []
    },
    {
      "cell_type": "markdown",
      "metadata": {
        "id": "J5S4HW5N_pg7"
      },
      "source": [
        "### Step #1: Loading the Case Study Data"
      ]
    },
    {
      "cell_type": "code",
      "execution_count": null,
      "metadata": {
        "id": "w_4wk464_pg8"
      },
      "outputs": [],
      "source": [
        "df = pd.read_excel('data/credit-card-clients.xls')\n",
        "df"
      ]
    },
    {
      "cell_type": "code",
      "execution_count": null,
      "metadata": {
        "id": "K53xwlYW_pg9"
      },
      "outputs": [],
      "source": []
    },
    {
      "cell_type": "markdown",
      "metadata": {
        "id": "p2pTqeqK_pg9"
      },
      "source": [
        "### Step #2: Verifying Basic Data Integrity\n",
        "we will perform a basic check on whether our dataset contains what we expect and verify whether there are the correct number of samples."
      ]
    },
    {
      "cell_type": "markdown",
      "metadata": {
        "id": "joR4GV_g_pg-"
      },
      "source": [
        "### Inspecting Properties"
      ]
    },
    {
      "cell_type": "code",
      "execution_count": null,
      "metadata": {
        "id": "HeSPdxm__pg-"
      },
      "outputs": [],
      "source": [
        "df.head()"
      ]
    },
    {
      "cell_type": "code",
      "execution_count": null,
      "metadata": {
        "id": "vGY00e7i_pg-"
      },
      "outputs": [],
      "source": [
        "df.tail()"
      ]
    },
    {
      "cell_type": "code",
      "execution_count": null,
      "metadata": {
        "id": "WxQetpB4_pg_"
      },
      "outputs": [],
      "source": [
        "df.info()"
      ]
    },
    {
      "cell_type": "code",
      "execution_count": null,
      "metadata": {
        "id": "8fgJ7Tt1_pg_"
      },
      "outputs": [],
      "source": [
        "df.shape"
      ]
    },
    {
      "cell_type": "code",
      "execution_count": null,
      "metadata": {
        "id": "dK_575y1_pg_"
      },
      "outputs": [],
      "source": [
        "df.columns"
      ]
    },
    {
      "cell_type": "code",
      "execution_count": null,
      "metadata": {
        "id": "1DOoegem_phA"
      },
      "outputs": [],
      "source": []
    },
    {
      "cell_type": "markdown",
      "metadata": {
        "id": "icUDqqK7_phA"
      },
      "source": [
        "### Step #3: Data Preprocessing"
      ]
    },
    {
      "cell_type": "markdown",
      "metadata": {
        "id": "aTFtFlot_phA"
      },
      "source": [
        "### Finding & Dealing with Duplicated Rows"
      ]
    },
    {
      "cell_type": "code",
      "execution_count": null,
      "metadata": {
        "id": "7g8213kd_phA"
      },
      "outputs": [],
      "source": [
        "# Select the target column (ID) and count unique values\n",
        "df['ID'].nunique()"
      ]
    },
    {
      "cell_type": "code",
      "execution_count": null,
      "metadata": {
        "scrolled": false,
        "id": "EpO7aRgl_phA"
      },
      "outputs": [],
      "source": [
        "# This will list the unique IDs and how often they occur\n",
        "id_counts = df['ID'].value_counts()\n",
        "id_counts.head()"
      ]
    },
    {
      "cell_type": "code",
      "execution_count": null,
      "metadata": {
        "id": "GHYef-SQ_phB"
      },
      "outputs": [],
      "source": [
        "id_counts.value_counts()"
      ]
    },
    {
      "cell_type": "code",
      "execution_count": null,
      "metadata": {
        "id": "wEjMFocs_phB"
      },
      "outputs": [],
      "source": [
        "dupe_mask = id_counts == 2"
      ]
    },
    {
      "cell_type": "code",
      "execution_count": null,
      "metadata": {
        "id": "2JfAHRH-_phC"
      },
      "outputs": [],
      "source": [
        "# We assign the indices of the duplicated IDs to a variable called dupe_mask and display the first 5 duplicated IDs\n",
        "dupe_mask[0:5]"
      ]
    },
    {
      "cell_type": "code",
      "execution_count": null,
      "metadata": {
        "id": "7c6YDYKw_phC"
      },
      "outputs": [],
      "source": [
        "id_counts.index[0:5]"
      ]
    },
    {
      "cell_type": "code",
      "execution_count": null,
      "metadata": {
        "id": "2FOhZa9A_phC"
      },
      "outputs": [],
      "source": [
        "dupe_ids = id_counts.index[dupe_mask]"
      ]
    },
    {
      "cell_type": "code",
      "execution_count": null,
      "metadata": {
        "id": "2A-s5NND_phC"
      },
      "outputs": [],
      "source": [
        "# Convert dupe_ids to a list and then obtain the length of the list\n",
        "dupe_ids = list(dupe_ids)\n",
        "len(dupe_ids)"
      ]
    },
    {
      "cell_type": "code",
      "execution_count": null,
      "metadata": {
        "scrolled": true,
        "id": "gcH2RX1E_phD"
      },
      "outputs": [],
      "source": [
        "dupe_ids[0:5]"
      ]
    },
    {
      "cell_type": "markdown",
      "metadata": {
        "id": "lfUAzLeT_phN"
      },
      "source": [
        "Using the first three IDs on our list of dupes, dupe_ids[0:3], we will plan to first find the rows containing these IDs. If we pass this list of IDs to the .isin method of the ID series, this will create another logical mask we can use on the larger DataFrame to display the rows that have these IDs."
      ]
    },
    {
      "cell_type": "code",
      "execution_count": null,
      "metadata": {
        "id": "PGCcqDde_phO"
      },
      "outputs": [],
      "source": [
        "# This is just for checking the data\n",
        "df.loc[df['ID'].isin(dupe_ids[0:3]),:].head(10)"
      ]
    },
    {
      "cell_type": "markdown",
      "metadata": {
        "id": "IVZ7ZlJo_phO"
      },
      "source": [
        "We can see some duplicates here, and it looks like every duplicate ID has one row with data, and another row with all zeros. Is this the case for every duplicate ID? Let's check."
      ]
    },
    {
      "cell_type": "code",
      "execution_count": null,
      "metadata": {
        "id": "zkFFWYfv_phP"
      },
      "outputs": [],
      "source": [
        "df.shape"
      ]
    },
    {
      "cell_type": "code",
      "execution_count": null,
      "metadata": {
        "id": "QdHbs0ON_phP"
      },
      "outputs": [],
      "source": [
        "df_zero_mask = df == 0\n",
        "# df_zero_mask"
      ]
    },
    {
      "cell_type": "code",
      "execution_count": null,
      "metadata": {
        "id": "OyKeWroc_phP"
      },
      "outputs": [],
      "source": [
        "feature_zero_mask = df_zero_mask.iloc[:,1:].all(axis=1)\n",
        "# feature_zero_mask"
      ]
    },
    {
      "cell_type": "code",
      "execution_count": null,
      "metadata": {
        "scrolled": true,
        "id": "4sWF5d6M_phQ"
      },
      "outputs": [],
      "source": [
        "sum(feature_zero_mask)"
      ]
    },
    {
      "cell_type": "markdown",
      "metadata": {
        "id": "kgjNOOe4_phQ"
      },
      "source": [
        "It looks like there are at least as many \"zero rows\" as there are duplicate IDs. Let's remove all the rows with all zero features and response, and see if that gets rid of the duplicate IDs."
      ]
    },
    {
      "cell_type": "code",
      "execution_count": null,
      "metadata": {
        "id": "Zurh0jtJ_phQ"
      },
      "outputs": [],
      "source": [
        "# Clean the DataFrame by eliminating the rows with all zeros, except for the ID\n",
        "df_clean_1 = df.loc[~feature_zero_mask,:].copy()"
      ]
    },
    {
      "cell_type": "code",
      "execution_count": null,
      "metadata": {
        "id": "JCAhlFsm_phQ"
      },
      "outputs": [],
      "source": [
        "df_clean_1.shape"
      ]
    },
    {
      "cell_type": "code",
      "execution_count": null,
      "metadata": {
        "id": "YAQe9yc-_phR"
      },
      "outputs": [],
      "source": [
        "df_clean_1['ID'].nunique()"
      ]
    },
    {
      "cell_type": "code",
      "execution_count": null,
      "metadata": {
        "id": "G6pYpwAb_phR"
      },
      "outputs": [],
      "source": []
    },
    {
      "cell_type": "markdown",
      "metadata": {
        "id": "Rh-EFrfR_phR"
      },
      "source": [
        "### Finding & Dealing with Missing Data"
      ]
    },
    {
      "cell_type": "code",
      "execution_count": null,
      "metadata": {
        "id": "A1R8Npey_phR"
      },
      "outputs": [],
      "source": [
        "df_clean_1.info()"
      ]
    },
    {
      "cell_type": "code",
      "execution_count": null,
      "metadata": {
        "id": "vHUrSCdQ_phS"
      },
      "outputs": [],
      "source": [
        "df_clean_1.head()"
      ]
    },
    {
      "cell_type": "code",
      "execution_count": null,
      "metadata": {
        "id": "JuMFo7wo_phS"
      },
      "outputs": [],
      "source": [
        "df_clean_1['PAY_1'].head(5)"
      ]
    },
    {
      "cell_type": "code",
      "execution_count": null,
      "metadata": {
        "id": "EEo5ydBl_phT"
      },
      "outputs": [],
      "source": [
        "df_clean_1['PAY_1'].value_counts()"
      ]
    },
    {
      "cell_type": "markdown",
      "metadata": {
        "id": "-MmveG-n_phT"
      },
      "source": [
        "Let's throw out these missing values, which were initially hidden from us in the `.info()` output, now."
      ]
    },
    {
      "cell_type": "code",
      "execution_count": null,
      "metadata": {
        "id": "zIt6GzCq_phU"
      },
      "outputs": [],
      "source": [
        "valid_pay_1_mask = df_clean_1['PAY_1'] != 'Not available'"
      ]
    },
    {
      "cell_type": "code",
      "execution_count": null,
      "metadata": {
        "id": "jMQZfRGo_phU"
      },
      "outputs": [],
      "source": [
        "valid_pay_1_mask[0:5]"
      ]
    },
    {
      "cell_type": "code",
      "execution_count": null,
      "metadata": {
        "id": "Hj9_VHbC_phV"
      },
      "outputs": [],
      "source": [
        "sum(valid_pay_1_mask)"
      ]
    },
    {
      "cell_type": "code",
      "execution_count": null,
      "metadata": {
        "id": "Gw9nvODg_phV"
      },
      "outputs": [],
      "source": [
        "df_clean_2 = df_clean_1.loc[valid_pay_1_mask,:].copy()"
      ]
    },
    {
      "cell_type": "code",
      "execution_count": null,
      "metadata": {
        "id": "XqVASJlU_phV"
      },
      "outputs": [],
      "source": [
        "df_clean_2.shape"
      ]
    },
    {
      "cell_type": "code",
      "execution_count": null,
      "metadata": {
        "id": "8XzpHaJm_phV"
      },
      "outputs": [],
      "source": [
        "df_clean_2['PAY_1'].value_counts()"
      ]
    },
    {
      "cell_type": "code",
      "execution_count": null,
      "metadata": {
        "id": "IeDC5eje_phW"
      },
      "outputs": [],
      "source": [
        "df_clean_2['PAY_1'] = df_clean_2['PAY_1'].astype('int64')"
      ]
    },
    {
      "cell_type": "code",
      "execution_count": null,
      "metadata": {
        "id": "HQda0nPh_phW"
      },
      "outputs": [],
      "source": [
        "df_clean_2[['PAY_1', 'PAY_2']].info()"
      ]
    },
    {
      "cell_type": "code",
      "execution_count": null,
      "metadata": {
        "id": "C3eL4LRG_phX"
      },
      "outputs": [],
      "source": []
    },
    {
      "cell_type": "markdown",
      "metadata": {
        "id": "iV48BI30_phX"
      },
      "source": [
        "=========="
      ]
    },
    {
      "cell_type": "markdown",
      "metadata": {
        "id": "KOLwp3sI_phX"
      },
      "source": [
        "# *1] Data Cleaning & Preparation*"
      ]
    },
    {
      "cell_type": "markdown",
      "metadata": {
        "id": "KWHqhBwa_phX"
      },
      "source": [
        "## Data Cleaning\n",
        "- Detecting Missing Values\n",
        "- Dealing with Missing Values\n",
        "    - Removing Missing Data\n",
        "    - Replacing Missing Data\n",
        "- Data with Duplication\n",
        "    - Detection of Duplicates\n",
        "    - Handling Duplicates\n",
        "- Outliers Detection / Handling"
      ]
    },
    {
      "cell_type": "markdown",
      "metadata": {
        "id": "ygjPD6YG_phY"
      },
      "source": [
        "##### Importing Libraries & Data"
      ]
    },
    {
      "cell_type": "code",
      "execution_count": null,
      "metadata": {
        "id": "QLc-Jjei_phY"
      },
      "outputs": [],
      "source": [
        "import numpy as np\n",
        "import pandas as pd\n",
        "\n",
        "import matplotlib.pyplot as plt\n",
        "import seaborn as sns\n",
        "\n",
        "%matplotlib inline\n",
        "sns.set()"
      ]
    },
    {
      "cell_type": "code",
      "execution_count": null,
      "metadata": {
        "id": "zdAGc_Eu_phZ"
      },
      "outputs": [],
      "source": [
        "# Using well-known 'titanic' dataset\n",
        "titanic = sns.load_dataset('titanic')\n",
        "titanic"
      ]
    },
    {
      "cell_type": "code",
      "execution_count": null,
      "metadata": {
        "id": "rtvfYuE__phZ"
      },
      "outputs": [],
      "source": []
    },
    {
      "cell_type": "markdown",
      "metadata": {
        "id": "8-4ajIuH_phZ"
      },
      "source": [
        "### Detecting & Dealing with Missing Values"
      ]
    },
    {
      "cell_type": "markdown",
      "metadata": {
        "id": "BDZYvvcM_pha"
      },
      "source": [
        "##### Detecting Missing Values Using isna()"
      ]
    },
    {
      "cell_type": "code",
      "execution_count": null,
      "metadata": {
        "id": "KFXKpxH-_pha"
      },
      "outputs": [],
      "source": [
        "titanic.head()"
      ]
    },
    {
      "cell_type": "code",
      "execution_count": null,
      "metadata": {
        "id": "2oNtouO4_phb"
      },
      "outputs": [],
      "source": [
        "titanic.tail()"
      ]
    },
    {
      "cell_type": "code",
      "execution_count": null,
      "metadata": {
        "id": "iZpVzF_m_phb"
      },
      "outputs": [],
      "source": [
        "titanic.info()"
      ]
    },
    {
      "cell_type": "code",
      "execution_count": null,
      "metadata": {
        "id": "Y6jwKB2-_phc"
      },
      "outputs": [],
      "source": [
        "# Listing all missing data\n",
        "titanic.isna()"
      ]
    },
    {
      "cell_type": "code",
      "execution_count": null,
      "metadata": {
        "id": "3aYCGqQV_phc"
      },
      "outputs": [],
      "source": [
        "# Listing all non-missing data (the opposite)\n",
        "titanic.notna()"
      ]
    },
    {
      "cell_type": "code",
      "execution_count": null,
      "metadata": {
        "id": "q6ipBSVJ_phd"
      },
      "outputs": [],
      "source": [
        "titanic[titanic.isna().values]"
      ]
    },
    {
      "cell_type": "code",
      "execution_count": null,
      "metadata": {
        "id": "nMcFIdzB_phd"
      },
      "outputs": [],
      "source": [
        "# Find the total number of missing data\n",
        "titanic.isna().sum()"
      ]
    },
    {
      "cell_type": "code",
      "execution_count": null,
      "metadata": {
        "id": "4XC6fpWU_phe"
      },
      "outputs": [],
      "source": [
        "# Checking if the feature has missing values or not\n",
        "titanic.isna().any(axis=0)"
      ]
    },
    {
      "cell_type": "code",
      "execution_count": null,
      "metadata": {
        "id": "iTc-Uarh_phe"
      },
      "outputs": [],
      "source": [
        "# Returning all records with missing data\n",
        "titanic[titanic.isna().any(axis=1)]"
      ]
    },
    {
      "cell_type": "code",
      "execution_count": null,
      "metadata": {
        "id": "joyo_sls_phe"
      },
      "outputs": [],
      "source": [
        "# Let's visualize missing data\n",
        "plt.figure(figsize=(20,10))\n",
        "sns.heatmap(titanic.isna())"
      ]
    },
    {
      "cell_type": "code",
      "execution_count": null,
      "metadata": {
        "id": "14YHdLWa_phf"
      },
      "outputs": [],
      "source": [
        "titanic[titanic.embarked.isna()]"
      ]
    },
    {
      "cell_type": "code",
      "execution_count": null,
      "metadata": {
        "id": "rsnkjmJB_phf"
      },
      "outputs": [],
      "source": []
    },
    {
      "cell_type": "markdown",
      "metadata": {
        "id": "ehvvldM6_phf"
      },
      "source": [
        "##### Removing Missing Data Using dropna()"
      ]
    },
    {
      "cell_type": "code",
      "execution_count": null,
      "metadata": {
        "id": "2nDyrskY_phg"
      },
      "outputs": [],
      "source": [
        "titanic['age'].isna().sum()"
      ]
    },
    {
      "cell_type": "code",
      "execution_count": null,
      "metadata": {
        "id": "UV65Mo9D_phg"
      },
      "outputs": [],
      "source": [
        "titanic.shape"
      ]
    },
    {
      "cell_type": "code",
      "execution_count": null,
      "metadata": {
        "id": "Rmkpii8d_phg"
      },
      "outputs": [],
      "source": [
        "titanic.dropna().shape"
      ]
    },
    {
      "cell_type": "code",
      "execution_count": null,
      "metadata": {
        "id": "G0rWEC-L_phh"
      },
      "outputs": [],
      "source": [
        "titanic.dropna(axis=1, how='any', thresh=500, subset=['age'], inplace=True).shape"
      ]
    },
    {
      "cell_type": "code",
      "execution_count": null,
      "metadata": {
        "id": "krc57gtu_phh"
      },
      "outputs": [],
      "source": []
    },
    {
      "cell_type": "markdown",
      "metadata": {
        "id": "e_mGeCpv_phh"
      },
      "source": [
        "##### Handling Missing Data Using fillna() function"
      ]
    },
    {
      "cell_type": "code",
      "execution_count": null,
      "metadata": {
        "id": "2cBRm-kp_phi"
      },
      "outputs": [],
      "source": [
        "titanic['age'].isna().sum()"
      ]
    },
    {
      "cell_type": "code",
      "execution_count": null,
      "metadata": {
        "id": "pTHBiF9C_phi"
      },
      "outputs": [],
      "source": [
        "titanic['age'].mean(skipna=True)"
      ]
    },
    {
      "cell_type": "code",
      "execution_count": null,
      "metadata": {
        "id": "HzPUQGFk_phi"
      },
      "outputs": [],
      "source": [
        "titanic['age'].fillna(round(titanic['age'].mean(skipna=True),2), inplace=True)"
      ]
    },
    {
      "cell_type": "code",
      "execution_count": null,
      "metadata": {
        "id": "v3FQrlaW_phj"
      },
      "outputs": [],
      "source": [
        "titanic.fillna(method='ffill', axis=1)"
      ]
    },
    {
      "cell_type": "code",
      "execution_count": null,
      "metadata": {
        "id": "y5Ojs9JC_phj"
      },
      "outputs": [],
      "source": [
        "titanic['age'].isna().sum()"
      ]
    },
    {
      "cell_type": "code",
      "execution_count": null,
      "metadata": {
        "id": "CJ57RPg1_phj"
      },
      "outputs": [],
      "source": []
    },
    {
      "cell_type": "markdown",
      "metadata": {
        "id": "SLUzeL_h_phj"
      },
      "source": [
        "### Data with Duplication"
      ]
    },
    {
      "cell_type": "markdown",
      "metadata": {
        "id": "5wHtnHxG_phk"
      },
      "source": [
        "##### Finding Duplicated Data Using duplicated() function"
      ]
    },
    {
      "cell_type": "code",
      "execution_count": null,
      "metadata": {
        "id": "A-JykKIK_phk"
      },
      "outputs": [],
      "source": [
        "titanic.head()"
      ]
    },
    {
      "cell_type": "code",
      "execution_count": null,
      "metadata": {
        "id": "1c95aR2M_phk"
      },
      "outputs": [],
      "source": [
        "titanic.info()"
      ]
    },
    {
      "cell_type": "code",
      "execution_count": null,
      "metadata": {
        "id": "Pdl59FbN_phk"
      },
      "outputs": [],
      "source": [
        "titanic.duplicated(subset=None)"
      ]
    },
    {
      "cell_type": "code",
      "execution_count": null,
      "metadata": {
        "id": "ZaTslrI5_phl"
      },
      "outputs": [],
      "source": [
        "titanic[titanic.duplicated(subset=None)]"
      ]
    },
    {
      "cell_type": "code",
      "execution_count": null,
      "metadata": {
        "id": "Htqfrgpq_phl"
      },
      "outputs": [],
      "source": [
        "titanic.duplicated(keep='first').sum()"
      ]
    },
    {
      "cell_type": "code",
      "execution_count": null,
      "metadata": {
        "id": "lpvYs7AK_phl"
      },
      "outputs": [],
      "source": [
        "titanic[titanic.duplicated()].sort_values(by='fare')"
      ]
    },
    {
      "cell_type": "code",
      "execution_count": null,
      "metadata": {
        "id": "j6tb-nAK_phm"
      },
      "outputs": [],
      "source": [
        "titanic.duplicated(subset=['survived','pclass']).sum()"
      ]
    },
    {
      "cell_type": "code",
      "execution_count": null,
      "metadata": {
        "id": "uolwrIgY_phm"
      },
      "outputs": [],
      "source": [
        "titanic[titanic.duplicated()]"
      ]
    },
    {
      "cell_type": "code",
      "execution_count": null,
      "metadata": {
        "id": "wC3MDlP3_phm"
      },
      "outputs": [],
      "source": []
    },
    {
      "cell_type": "markdown",
      "metadata": {
        "id": "biEu1SQd_phm"
      },
      "source": [
        "##### Dealing with Duplicated Data"
      ]
    },
    {
      "cell_type": "code",
      "execution_count": null,
      "metadata": {
        "id": "_NTALkSd_phn"
      },
      "outputs": [],
      "source": [
        "titanic.drop(index=[870,877])"
      ]
    },
    {
      "cell_type": "code",
      "execution_count": null,
      "metadata": {
        "id": "mSLX0cVN_phn"
      },
      "outputs": [],
      "source": [
        "titanic.drop_duplicates(['fare'], keep='first')"
      ]
    },
    {
      "cell_type": "code",
      "execution_count": null,
      "metadata": {
        "id": "rMLWRKHA_pho"
      },
      "outputs": [],
      "source": [
        "titanic.drop_duplicates(ignore_index=True)"
      ]
    },
    {
      "cell_type": "code",
      "execution_count": null,
      "metadata": {
        "id": "-1pUeq7f_pho"
      },
      "outputs": [],
      "source": []
    },
    {
      "cell_type": "markdown",
      "metadata": {
        "id": "eK-fnvlB_pho"
      },
      "source": [
        "### Outliers Detection & Handling"
      ]
    },
    {
      "cell_type": "markdown",
      "metadata": {
        "id": "QeyJaAwl_php"
      },
      "source": [
        "##### Finding & Dealing with Outliers"
      ]
    },
    {
      "cell_type": "code",
      "execution_count": null,
      "metadata": {
        "id": "oFa7fCJB_php"
      },
      "outputs": [],
      "source": [
        "titanic.plot(subplots = True, figsize = (15,10))\n",
        "plt.show()"
      ]
    },
    {
      "cell_type": "code",
      "execution_count": null,
      "metadata": {
        "id": "ySxuH4aH_php"
      },
      "outputs": [],
      "source": [
        "titanic.head()"
      ]
    },
    {
      "cell_type": "code",
      "execution_count": null,
      "metadata": {
        "id": "MfMblH8J_php"
      },
      "outputs": [],
      "source": [
        "titanic.describe().round(2)"
      ]
    },
    {
      "cell_type": "code",
      "execution_count": null,
      "metadata": {
        "id": "913pD1Ff_phq"
      },
      "outputs": [],
      "source": [
        "titanic.boxplot('age')"
      ]
    },
    {
      "cell_type": "code",
      "execution_count": null,
      "metadata": {
        "id": "j1fAaEwu_phq"
      },
      "outputs": [],
      "source": [
        "(titanic['age'] > 60).sum()"
      ]
    },
    {
      "cell_type": "code",
      "execution_count": null,
      "metadata": {
        "scrolled": false,
        "id": "DX09QG3i_phq"
      },
      "outputs": [],
      "source": [
        "titanic.loc[titanic['age'] > 60]"
      ]
    },
    {
      "cell_type": "code",
      "execution_count": null,
      "metadata": {
        "id": "OU5Zw2eW_phr"
      },
      "outputs": [],
      "source": []
    },
    {
      "cell_type": "markdown",
      "metadata": {
        "id": "_Yu_WwMg_phr"
      },
      "source": [
        "##### Handling / Removing Outliers"
      ]
    },
    {
      "cell_type": "code",
      "execution_count": null,
      "metadata": {
        "id": "4T47c2Qf_phs"
      },
      "outputs": [],
      "source": [
        "titanic['fare'].sort_values(ascending=False)"
      ]
    },
    {
      "cell_type": "code",
      "execution_count": null,
      "metadata": {
        "id": "e81uPo4a_phs"
      },
      "outputs": [],
      "source": [
        "titanic[titanic['fare'] > 300]"
      ]
    },
    {
      "cell_type": "code",
      "execution_count": null,
      "metadata": {
        "id": "fbkq6usv_pht"
      },
      "outputs": [],
      "source": [
        "titanic.loc[titanic['fare'] > 300, 'fare'] = titanic['fare'].mean()"
      ]
    },
    {
      "cell_type": "code",
      "execution_count": null,
      "metadata": {
        "id": "VZvxeV2A_pht"
      },
      "outputs": [],
      "source": [
        "(titanic['fare'] > 300).sum()"
      ]
    },
    {
      "cell_type": "code",
      "execution_count": null,
      "metadata": {
        "id": "dG2Nqgfk_phu"
      },
      "outputs": [],
      "source": [
        "titanic.iloc[679]"
      ]
    },
    {
      "cell_type": "code",
      "execution_count": null,
      "metadata": {
        "id": "nfzU8FNp_phu"
      },
      "outputs": [],
      "source": [
        "titanic.boxplot('fare')"
      ]
    },
    {
      "cell_type": "code",
      "execution_count": null,
      "metadata": {
        "id": "6xoBwQc1_phu"
      },
      "outputs": [],
      "source": []
    },
    {
      "cell_type": "markdown",
      "metadata": {
        "id": "80cgOhjt_phv"
      },
      "source": [
        "=========="
      ]
    },
    {
      "cell_type": "markdown",
      "metadata": {
        "id": "BoK0fZnw_phv"
      },
      "source": [
        "## String Manipulation (Regular Expressions)\n",
        "- Python String Functions Overview\n",
        "- Vectorized String Operations\n",
        "- Dealing with Categorical Data\n",
        "- Regular Expressions Basics"
      ]
    },
    {
      "cell_type": "markdown",
      "metadata": {
        "id": "w1aNvVtR_phw"
      },
      "source": [
        "##### Python Strings Functions"
      ]
    },
    {
      "cell_type": "markdown",
      "metadata": {
        "id": "n1-DSBOK_phw"
      },
      "source": [
        "| Method         \t| Description                                                                                   \t|\n",
        "|----------------\t|-----------------------------------------------------------------------------------------------\t|\n",
        "| capitalize()   \t| Converts the first character to upper case                                                    \t|\n",
        "| casefold()     \t| Converts string into lower case                                                               \t|\n",
        "| center()       \t| Returns a centered string                                                                     \t|\n",
        "| count()        \t| Returns the number of times a specified value occurs in a string                              \t|\n",
        "| encode()       \t| Returns an encoded version of the string                                                      \t|\n",
        "| endswith()     \t| Returns true if the string ends with the specified value                                      \t|\n",
        "| expandtabs()   \t| Sets the tab size of the string                                                               \t|\n",
        "| find()         \t| Searches the string for a specified value and returns the position of where it was found      \t|\n",
        "| format()       \t| Formats specified values in a string                                                          \t|\n",
        "| format_map()   \t| Formats specified values in a string                                                          \t|\n",
        "| index()        \t| Searches the string for a specified value and returns the position of where it was found      \t|\n",
        "| isalnum()      \t| Returns True if all characters in the string are alphanumeric                                 \t|\n",
        "| isalpha()      \t| Returns True if all characters in the string are in the alphabet                              \t|\n",
        "| isdecimal()    \t| Returns True if all characters in the string are decimals                                     \t|\n",
        "| isdigit()      \t| Returns True if all characters in the string are digits                                       \t|\n",
        "| isidentifier() \t| Returns True if the string is an identifier                                                   \t|\n",
        "| islower()      \t| Returns True if all characters in the string are lower case                                   \t|\n",
        "| isnumeric()    \t| Returns True if all characters in the string are numeric                                      \t|\n",
        "| isprintable()  \t| Returns True if all characters in the string are printable                                    \t|\n",
        "| isspace()      \t| Returns True if all characters in the string are whitespaces                                  \t|\n",
        "| istitle()      \t| Returns True if the string follows the rules of a title                                       \t|\n",
        "| isupper()      \t| Returns True if all characters in the string are upper case                                   \t|\n",
        "| join()         \t| Joins the elements of an iterable to the end of the string                                    \t|\n",
        "| ljust()        \t| Returns a left justified version of the string                                                \t|\n",
        "| lower()        \t| Converts a string into lower case                                                             \t|\n",
        "| lstrip()       \t| Returns a left trim version of the string                                                     \t|\n",
        "| maketrans()    \t| Returns a translation table to be used in translations                                        \t|\n",
        "| partition()    \t| Returns a tuple where the string is parted into three parts                                   \t|\n",
        "| replace()      \t| Returns a string where a specified value is replaced with a specified value                   \t|\n",
        "| rfind()        \t| Searches the string for a specified value and returns the last position of where it was found \t|\n",
        "| rindex()       \t| Searches the string for a specified value and returns the last position of where it was found \t|\n",
        "| rjust()        \t| Returns a right justified version of the string                                               \t|\n",
        "| rpartition()   \t| Returns a tuple where the string is parted into three parts                                   \t|\n",
        "| rsplit()       \t| Splits the string at the specified separator, and returns a list                              \t|\n",
        "| rstrip()       \t| Returns a right trim version of the string                                                    \t|\n",
        "| split()        \t| Splits the string at the specified separator, and returns a list                              \t|\n",
        "| splitlines()   \t| Splits the string at line breaks and returns a list                                           \t|\n",
        "| startswith()   \t| Returns true if the string starts with the specified value                                    \t|\n",
        "| strip()        \t| Returns a trimmed version of the string                                                       \t|\n",
        "| swapcase()     \t| Swaps cases, lower case becomes upper case and vice versa                                     \t|\n",
        "| title()        \t| Converts the first character of each word to upper case                                       \t|\n",
        "| translate()    \t| Returns a translated string                                                                   \t|\n",
        "| upper()        \t| Converts a string into upper case                                                             \t|\n",
        "| zfill()        \t| Fills the string with a specified number of 0 values at the beginning                         \t|"
      ]
    },
    {
      "cell_type": "code",
      "execution_count": null,
      "metadata": {
        "id": "rvJh0Fxr_phx"
      },
      "outputs": [],
      "source": []
    },
    {
      "cell_type": "markdown",
      "metadata": {
        "id": "TwVVNs3Y_phx"
      },
      "source": [
        "##### Vectorized String Operations"
      ]
    },
    {
      "cell_type": "code",
      "execution_count": null,
      "metadata": {
        "id": "qHazVLdO_phx"
      },
      "outputs": [],
      "source": [
        "data = {'Name': ['Mustafa, Ahmed S.', 'Othman, mustafa M.', 'Mazen, Mariam ', 'Burhan, Saddik', 'Abdullah, Omnia N.', 'Jalil, Mustafa'],\n",
        "       'Age': [26, 34, 18, 36, 28, 38],\n",
        "       'Country': ['UAE', 'EGY', 'EGY', 'ERI', 'KSA', 'MAR'],\n",
        "       'M/F': ['M','M','F','M','F', 'M'],\n",
        "       'Email': ['a.mustafa@teqanny.com', 'm.othman@raqameyyah.com', 'm.mazen@teqanny.com','s.burhan@teqanny.com','o.nasser@teqanny.com','m.jalil@teqanny.com'],\n",
        "       'Buy': ['Yes', 'No', 'no','Yes','No','Yes']}\n",
        "\n",
        "students = pd.DataFrame(data)\n",
        "students"
      ]
    },
    {
      "cell_type": "code",
      "execution_count": null,
      "metadata": {
        "id": "eCdO8HJc_phy"
      },
      "outputs": [],
      "source": [
        "# Using 'str' for vectorized string operations\n",
        "\n",
        "students.Email.str.len()\n",
        "# students['Email'].apply(len)"
      ]
    },
    {
      "cell_type": "code",
      "execution_count": null,
      "metadata": {
        "id": "PnopvQ1M_phy"
      },
      "outputs": [],
      "source": [
        "students.loc[students.Name.str.startswith('M')]"
      ]
    },
    {
      "cell_type": "code",
      "execution_count": null,
      "metadata": {
        "id": "cJEMCUr3_phy"
      },
      "outputs": [],
      "source": [
        "students.Name.str.find('Mustafa')"
      ]
    },
    {
      "cell_type": "code",
      "execution_count": null,
      "metadata": {
        "id": "FDBXp2ex_phy"
      },
      "outputs": [],
      "source": [
        "# String splitting\n",
        "students['Name'].str.split(', ')"
      ]
    },
    {
      "cell_type": "code",
      "execution_count": null,
      "metadata": {
        "id": "V0b_5sX1_phz"
      },
      "outputs": [],
      "source": [
        "students['Name'].str.split(', ')[1][0]"
      ]
    },
    {
      "cell_type": "code",
      "execution_count": null,
      "metadata": {
        "id": "hy-pvAnR_phz"
      },
      "outputs": [],
      "source": [
        "# Getting students' last names\n",
        "students['Name'].str.split(', ').str.get(1)"
      ]
    },
    {
      "cell_type": "code",
      "execution_count": null,
      "metadata": {
        "id": "yt4sAxCT_ph0"
      },
      "outputs": [],
      "source": [
        "# Getting students' first names\n",
        "students['Name'].str.split(', ').str.get(1)"
      ]
    },
    {
      "cell_type": "code",
      "execution_count": null,
      "metadata": {
        "id": "RCZGTpal_ph0"
      },
      "outputs": [],
      "source": [
        "students['First Name'] = students['Name'].str.split(', ').str.get(1)\n",
        "students['Last Name'] = students['Name'].str.split(', ').str.get(0)"
      ]
    },
    {
      "cell_type": "code",
      "execution_count": null,
      "metadata": {
        "id": "QgxvaaBm_ph1"
      },
      "outputs": [],
      "source": [
        "students"
      ]
    },
    {
      "cell_type": "code",
      "execution_count": null,
      "metadata": {
        "id": "P1a-zPTr_ph1"
      },
      "outputs": [],
      "source": [
        "students['Name'].str.split(expand=True)"
      ]
    },
    {
      "cell_type": "code",
      "execution_count": null,
      "metadata": {
        "id": "-PbxGxr2_ph1"
      },
      "outputs": [],
      "source": [
        "students[['Last Name', 'First Name']] = students.Name.str.split(', ', expand=True)"
      ]
    },
    {
      "cell_type": "code",
      "execution_count": null,
      "metadata": {
        "id": "0N98b_i5_ph1"
      },
      "outputs": [],
      "source": [
        "students"
      ]
    },
    {
      "cell_type": "code",
      "execution_count": null,
      "metadata": {
        "id": "4pb0bg2k_ph2"
      },
      "outputs": [],
      "source": [
        "# Matching a specific features\n",
        "students[students.Country.str.match('EGY')]"
      ]
    },
    {
      "cell_type": "code",
      "execution_count": null,
      "metadata": {
        "id": "zvSvDen5_ph2"
      },
      "outputs": [],
      "source": [
        "# Concatenating two features\n",
        "students['M/F'].str.cat(students['Age'].astype(str), sep='_')"
      ]
    },
    {
      "cell_type": "code",
      "execution_count": null,
      "metadata": {
        "id": "jw3yT7mp_ph2"
      },
      "outputs": [],
      "source": [
        "# Searching for a specific record\n",
        "students[(students.Name.str.contains('Mustafa')) & (students.Age >= 35)]"
      ]
    },
    {
      "cell_type": "code",
      "execution_count": null,
      "metadata": {
        "id": "YrJEGWS3_ph3"
      },
      "outputs": [],
      "source": [
        "# Replacing values\n",
        "students['M/F'] = students['M/F'].str.replace('F','Female').str.replace('M','Male')\n",
        "students"
      ]
    },
    {
      "cell_type": "code",
      "execution_count": null,
      "metadata": {
        "id": "OgQ-nxdw_ph3"
      },
      "outputs": [],
      "source": []
    },
    {
      "cell_type": "markdown",
      "metadata": {
        "id": "5oazQ7L6_ph3"
      },
      "source": [
        "##### Dealing with Categorical Data"
      ]
    },
    {
      "cell_type": "code",
      "execution_count": null,
      "metadata": {
        "id": "HAhLfdlb_ph3"
      },
      "outputs": [],
      "source": [
        "students['Buy'].dtype"
      ]
    },
    {
      "cell_type": "code",
      "execution_count": null,
      "metadata": {
        "id": "5iSxIVzG_ph4"
      },
      "outputs": [],
      "source": [
        "students.convert_dtypes()"
      ]
    },
    {
      "cell_type": "code",
      "execution_count": null,
      "metadata": {
        "id": "37yIFZbw_ph4"
      },
      "outputs": [],
      "source": [
        "students.info()"
      ]
    },
    {
      "cell_type": "code",
      "execution_count": null,
      "metadata": {
        "id": "IJCRapxx_ph4"
      },
      "outputs": [],
      "source": [
        "students['Buy'] = students['Buy'].astype('category')"
      ]
    },
    {
      "cell_type": "code",
      "execution_count": null,
      "metadata": {
        "id": "BLxKtqSt_ph5"
      },
      "outputs": [],
      "source": [
        "students.info()"
      ]
    },
    {
      "cell_type": "code",
      "execution_count": null,
      "metadata": {
        "id": "xUbLIgNQ_ph5"
      },
      "outputs": [],
      "source": [
        "students['Buy'] = students['Buy'].cat.rename_categories({'No':'N', 'Yes':'Y'})\n",
        "# cat.set_categories()\n",
        "# cat.add_categories()\n",
        "# cat.remove_categories()\n",
        "# cat.reorder_categories()"
      ]
    },
    {
      "cell_type": "code",
      "execution_count": null,
      "metadata": {
        "id": "SWvE3Kle_ph5"
      },
      "outputs": [],
      "source": [
        "students['Buy'].dtype"
      ]
    },
    {
      "cell_type": "code",
      "execution_count": null,
      "metadata": {
        "id": "Ixsr9wSW_ph6"
      },
      "outputs": [],
      "source": [
        "students"
      ]
    },
    {
      "cell_type": "code",
      "execution_count": null,
      "metadata": {
        "id": "_xadUQF__ph6"
      },
      "outputs": [],
      "source": [
        "# Label-Encoding\n",
        "students['Buy'].cat.codes"
      ]
    },
    {
      "cell_type": "code",
      "execution_count": null,
      "metadata": {
        "id": "47gKnXPi_ph6"
      },
      "outputs": [],
      "source": [
        "# One-Hot-Encoding\n",
        "pd.get_dummies(students, columns=['Buy'])"
      ]
    },
    {
      "cell_type": "code",
      "execution_count": null,
      "metadata": {
        "id": "jEEAJB3l_ph7"
      },
      "outputs": [],
      "source": [
        "# Let's change the data a little bit to add pitfalls\n",
        "students['Buy'].cat.categories"
      ]
    },
    {
      "cell_type": "code",
      "execution_count": null,
      "metadata": {
        "id": "78QoGXx-_ph7"
      },
      "outputs": [],
      "source": [
        "students['Buy'].replace({'Noo':'No'}, inplace=True)"
      ]
    },
    {
      "cell_type": "code",
      "execution_count": null,
      "metadata": {
        "id": "gCY3-pOi_ph8"
      },
      "outputs": [],
      "source": [
        "students['Buy'].str.title(inplace=True)"
      ]
    },
    {
      "cell_type": "code",
      "execution_count": null,
      "metadata": {
        "id": "j-VAVp6-_ph8"
      },
      "outputs": [],
      "source": [
        "students"
      ]
    },
    {
      "cell_type": "code",
      "execution_count": null,
      "metadata": {
        "id": "Ue4mxSZM_ph9"
      },
      "outputs": [],
      "source": []
    },
    {
      "cell_type": "markdown",
      "metadata": {
        "id": "FyBKYXQA_ph9"
      },
      "source": [
        "##### Regular Expressions Basics (RegEx)\n",
        "RegEx functions fall into three categories: pattern matching, substitution, and splitting"
      ]
    },
    {
      "cell_type": "markdown",
      "metadata": {
        "id": "XTrqT6_F_ph9"
      },
      "source": [
        "- RegEx Cheat-sheet: https://www.dataquest.io/wp-content/uploads/2019/03/python-regular-expressions-cheat-sheet.pdf\n",
        "- A useful tool: https://regex101.com/\n",
        "- Exercises: https://www.geeksforgeeks.org/tag/python-regex-programs/"
      ]
    },
    {
      "cell_type": "code",
      "execution_count": null,
      "metadata": {
        "id": "qvTGcvUu_ph-"
      },
      "outputs": [],
      "source": [
        "from IPython.display import Image\n",
        "Image(\"data/regex.png\")"
      ]
    },
    {
      "cell_type": "code",
      "execution_count": null,
      "metadata": {
        "id": "SVijpjD1_ph_"
      },
      "outputs": [],
      "source": [
        "# loading regular expression library 're'\n",
        "import re"
      ]
    },
    {
      "cell_type": "code",
      "execution_count": null,
      "metadata": {
        "id": "3fBZxxLx_ph_"
      },
      "outputs": [],
      "source": [
        "text = 'foo    bar\\t baz    \\tqux'"
      ]
    },
    {
      "cell_type": "code",
      "execution_count": null,
      "metadata": {
        "id": "tn6ADxNN_ph_"
      },
      "outputs": [],
      "source": [
        "re.split('\\s+', text)\n",
        "\n",
        "# regex = re.compile('\\s+')\n",
        "# regex.split(text)"
      ]
    },
    {
      "cell_type": "code",
      "execution_count": null,
      "metadata": {
        "id": "mYFfqCaA_piA"
      },
      "outputs": [],
      "source": [
        "re.findall('\\s+', text)"
      ]
    },
    {
      "cell_type": "code",
      "execution_count": null,
      "metadata": {
        "id": "Y4rTBggC_piA"
      },
      "outputs": [],
      "source": [
        "# A regular expression for matching email addresses\n",
        "email_regex = r'\\w\\S*@.*raqameyyah'"
      ]
    },
    {
      "cell_type": "code",
      "execution_count": null,
      "metadata": {
        "id": "0q6_nLOr_piA"
      },
      "outputs": [],
      "source": [
        "# Find specific emails (works on Series)\n",
        "students['Email'].str.findall(email_regex)\n",
        "\n",
        "# re.findall(email_regex, 'm,othman@raqameyyah')"
      ]
    },
    {
      "cell_type": "code",
      "execution_count": null,
      "metadata": {
        "id": "QDHle0oz_piB"
      },
      "outputs": [],
      "source": [
        "# Return all students who have 'Mustafa' as their first names\n",
        "students.loc[students['Name'].str.contains(r\"\\s[mM]ustafa\")]"
      ]
    },
    {
      "cell_type": "code",
      "execution_count": null,
      "metadata": {
        "id": "sP1tbKpO_piB"
      },
      "outputs": [],
      "source": []
    },
    {
      "cell_type": "markdown",
      "metadata": {
        "id": "et7g8nNA_piB"
      },
      "source": [
        "=========="
      ]
    },
    {
      "cell_type": "markdown",
      "metadata": {
        "id": "nS3DnEgW_piC"
      },
      "source": [
        "## Data Transformation\n",
        "- Shuffling Data\n",
        "- Mapping\n",
        "- Discretization\n",
        "- Normalizing, Standardization & Scaling"
      ]
    },
    {
      "cell_type": "markdown",
      "metadata": {
        "id": "pTb0YHyD_piC"
      },
      "source": [
        "##### Shuffling Data Using sample()"
      ]
    },
    {
      "cell_type": "code",
      "execution_count": null,
      "metadata": {
        "id": "RWtgBDyM_piC"
      },
      "outputs": [],
      "source": [
        "titanic.sample()"
      ]
    },
    {
      "cell_type": "code",
      "execution_count": null,
      "metadata": {
        "id": "le76C7uc_piC"
      },
      "outputs": [],
      "source": [
        "titanic_sample = titanic.sample(10).reset_index(drop=True)\n",
        "titanic_sample"
      ]
    },
    {
      "cell_type": "code",
      "execution_count": null,
      "metadata": {
        "id": "zZHN5Om3_piD"
      },
      "outputs": [],
      "source": []
    },
    {
      "cell_type": "markdown",
      "metadata": {
        "id": "uH8OK4J3_piD"
      },
      "source": [
        "##### Mapping Using map() Function"
      ]
    },
    {
      "cell_type": "code",
      "execution_count": null,
      "metadata": {
        "id": "ta6UQaUZ_piD"
      },
      "outputs": [],
      "source": [
        "titanic.sample(5)"
      ]
    },
    {
      "cell_type": "code",
      "execution_count": null,
      "metadata": {
        "id": "0EgX-sup_piE"
      },
      "outputs": [],
      "source": [
        "titanic['pclass'] = titanic['pclass'].map({1:'First', 2:'Second', 3:'Third'})"
      ]
    },
    {
      "cell_type": "code",
      "execution_count": null,
      "metadata": {
        "id": "r-eoedyS_piE"
      },
      "outputs": [],
      "source": [
        "titanic.head()"
      ]
    },
    {
      "cell_type": "code",
      "execution_count": null,
      "metadata": {
        "id": "rpmXet8l_piF"
      },
      "outputs": [],
      "source": []
    },
    {
      "cell_type": "markdown",
      "metadata": {
        "id": "-onsjb7L_piF"
      },
      "source": [
        "##### Discretization & Bining Using cut() Function"
      ]
    },
    {
      "cell_type": "code",
      "execution_count": null,
      "metadata": {
        "id": "DLPCptz__piF"
      },
      "outputs": [],
      "source": [
        "# Grouping people by their ages' ranges\n",
        "pd.cut(titanic['age'], bins=[0,10,18,30,45,65,100], precision=2).value_counts()\n",
        "# pd.cut(titanic['age'], 6).value_counts()"
      ]
    },
    {
      "cell_type": "code",
      "execution_count": null,
      "metadata": {
        "id": "Hv8a5NLK_piG"
      },
      "outputs": [],
      "source": [
        "titanic['ages_ranges'] = pd.cut(titanic['age'], bins=[0,10,18,30,45,65,100],\n",
        "                                labels=['Child', 'Teenager', 'Adult', 'Youth', 'MiddleAged', 'Senior'])\n",
        "titanic"
      ]
    },
    {
      "cell_type": "code",
      "execution_count": null,
      "metadata": {
        "id": "PFX7BCkQ_piH"
      },
      "outputs": [],
      "source": [
        "sns.countplot(titanic['ages_ranges'])\n",
        "# titanic['ages_ranges'].hist()"
      ]
    },
    {
      "cell_type": "code",
      "execution_count": null,
      "metadata": {
        "id": "nL0AXi9i_piH"
      },
      "outputs": [],
      "source": [
        "# Calculate the average values for each ages ranges\n",
        "titanic.groupby('ages_ranges')['survived'].mean()"
      ]
    },
    {
      "cell_type": "code",
      "execution_count": null,
      "metadata": {
        "id": "OdJqsAEc_piI"
      },
      "outputs": [],
      "source": [
        "# Discretize variable into equal-sized buckets\n",
        "pd.qcut(titanic['fare'],3,['Cheap','Normal','Expensive']).value_counts()"
      ]
    },
    {
      "cell_type": "code",
      "execution_count": null,
      "metadata": {
        "id": "FXVSfNor_piI"
      },
      "outputs": [],
      "source": []
    },
    {
      "cell_type": "markdown",
      "metadata": {
        "id": "Lah1OnCD_piI"
      },
      "source": [
        "##### Scaling & Standardization"
      ]
    },
    {
      "cell_type": "code",
      "execution_count": null,
      "metadata": {
        "id": "UuE8eugD_piI"
      },
      "outputs": [],
      "source": [
        "titanic.describe()"
      ]
    },
    {
      "cell_type": "code",
      "execution_count": null,
      "metadata": {
        "id": "D0i6eb0m_piJ"
      },
      "outputs": [],
      "source": [
        "plt.figure(figsize=(20,10))\n",
        "titanic['fare'].plot()\n",
        "plt.show()"
      ]
    },
    {
      "cell_type": "code",
      "execution_count": null,
      "metadata": {
        "id": "0pPlf7LH_piJ"
      },
      "outputs": [],
      "source": [
        "titanic['fare'] = ((titanic['fare'] - titanic['fare'].mean()) / titanic['fare'].std()).round(2)\n",
        "titanic"
      ]
    },
    {
      "cell_type": "code",
      "execution_count": null,
      "metadata": {
        "id": "PZV841sG_piJ"
      },
      "outputs": [],
      "source": [
        "titanic.describe().round(2)"
      ]
    },
    {
      "cell_type": "code",
      "execution_count": null,
      "metadata": {
        "id": "zsG9YDHn_piJ"
      },
      "outputs": [],
      "source": []
    },
    {
      "cell_type": "markdown",
      "metadata": {
        "id": "K5EyZ_Py_piK"
      },
      "source": [
        "=========="
      ]
    },
    {
      "cell_type": "markdown",
      "metadata": {
        "id": "AnX4l0o5_piK"
      },
      "source": [
        "# THANK YOU!"
      ]
    }
  ],
  "metadata": {
    "kernelspec": {
      "display_name": "Python 3",
      "language": "python",
      "name": "python3"
    },
    "language_info": {
      "codemirror_mode": {
        "name": "ipython",
        "version": 3
      },
      "file_extension": ".py",
      "mimetype": "text/x-python",
      "name": "python",
      "nbconvert_exporter": "python",
      "pygments_lexer": "ipython3",
      "version": "3.8.3"
    },
    "colab": {
      "provenance": [],
      "include_colab_link": true
    }
  },
  "nbformat": 4,
  "nbformat_minor": 0
}