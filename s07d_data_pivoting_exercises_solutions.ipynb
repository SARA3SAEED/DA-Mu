{
  "cells": [
    {
      "cell_type": "markdown",
      "metadata": {
        "id": "view-in-github",
        "colab_type": "text"
      },
      "source": [
        "<a href=\"https://colab.research.google.com/github/SARA3SAEED/DA-Mu/blob/main/s07d_data_pivoting_exercises_solutions.ipynb\" target=\"_parent\"><img src=\"https://colab.research.google.com/assets/colab-badge.svg\" alt=\"Open In Colab\"/></a>"
      ]
    },
    {
      "cell_type": "markdown",
      "metadata": {
        "id": "WEUzyWyrn1tB"
      },
      "source": [
        "# Data Reshaping & Pivoting Exercises"
      ]
    },
    {
      "cell_type": "markdown",
      "metadata": {
        "id": "tI4dVSVBn1tD"
      },
      "source": [
        "- Data Reshaping Exercies\n",
        "- Data Pivoting Exercises\n",
        "    - Long to Wide Transformation Using pivot() & pivot_table() Functions\n",
        "    - Wide to Long Transformation Using melt() Function"
      ]
    },
    {
      "cell_type": "markdown",
      "metadata": {
        "id": "b89H2BY-n1tE"
      },
      "source": [
        "### Importing Data & Libraries"
      ]
    },
    {
      "cell_type": "code",
      "execution_count": null,
      "metadata": {
        "id": "qGG-kpbAn1tE"
      },
      "outputs": [],
      "source": [
        "import numpy as np\n",
        "import pandas as pd\n",
        "import matplotlib.pyplot as plt\n",
        "import seaborn as sns\n",
        "%matplotlib inline\n",
        "sns.set()"
      ]
    },
    {
      "cell_type": "code",
      "execution_count": null,
      "metadata": {
        "id": "SjEOi5Aqn1tF"
      },
      "outputs": [],
      "source": [
        "fifa = pd.read_csv('data/fifa.csv')"
      ]
    },
    {
      "cell_type": "code",
      "execution_count": null,
      "metadata": {
        "id": "xq7Rd9-_n1tG"
      },
      "outputs": [],
      "source": [
        "books = pd.read_csv('data/books.csv', error_bad_lines=False)"
      ]
    },
    {
      "cell_type": "code",
      "execution_count": null,
      "metadata": {
        "id": "wfbXisTAn1tG"
      },
      "outputs": [],
      "source": [
        "churn = pd.read_csv('data/churn.csv')"
      ]
    },
    {
      "cell_type": "code",
      "execution_count": null,
      "metadata": {
        "id": "b4MRpLbon1tG"
      },
      "outputs": [],
      "source": [
        "sat = pd.read_csv('data/assignment-grouping-and-pivoting-scores.csv')"
      ]
    },
    {
      "cell_type": "markdown",
      "metadata": {
        "id": "qEE_T-opn1tH"
      },
      "source": [
        "=========="
      ]
    },
    {
      "cell_type": "markdown",
      "metadata": {
        "id": "5nNZqlO9n1tH"
      },
      "source": [
        "##### Q. Without using pivot_table() function, can you reshape 'fifa.csv' dataset to get each player's weight & height"
      ]
    },
    {
      "cell_type": "code",
      "execution_count": null,
      "metadata": {
        "id": "MgY6hM5rn1tH"
      },
      "outputs": [],
      "source": [
        "fifa.head()"
      ]
    },
    {
      "cell_type": "code",
      "execution_count": null,
      "metadata": {
        "id": "nufJ8eVrn1tI"
      },
      "outputs": [],
      "source": [
        "fifa.T"
      ]
    },
    {
      "cell_type": "code",
      "execution_count": null,
      "metadata": {
        "id": "8oYPgTfOn1tI"
      },
      "outputs": [],
      "source": [
        "# Transposing DataFrames can be suitable in some particular situations\n",
        "fifa.set_index('short_name')[['height_cm', 'weight_kg']].T"
      ]
    },
    {
      "cell_type": "code",
      "execution_count": null,
      "metadata": {
        "id": "Wb2QXyLxn1tI"
      },
      "outputs": [],
      "source": []
    },
    {
      "cell_type": "markdown",
      "metadata": {
        "id": "kTUmPmnyn1tI"
      },
      "source": [
        "##### Q. Use the pivoting techniques to find the total number of reviews each author has in 'books.csv'"
      ]
    },
    {
      "cell_type": "code",
      "execution_count": null,
      "metadata": {
        "scrolled": false,
        "id": "IqpkCniEn1tI"
      },
      "outputs": [],
      "source": [
        "books.head(3)"
      ]
    },
    {
      "cell_type": "code",
      "execution_count": null,
      "metadata": {
        "id": "dSsRw_HTn1tJ"
      },
      "outputs": [],
      "source": [
        "books['authors'].value_counts()"
      ]
    },
    {
      "cell_type": "code",
      "execution_count": null,
      "metadata": {
        "id": "YRZeifWqn1tJ"
      },
      "outputs": [],
      "source": [
        "books['text_reviews_count'].value_counts()"
      ]
    },
    {
      "cell_type": "code",
      "execution_count": null,
      "metadata": {
        "scrolled": true,
        "id": "LJ9bNSLFn1tJ"
      },
      "outputs": [],
      "source": [
        "books.pivot_table(index='authors',values='text_reviews_count', aggfunc=np.sum).sort_values('text_reviews_count', ascending=False)"
      ]
    },
    {
      "cell_type": "code",
      "execution_count": null,
      "metadata": {
        "id": "f1HR_rzEn1tJ"
      },
      "outputs": [],
      "source": []
    },
    {
      "cell_type": "markdown",
      "metadata": {
        "id": "ecsl12MIn1tJ"
      },
      "source": [
        "##### Q. Indicate the difference between groupby() and pivot_table() in 'churn.csv' dataset"
      ]
    },
    {
      "cell_type": "code",
      "execution_count": null,
      "metadata": {
        "id": "u_8sk5sNn1tK"
      },
      "outputs": [],
      "source": [
        "churn.head()"
      ]
    },
    {
      "cell_type": "code",
      "execution_count": null,
      "metadata": {
        "id": "JUMv2A66n1tK"
      },
      "outputs": [],
      "source": [
        "churn.info()"
      ]
    },
    {
      "cell_type": "code",
      "execution_count": null,
      "metadata": {
        "id": "BbL5Eknmn1tK"
      },
      "outputs": [],
      "source": [
        "churn['State'].value_counts()"
      ]
    },
    {
      "cell_type": "code",
      "execution_count": null,
      "metadata": {
        "id": "l3Sc-_U3n1tK"
      },
      "outputs": [],
      "source": [
        "churn.groupby('State')['Total day calls'].sum().sort_values()"
      ]
    },
    {
      "cell_type": "code",
      "execution_count": null,
      "metadata": {
        "id": "wK33YphMn1tK"
      },
      "outputs": [],
      "source": [
        "churn.pivot_table(index='State', values=['Total day calls'], aggfunc='sum').sort_values('Total day calls')"
      ]
    },
    {
      "cell_type": "code",
      "execution_count": null,
      "metadata": {
        "id": "IkkrvN7Zn1tK"
      },
      "outputs": [],
      "source": []
    },
    {
      "cell_type": "markdown",
      "metadata": {
        "id": "SsPm9AAhn1tK"
      },
      "source": [
        "=========="
      ]
    },
    {
      "cell_type": "markdown",
      "metadata": {
        "id": "CNG3Cd7Yn1tL"
      },
      "source": [
        "### Homework"
      ]
    },
    {
      "cell_type": "markdown",
      "metadata": {
        "id": "gqiLBZg3n1tL"
      },
      "source": [
        "##### Q. Regarding 'assignment-grouping-and-pivoting-scores.csv' dataset, create a pivot table for total student enrollment across all boroughs"
      ]
    },
    {
      "cell_type": "code",
      "execution_count": null,
      "metadata": {
        "id": "iqeFCi5Bn1tL"
      },
      "outputs": [],
      "source": [
        "sat.head()"
      ]
    },
    {
      "cell_type": "code",
      "execution_count": null,
      "metadata": {
        "id": "F31q0S60n1tL"
      },
      "outputs": [],
      "source": [
        "sat.pivot_table('Student Enrollment','Borough', aggfunc='sum').sort_values('Student Enrollment')"
      ]
    },
    {
      "cell_type": "code",
      "execution_count": null,
      "metadata": {
        "id": "FwLqYwITn1tL"
      },
      "outputs": [],
      "source": [
        "sat.pivot_table('Student Enrollment','Borough', aggfunc='sum').idxmax()"
      ]
    },
    {
      "cell_type": "code",
      "execution_count": null,
      "metadata": {
        "id": "iiD5IZKPn1tM"
      },
      "outputs": [],
      "source": [
        "sat.pivot_table('Student Enrollment','Borough', aggfunc='sum').idxmin()"
      ]
    },
    {
      "cell_type": "markdown",
      "metadata": {
        "id": "0ipjFhdqn1tM"
      },
      "source": [
        "##### Q. Create a pivot table for all 'Queens Schools'  indicating the students scores in each SAT section in all schools"
      ]
    },
    {
      "cell_type": "code",
      "execution_count": null,
      "metadata": {
        "id": "CHPTLSpLn1tM"
      },
      "outputs": [],
      "source": [
        "sat[sat['Borough'] == 'Queens'].pivot_table('Score', 'School Name','SAT Section')"
      ]
    },
    {
      "cell_type": "code",
      "execution_count": null,
      "metadata": {
        "id": "Cl_kjY5Gn1tM"
      },
      "outputs": [],
      "source": []
    },
    {
      "cell_type": "markdown",
      "metadata": {
        "id": "Xq48f_q_n1tM"
      },
      "source": [
        "=========="
      ]
    },
    {
      "cell_type": "markdown",
      "metadata": {
        "id": "eimcej54n1tN"
      },
      "source": [
        "# GOOD LUCK!"
      ]
    }
  ],
  "metadata": {
    "kernelspec": {
      "display_name": "Python 3",
      "language": "python",
      "name": "python3"
    },
    "language_info": {
      "codemirror_mode": {
        "name": "ipython",
        "version": 3
      },
      "file_extension": ".py",
      "mimetype": "text/x-python",
      "name": "python",
      "nbconvert_exporter": "python",
      "pygments_lexer": "ipython3",
      "version": "3.8.3"
    },
    "colab": {
      "provenance": [],
      "include_colab_link": true
    }
  },
  "nbformat": 4,
  "nbformat_minor": 0
}