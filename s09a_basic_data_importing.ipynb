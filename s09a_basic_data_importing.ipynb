{
  "cells": [
    {
      "cell_type": "markdown",
      "metadata": {
        "id": "view-in-github",
        "colab_type": "text"
      },
      "source": [
        "<a href=\"https://colab.research.google.com/github/SARA3SAEED/DA-Mu/blob/main/s09a_basic_data_importing.ipynb\" target=\"_parent\"><img src=\"https://colab.research.google.com/assets/colab-badge.svg\" alt=\"Open In Colab\"/></a>"
      ]
    },
    {
      "cell_type": "markdown",
      "metadata": {
        "id": "5hmlvRWVPo0Q"
      },
      "source": [
        "# ADVANCED PANDAS: DATA IMPORTING & WEB SCRAPING"
      ]
    },
    {
      "cell_type": "markdown",
      "metadata": {
        "id": "nBnTcGXRPo0W"
      },
      "source": [
        "**Course Outline:**\n",
        "- ***Basic Data Importing***\n",
        "    - *Flat Files (.csv, .tsv, .txt)*\n",
        "    - *Excel Files (.xlsx)*\n",
        "    - *Other Files (.dta, .mat, .. etc)*\n",
        "    - *Basic Data Importing Exercises*\n",
        "- Importing Data from Databases\n",
        "    - SQL Crash Course\n",
        "    - Database Files (.db, .sqlite, .. etc)\n",
        "- Importing Data from the Internet\n",
        "    - HTML & CSS Crash Course\n",
        "    - Web Scraping Basics\n",
        "    - Working with JSON Data & APIs\n",
        "    - Case-study: Wuzzuf.com [Web Scraping]"
      ]
    },
    {
      "cell_type": "code",
      "execution_count": null,
      "metadata": {
        "id": "IQxUikHrPo0Y"
      },
      "outputs": [],
      "source": []
    },
    {
      "cell_type": "markdown",
      "metadata": {
        "id": "y-s6vsypPo0Z"
      },
      "source": [
        "### Importing Libraries"
      ]
    },
    {
      "cell_type": "code",
      "execution_count": null,
      "metadata": {
        "id": "s1UelcZ8Po0a"
      },
      "outputs": [],
      "source": [
        "import numpy as np\n",
        "import pandas as pd\n",
        "import matplotlib.pyplot as plt\n",
        "import seaborn as sns\n",
        "%matplotlib inline\n",
        "sns.set()"
      ]
    },
    {
      "cell_type": "code",
      "execution_count": null,
      "metadata": {
        "id": "t1PSK0nhPo0b"
      },
      "outputs": [],
      "source": []
    },
    {
      "cell_type": "markdown",
      "metadata": {
        "id": "9qiLRqqwPo0b"
      },
      "source": [
        "=========="
      ]
    },
    {
      "cell_type": "markdown",
      "metadata": {
        "id": "rdB4mCyQPo0c"
      },
      "source": [
        "## Basic Data Importing in Python"
      ]
    },
    {
      "cell_type": "markdown",
      "metadata": {
        "id": "-w-y7aO_Po0d"
      },
      "source": [
        "- Importing Data from Flat Files\n",
        "- Importing Data from Excel Files"
      ]
    },
    {
      "cell_type": "markdown",
      "metadata": {
        "id": "UagSPLW1Po0d"
      },
      "source": [
        "The Pandas I/O APIs: https://pandas.pydata.org/pandas-docs/stable/user_guide/io.html"
      ]
    },
    {
      "cell_type": "code",
      "execution_count": null,
      "metadata": {
        "id": "bLJO6AFvPo0e"
      },
      "outputs": [],
      "source": []
    },
    {
      "cell_type": "markdown",
      "metadata": {
        "id": "sbh3kishPo0e"
      },
      "source": [
        "### Importing Data from Flat Files (.csv, .tsv, .txt)"
      ]
    },
    {
      "cell_type": "code",
      "execution_count": null,
      "metadata": {
        "id": "_7USdGYcPo0e"
      },
      "outputs": [],
      "source": [
        "df_flat = pd.read_csv('data/titanic_sub.csv',\n",
        "                         skiprows=0,\n",
        "                         skipfooter=0,\n",
        "                         nrows=None,\n",
        "                         header=0,\n",
        "                         index_col=None,\n",
        "                         usecols=None,\n",
        "                         dtype={'Age': np.float64},\n",
        "                         error_bad_lines=False,\n",
        "                         warn_bad_lines=True)\n",
        "df_flat.head()"
      ]
    },
    {
      "cell_type": "code",
      "execution_count": null,
      "metadata": {
        "id": "YHyrNO3FPo0f"
      },
      "outputs": [],
      "source": [
        "df_flat = pd.read_table('data/titanic.tsv', sep='\\t')\n",
        "df_flat.head()"
      ]
    },
    {
      "cell_type": "code",
      "execution_count": null,
      "metadata": {
        "id": "z0CXdbnXPo0f"
      },
      "outputs": [],
      "source": [
        "df_flat = pd.read_csv('data/seaslug.txt', sep='\\t')\n",
        "df_flat.head()"
      ]
    },
    {
      "cell_type": "code",
      "execution_count": null,
      "metadata": {
        "id": "o3ZG2jlWPo0f"
      },
      "outputs": [],
      "source": [
        "df_flat.isna().sum()"
      ]
    },
    {
      "cell_type": "code",
      "execution_count": null,
      "metadata": {
        "id": "nab_5wEDPo0g"
      },
      "outputs": [],
      "source": []
    },
    {
      "cell_type": "markdown",
      "metadata": {
        "id": "rITFgkEUPo0g"
      },
      "source": [
        "### Importing Data from Excel Files (.xlsx)"
      ]
    },
    {
      "cell_type": "code",
      "execution_count": null,
      "metadata": {
        "scrolled": true,
        "id": "JqPapk3TPo0h"
      },
      "outputs": [],
      "source": [
        "df_excel = pd.read_excel('data/fcc-new-coder-survey.xlsx',\n",
        "                        skiprows=2,\n",
        "                        usecols='W:AB,AR,BG',\n",
        "                        sheet_name='2016',\n",
        "                        parse_dates=['Part1EndTime'],\n",
        "                        index_col=7)\n",
        "df_excel.head()"
      ]
    },
    {
      "cell_type": "code",
      "execution_count": null,
      "metadata": {
        "id": "vKJxhn8SPo0h"
      },
      "outputs": [],
      "source": []
    },
    {
      "cell_type": "markdown",
      "metadata": {
        "id": "YiQmkSTSPo0h"
      },
      "source": [
        "### Importing Data from Other Files"
      ]
    },
    {
      "cell_type": "markdown",
      "metadata": {
        "id": "VVVz15xPPo0h"
      },
      "source": [
        "##### Importing SAS Files"
      ]
    },
    {
      "cell_type": "code",
      "execution_count": null,
      "metadata": {
        "id": "ikvwWBy6Po0h"
      },
      "outputs": [],
      "source": [
        "df_sas = pd.read_sas('data/sales.sas7bdat')\n",
        "df_sas.head()"
      ]
    },
    {
      "cell_type": "code",
      "execution_count": null,
      "metadata": {
        "id": "U_vacaaRPo0i"
      },
      "outputs": [],
      "source": [
        "# pip install sas7bdat"
      ]
    },
    {
      "cell_type": "code",
      "execution_count": null,
      "metadata": {
        "id": "JwCn6S9UPo0i"
      },
      "outputs": [],
      "source": [
        "from sas7bdat import SAS7BDAT\n",
        "with SAS7BDAT('data/sales.sas7bdat') as file:\n",
        "    df_sas = file.to_data_frame()\n",
        "df_sas.head()"
      ]
    },
    {
      "cell_type": "code",
      "execution_count": null,
      "metadata": {
        "id": "96x7PaYNPo0i"
      },
      "outputs": [],
      "source": []
    },
    {
      "cell_type": "markdown",
      "metadata": {
        "id": "9i-n9KqPPo0i"
      },
      "source": [
        "##### Importing Statistics Data Files (.stata)"
      ]
    },
    {
      "cell_type": "code",
      "execution_count": null,
      "metadata": {
        "id": "-3J_wRDTPo0i"
      },
      "outputs": [],
      "source": [
        "df_stata = pd.read_stata('data/disarea.dta')\n",
        "df_stata"
      ]
    },
    {
      "cell_type": "code",
      "execution_count": null,
      "metadata": {
        "id": "Hb9WGjMvPo0i"
      },
      "outputs": [],
      "source": []
    },
    {
      "cell_type": "markdown",
      "metadata": {
        "id": "Wvtd-1dgPo0i"
      },
      "source": [
        "##### Importing a Matlab Files (.mat)"
      ]
    },
    {
      "cell_type": "code",
      "execution_count": null,
      "metadata": {
        "id": "A02DlzkxPo0j"
      },
      "outputs": [],
      "source": [
        "import scipy.io\n",
        "df_mat = scipy.io.loadmat('data/ja_data2.mat')\n",
        "df_mat"
      ]
    },
    {
      "cell_type": "code",
      "execution_count": null,
      "metadata": {
        "id": "r-LX3lfNPo0j"
      },
      "outputs": [],
      "source": []
    },
    {
      "cell_type": "markdown",
      "metadata": {
        "id": "Q_n7sBZmPo0j"
      },
      "source": [
        "=========="
      ]
    },
    {
      "cell_type": "markdown",
      "metadata": {
        "id": "Oe-ltqK8Po0j"
      },
      "source": [
        "# THANK YOU!"
      ]
    }
  ],
  "metadata": {
    "kernelspec": {
      "display_name": "Python 3",
      "language": "python",
      "name": "python3"
    },
    "language_info": {
      "codemirror_mode": {
        "name": "ipython",
        "version": 3
      },
      "file_extension": ".py",
      "mimetype": "text/x-python",
      "name": "python",
      "nbconvert_exporter": "python",
      "pygments_lexer": "ipython3",
      "version": "3.8.3"
    },
    "colab": {
      "provenance": [],
      "include_colab_link": true
    }
  },
  "nbformat": 4,
  "nbformat_minor": 0
}