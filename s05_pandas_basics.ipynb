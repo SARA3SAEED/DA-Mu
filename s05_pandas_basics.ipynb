{
  "cells": [
    {
      "cell_type": "markdown",
      "metadata": {
        "id": "view-in-github",
        "colab_type": "text"
      },
      "source": [
        "<a href=\"https://colab.research.google.com/github/SARA3SAEED/DA-Mu/blob/main/s05_pandas_basics.ipynb\" target=\"_parent\"><img src=\"https://colab.research.google.com/assets/colab-badge.svg\" alt=\"Open In Colab\"/></a>"
      ]
    },
    {
      "cell_type": "markdown",
      "metadata": {
        "id": "w0ufhDCVQUTm"
      },
      "source": [
        "# Pandas Basics"
      ]
    },
    {
      "cell_type": "markdown",
      "metadata": {
        "id": "DE0BkMkwQUTq"
      },
      "source": [
        "## Today's Outline:\n",
        "- Why Pandas?\n",
        "- **Pandas Functions**\n",
        "- [Practical Exercises](https://www.w3resource.com/python-exercises/pandas/index.php)\n",
        "- Case-study"
      ]
    },
    {
      "cell_type": "markdown",
      "metadata": {
        "id": "yPLICxTdQUTq"
      },
      "source": [
        "=========="
      ]
    },
    {
      "cell_type": "markdown",
      "metadata": {
        "id": "Zgpl3ag_QUTr"
      },
      "source": [
        "## Why Pandas\n",
        "- Python Data Analysis Library (Pandas)\n",
        "- Dealing with Tabular Data\n",
        "- Data Preprocessing & Manipulation\n",
        "- Data Analysis & Visualization"
      ]
    },
    {
      "cell_type": "markdown",
      "metadata": {
        "id": "H9cGJxDVQUTr"
      },
      "source": [
        "#### Pandas Documentation\n",
        "https://pandas.pydata.org/docs/index.html"
      ]
    },
    {
      "cell_type": "markdown",
      "metadata": {
        "id": "k7stI_6fQUTr"
      },
      "source": [
        "Download Cheat-Sheet from Here:\n",
        "- https://drive.google.com/file/d/1UHK8wtWbADvHKXFC937IS6MTnlSZC_zB/view\n",
        "- http://datacamp-community-prod.s3.amazonaws.com/dbed353d-2757-4617-8206-8767ab379ab3"
      ]
    },
    {
      "cell_type": "markdown",
      "metadata": {
        "id": "FRABW7v5QUTs"
      },
      "source": [
        "=========="
      ]
    },
    {
      "cell_type": "markdown",
      "metadata": {
        "id": "GkSctxGwQUTs"
      },
      "source": [
        "## Pandas Functions\n",
        "- Importing Pandas\n",
        "- Creating & Initializing Pandas Data Structures\n",
        "    - **Series** (1D Vector)\n",
        "    - **DataFrame** (2D Matrix)\n",
        "- Data I/O\n",
        "- Inspecting Properties\n",
        "- Indexing, Slicing, & Subsetting\n",
        "    - Labeled-based vs Position-based Indexing\n",
        "- Data Cleaning (Missing Data)\n",
        "- Data Manipulation\n",
        "    - Sorting, Grouping & Pivot Tables\n",
        "- Statistics"
      ]
    },
    {
      "cell_type": "code",
      "execution_count": null,
      "metadata": {
        "id": "uUXU9XUJQUTt"
      },
      "outputs": [],
      "source": []
    },
    {
      "cell_type": "markdown",
      "metadata": {
        "id": "nrEdjDPVQUTu"
      },
      "source": [
        "### Importing Pandas"
      ]
    },
    {
      "cell_type": "code",
      "execution_count": null,
      "metadata": {
        "id": "lGFLcdroQUTu"
      },
      "outputs": [],
      "source": [
        "import pandas"
      ]
    },
    {
      "cell_type": "code",
      "execution_count": null,
      "metadata": {
        "id": "B7wriyP0QUTv"
      },
      "outputs": [],
      "source": [
        "# Always try to use this convention\n",
        "import pandas as pd"
      ]
    },
    {
      "cell_type": "code",
      "execution_count": null,
      "metadata": {
        "id": "cTDYZQoHQUTv"
      },
      "outputs": [],
      "source": [
        "# You can select a specific function in Pandas\n",
        "from pandas import read_csv"
      ]
    },
    {
      "cell_type": "code",
      "execution_count": null,
      "metadata": {
        "id": "U991joUxQUTv"
      },
      "outputs": [],
      "source": [
        "# Also, you can import a specific function in any sub-module\n",
        "from pandas.plotting import boxplot"
      ]
    },
    {
      "cell_type": "code",
      "execution_count": null,
      "metadata": {
        "id": "KtATnTj1QUTv"
      },
      "outputs": [],
      "source": [
        "# we always use NumPy alongside with Pandas\n",
        "import numpy as np"
      ]
    },
    {
      "cell_type": "code",
      "execution_count": null,
      "metadata": {
        "id": "WDvp0M0ZQUTw"
      },
      "outputs": [],
      "source": []
    },
    {
      "cell_type": "markdown",
      "metadata": {
        "id": "PHJ_YBvqQUTw"
      },
      "source": [
        "=========="
      ]
    },
    {
      "cell_type": "markdown",
      "metadata": {
        "id": "p3qFtC1MQUTw"
      },
      "source": [
        "### Pandas Data Structures\n",
        "\n",
        "Pandas provides us with two main data structures:\n",
        "- **Series** (1D - NumPy-like with indecies, 1-row data, **s** is the convention for a Series object)\n",
        "- **DataFrame** (2D - Collection of Series, tabular data, **df** is the convention for a DataFrame object)"
      ]
    },
    {
      "cell_type": "markdown",
      "metadata": {
        "id": "0YyLpAV9QUTw"
      },
      "source": [
        "### Creating & Initializing Pandas Series"
      ]
    },
    {
      "cell_type": "markdown",
      "metadata": {
        "id": "Gf54_jLzQUTw"
      },
      "source": [
        "#### Using a List"
      ]
    },
    {
      "cell_type": "code",
      "execution_count": null,
      "metadata": {
        "scrolled": true,
        "id": "0Ai7MZohQUTw",
        "outputId": "1a066e86-448a-4a2f-d933-1cbd5d40f292"
      },
      "outputs": [
        {
          "data": {
            "text/plain": [
              "0    1\n",
              "1    2\n",
              "2    3\n",
              "3    4\n",
              "dtype: int64"
            ]
          },
          "execution_count": 6,
          "metadata": {},
          "output_type": "execute_result"
        }
      ],
      "source": [
        "# Creating a Series object using a List\n",
        "s = pd.Series([1,2,3,4])\n",
        "s"
      ]
    },
    {
      "cell_type": "code",
      "execution_count": null,
      "metadata": {
        "id": "BX68J6JCQUTx",
        "outputId": "7ce5e9b0-4e13-45b3-9c02-0adc63bd7adb"
      },
      "outputs": [
        {
          "data": {
            "text/plain": [
              "A    1\n",
              "B    2\n",
              "C    3\n",
              "D    4\n",
              "dtype: int64"
            ]
          },
          "execution_count": 7,
          "metadata": {},
          "output_type": "execute_result"
        }
      ],
      "source": [
        "# You can also specify the indecies\n",
        "s = pd.Series(data = [1,2,3,4], index = ['A','B','C','D'])\n",
        "s\n",
        "# Also, you can type this: s = pd.Series([1,2,3,4], ['A','B','C','D'])"
      ]
    },
    {
      "cell_type": "markdown",
      "metadata": {
        "id": "oZSvXOFtQUTx"
      },
      "source": [
        "#### Using a NumPy Array"
      ]
    },
    {
      "cell_type": "code",
      "execution_count": null,
      "metadata": {
        "id": "rJqwEExMQUTy",
        "outputId": "6204ad80-7f2a-4b52-f2f6-4696c5ee9622"
      },
      "outputs": [
        {
          "data": {
            "text/plain": [
              "0       2.0\n",
              "b       3.0\n",
              "True    1.0\n",
              "NaN     2.0\n",
              "dtype: float64"
            ]
          },
          "execution_count": 8,
          "metadata": {},
          "output_type": "execute_result"
        }
      ],
      "source": [
        "# Creating a Series object using a NumPy Array and a miscellaneous indecies\n",
        "s = pd.Series(np.random.randint(4,size=4), [0,'b',True,None], dtype=float)\n",
        "s"
      ]
    },
    {
      "cell_type": "markdown",
      "metadata": {
        "id": "RNilOEGWQUTy"
      },
      "source": [
        "#### Using a Dictionary"
      ]
    },
    {
      "cell_type": "code",
      "execution_count": null,
      "metadata": {
        "id": "mYknmhonQUTy",
        "outputId": "9fa10875-5299-416d-d275-d914439ba115"
      },
      "outputs": [
        {
          "data": {
            "text/plain": [
              "Ahmed      10\n",
              "Sara       20\n",
              "Mustafa    30\n",
              "dtype: int64"
            ]
          },
          "execution_count": 9,
          "metadata": {},
          "output_type": "execute_result"
        }
      ],
      "source": [
        "# Creating a Series object using a dictionary\n",
        "s = pd.Series({'Ahmed':10,'Sara':20,'Mustafa':30})\n",
        "s"
      ]
    },
    {
      "cell_type": "markdown",
      "metadata": {
        "id": "eU6FxPNSQUTz"
      },
      "source": [
        "#### Using a Scalar"
      ]
    },
    {
      "cell_type": "code",
      "execution_count": null,
      "metadata": {
        "id": "zrjRgFaNQUTz",
        "outputId": "2cbd8227-8e30-42c0-d201-30d54e377950"
      },
      "outputs": [
        {
          "data": {
            "text/plain": [
              "0    150\n",
              "1    150\n",
              "2    150\n",
              "3    150\n",
              "4    150\n",
              "dtype: int64"
            ]
          },
          "execution_count": 10,
          "metadata": {},
          "output_type": "execute_result"
        }
      ],
      "source": [
        "# Creating a Series object using a specific value\n",
        "s = pd.Series(150, index = np.arange(5))\n",
        "s"
      ]
    },
    {
      "cell_type": "code",
      "execution_count": null,
      "metadata": {
        "id": "sOrKum-0QUTz"
      },
      "outputs": [],
      "source": []
    },
    {
      "cell_type": "markdown",
      "metadata": {
        "id": "iQ2sC6dSQUTz"
      },
      "source": [
        "### Creating & Initializing Pandas DataFrame"
      ]
    },
    {
      "cell_type": "markdown",
      "metadata": {
        "id": "fcFZCqFPQUTz"
      },
      "source": [
        "#### Using a NumPy Array"
      ]
    },
    {
      "cell_type": "code",
      "execution_count": null,
      "metadata": {
        "id": "3KMzO5okQUTz",
        "outputId": "14c4f758-e9d8-4a8b-a1a5-555f9115399d"
      },
      "outputs": [
        {
          "data": {
            "text/html": [
              "<div>\n",
              "<style scoped>\n",
              "    .dataframe tbody tr th:only-of-type {\n",
              "        vertical-align: middle;\n",
              "    }\n",
              "\n",
              "    .dataframe tbody tr th {\n",
              "        vertical-align: top;\n",
              "    }\n",
              "\n",
              "    .dataframe thead th {\n",
              "        text-align: right;\n",
              "    }\n",
              "</style>\n",
              "<table border=\"1\" class=\"dataframe\">\n",
              "  <thead>\n",
              "    <tr style=\"text-align: right;\">\n",
              "      <th></th>\n",
              "      <th>col1</th>\n",
              "      <th>col2</th>\n",
              "      <th>col3</th>\n",
              "    </tr>\n",
              "  </thead>\n",
              "  <tbody>\n",
              "    <tr>\n",
              "      <th>row1</th>\n",
              "      <td>0.345322</td>\n",
              "      <td>0.930511</td>\n",
              "      <td>0.844175</td>\n",
              "    </tr>\n",
              "    <tr>\n",
              "      <th>row2</th>\n",
              "      <td>0.084815</td>\n",
              "      <td>0.308957</td>\n",
              "      <td>0.237295</td>\n",
              "    </tr>\n",
              "  </tbody>\n",
              "</table>\n",
              "</div>"
            ],
            "text/plain": [
              "          col1      col2      col3\n",
              "row1  0.345322  0.930511  0.844175\n",
              "row2  0.084815  0.308957  0.237295"
            ]
          },
          "execution_count": 11,
          "metadata": {},
          "output_type": "execute_result"
        }
      ],
      "source": [
        "# Creating a DataFrame object using a NumPy Array and specifing the rows and columns names\n",
        "df = pd.DataFrame(np.random.rand(2,3),\n",
        "                  index=['row1', 'row2'],\n",
        "                  columns=['col1','col2','col3'])\n",
        "df"
      ]
    },
    {
      "cell_type": "code",
      "execution_count": null,
      "metadata": {
        "id": "iko49KB8QUT0",
        "outputId": "5df2cb35-63ac-4f7c-fe64-6226de40c25e"
      },
      "outputs": [
        {
          "data": {
            "text/html": [
              "<div>\n",
              "<style scoped>\n",
              "    .dataframe tbody tr th:only-of-type {\n",
              "        vertical-align: middle;\n",
              "    }\n",
              "\n",
              "    .dataframe tbody tr th {\n",
              "        vertical-align: top;\n",
              "    }\n",
              "\n",
              "    .dataframe thead th {\n",
              "        text-align: right;\n",
              "    }\n",
              "</style>\n",
              "<table border=\"1\" class=\"dataframe\">\n",
              "  <thead>\n",
              "    <tr style=\"text-align: right;\">\n",
              "      <th></th>\n",
              "      <th>0</th>\n",
              "      <th>1</th>\n",
              "      <th>2</th>\n",
              "    </tr>\n",
              "  </thead>\n",
              "  <tbody>\n",
              "    <tr>\n",
              "      <th>0</th>\n",
              "      <td>3</td>\n",
              "      <td>2</td>\n",
              "      <td>1</td>\n",
              "    </tr>\n",
              "    <tr>\n",
              "      <th>1</th>\n",
              "      <td>6</td>\n",
              "      <td>3</td>\n",
              "      <td>2</td>\n",
              "    </tr>\n",
              "  </tbody>\n",
              "</table>\n",
              "</div>"
            ],
            "text/plain": [
              "   0  1  2\n",
              "0  3  2  1\n",
              "1  6  3  2"
            ]
          },
          "execution_count": 12,
          "metadata": {},
          "output_type": "execute_result"
        }
      ],
      "source": [
        "array_a = np.array([[3, 2, 1], [6, 3, 2]])\n",
        "df = pd.DataFrame(array_a)\n",
        "df"
      ]
    },
    {
      "cell_type": "markdown",
      "metadata": {
        "id": "YK1mNN19QUT0"
      },
      "source": [
        "#### Using a Dictionary"
      ]
    },
    {
      "cell_type": "code",
      "execution_count": null,
      "metadata": {
        "id": "u6h-qfmJQUT1",
        "outputId": "7a73ea0f-628d-4f37-e9d0-cc65b654d25f"
      },
      "outputs": [
        {
          "data": {
            "text/html": [
              "<div>\n",
              "<style scoped>\n",
              "    .dataframe tbody tr th:only-of-type {\n",
              "        vertical-align: middle;\n",
              "    }\n",
              "\n",
              "    .dataframe tbody tr th {\n",
              "        vertical-align: top;\n",
              "    }\n",
              "\n",
              "    .dataframe thead th {\n",
              "        text-align: right;\n",
              "    }\n",
              "</style>\n",
              "<table border=\"1\" class=\"dataframe\">\n",
              "  <thead>\n",
              "    <tr style=\"text-align: right;\">\n",
              "      <th></th>\n",
              "      <th>Country</th>\n",
              "      <th>Capital</th>\n",
              "      <th>Population</th>\n",
              "    </tr>\n",
              "  </thead>\n",
              "  <tbody>\n",
              "    <tr>\n",
              "      <th>0</th>\n",
              "      <td>Egypt</td>\n",
              "      <td>Cairo</td>\n",
              "      <td>21190846</td>\n",
              "    </tr>\n",
              "    <tr>\n",
              "      <th>1</th>\n",
              "      <td>Saudi Arabia</td>\n",
              "      <td>Riyadh</td>\n",
              "      <td>7846277</td>\n",
              "    </tr>\n",
              "    <tr>\n",
              "      <th>2</th>\n",
              "      <td>Qatar</td>\n",
              "      <td>Doha</td>\n",
              "      <td>2847528</td>\n",
              "    </tr>\n",
              "  </tbody>\n",
              "</table>\n",
              "</div>"
            ],
            "text/plain": [
              "        Country Capital  Population\n",
              "0         Egypt   Cairo    21190846\n",
              "1  Saudi Arabia  Riyadh     7846277\n",
              "2         Qatar    Doha     2847528"
            ]
          },
          "execution_count": 13,
          "metadata": {},
          "output_type": "execute_result"
        }
      ],
      "source": [
        "# Creating a DataFrame object using a Dictionary\n",
        "data = {'Country': ['Egypt', 'Saudi Arabia', 'Qatar'],\n",
        "        'Capital': ['Cairo', 'Riyadh', 'Doha'],\n",
        "        'Population': [21190846, 7846277, 2847528]}\n",
        "df = pd.DataFrame(data, columns=['Country', 'Capital', 'Population'])\n",
        "df"
      ]
    },
    {
      "cell_type": "markdown",
      "metadata": {
        "id": "2_dvAjEwQUT1"
      },
      "source": [
        "#### Using a Series Object"
      ]
    },
    {
      "cell_type": "code",
      "execution_count": null,
      "metadata": {
        "id": "Nz0wbtBaQUT1",
        "outputId": "48529fcb-5cec-4442-f8e3-007c588fbde1"
      },
      "outputs": [
        {
          "data": {
            "text/html": [
              "<div>\n",
              "<style scoped>\n",
              "    .dataframe tbody tr th:only-of-type {\n",
              "        vertical-align: middle;\n",
              "    }\n",
              "\n",
              "    .dataframe tbody tr th {\n",
              "        vertical-align: top;\n",
              "    }\n",
              "\n",
              "    .dataframe thead th {\n",
              "        text-align: right;\n",
              "    }\n",
              "</style>\n",
              "<table border=\"1\" class=\"dataframe\">\n",
              "  <thead>\n",
              "    <tr style=\"text-align: right;\">\n",
              "      <th></th>\n",
              "      <th>Student</th>\n",
              "      <th>Grade</th>\n",
              "    </tr>\n",
              "  </thead>\n",
              "  <tbody>\n",
              "    <tr>\n",
              "      <th>0</th>\n",
              "      <td>Ahmed</td>\n",
              "      <td>210</td>\n",
              "    </tr>\n",
              "    <tr>\n",
              "      <th>1</th>\n",
              "      <td>Sara</td>\n",
              "      <td>211</td>\n",
              "    </tr>\n",
              "    <tr>\n",
              "      <th>2</th>\n",
              "      <td>Mustafa</td>\n",
              "      <td>114</td>\n",
              "    </tr>\n",
              "    <tr>\n",
              "      <th>3</th>\n",
              "      <td>Fatma</td>\n",
              "      <td>178</td>\n",
              "    </tr>\n",
              "  </tbody>\n",
              "</table>\n",
              "</div>"
            ],
            "text/plain": [
              "   Student  Grade\n",
              "0    Ahmed    210\n",
              "1     Sara    211\n",
              "2  Mustafa    114\n",
              "3    Fatma    178"
            ]
          },
          "execution_count": 14,
          "metadata": {},
          "output_type": "execute_result"
        }
      ],
      "source": [
        "# Creating a DataFrame object using a Dictionary\n",
        "\n",
        "student_series = pd.Series(['Ahmed', 'Sara', 'Mustafa', 'Fatma'])\n",
        "grade_series = pd.Series([210, 211, 114, 178])\n",
        "\n",
        "df = pd.DataFrame({'Student': student_series, 'Grade': grade_series})\n",
        "\n",
        "df"
      ]
    },
    {
      "cell_type": "code",
      "execution_count": null,
      "metadata": {
        "id": "ZFGmjJJlQUT2"
      },
      "outputs": [],
      "source": []
    },
    {
      "cell_type": "markdown",
      "metadata": {
        "id": "ts7KGFzUQUT2"
      },
      "source": [
        "=========="
      ]
    },
    {
      "cell_type": "markdown",
      "metadata": {
        "id": "FW-dpiRuQUT_"
      },
      "source": [
        "### Pandas Data I/O"
      ]
    },
    {
      "cell_type": "markdown",
      "metadata": {
        "id": "JpzeAkGUQUT_"
      },
      "source": [
        "| Method / Attribute                       \t| Description                                                                    \t|\n",
        "|------------------------------------------\t|--------------------------------------------------------------------------------\t|\n",
        "| pd.read_csv(filename)                    \t| From a CSV file                                                                \t|\n",
        "| pd.read_table(filename)                  \t| From a delimited text file (like TSV)                                          \t|\n",
        "| pd.read_excel(filename)                  \t| From an Excel file                                                             \t|\n",
        "| pd.read_sql(query, connection_object)    \t| Read from a SQL table/database                                                 \t|\n",
        "| pd.read_json(json_string)                \t| Read from a JSON formatted string, URL or file.                                \t|\n",
        "| pd.read_html(url)                        \t| Parses an html URL, string or file and extracts tables to a list of dataframes \t|\n",
        "| pd.read_clipboard()                      \t| Takes the contents of your clipboard and passes it to read_table()             \t|\n",
        "| pd.DataFrame(dict)                       \t| From a dict, keys for columns names, values for data as lists                  \t|\n",
        "| df.to_csv(filename)                      \t| Write to a CSV file                                                            \t|\n",
        "| df.to_excel(filename)                    \t| Write to an Excel file                                                         \t|\n",
        "| df.to_sql(table_name, connection_object) \t| Write to a SQL table                                                           \t|\n",
        "| df.to_json(filename)                     \t| Write to a file in JSON format                                                 \t|"
      ]
    },
    {
      "cell_type": "markdown",
      "metadata": {
        "id": "fT-yWCZiQUT_"
      },
      "source": [
        "#### CSV Files"
      ]
    },
    {
      "cell_type": "code",
      "execution_count": null,
      "metadata": {
        "id": "WmE5WX4xQUT_",
        "outputId": "b9536be5-5c74-4dad-c4f6-04140ef37bc0"
      },
      "outputs": [
        {
          "data": {
            "text/html": [
              "<div>\n",
              "<style scoped>\n",
              "    .dataframe tbody tr th:only-of-type {\n",
              "        vertical-align: middle;\n",
              "    }\n",
              "\n",
              "    .dataframe tbody tr th {\n",
              "        vertical-align: top;\n",
              "    }\n",
              "\n",
              "    .dataframe thead th {\n",
              "        text-align: right;\n",
              "    }\n",
              "</style>\n",
              "<table border=\"1\" class=\"dataframe\">\n",
              "  <thead>\n",
              "    <tr style=\"text-align: right;\">\n",
              "      <th></th>\n",
              "      <th>a</th>\n",
              "      <th>b</th>\n",
              "      <th>c</th>\n",
              "      <th>d</th>\n",
              "    </tr>\n",
              "  </thead>\n",
              "  <tbody>\n",
              "    <tr>\n",
              "      <th>0</th>\n",
              "      <td>0</td>\n",
              "      <td>1</td>\n",
              "      <td>2</td>\n",
              "      <td>3</td>\n",
              "    </tr>\n",
              "    <tr>\n",
              "      <th>1</th>\n",
              "      <td>4</td>\n",
              "      <td>5</td>\n",
              "      <td>6</td>\n",
              "      <td>7</td>\n",
              "    </tr>\n",
              "    <tr>\n",
              "      <th>2</th>\n",
              "      <td>8</td>\n",
              "      <td>9</td>\n",
              "      <td>10</td>\n",
              "      <td>11</td>\n",
              "    </tr>\n",
              "    <tr>\n",
              "      <th>3</th>\n",
              "      <td>12</td>\n",
              "      <td>13</td>\n",
              "      <td>14</td>\n",
              "      <td>15</td>\n",
              "    </tr>\n",
              "  </tbody>\n",
              "</table>\n",
              "</div>"
            ],
            "text/plain": [
              "    a   b   c   d\n",
              "0   0   1   2   3\n",
              "1   4   5   6   7\n",
              "2   8   9  10  11\n",
              "3  12  13  14  15"
            ]
          },
          "execution_count": 15,
          "metadata": {},
          "output_type": "execute_result"
        }
      ],
      "source": [
        "# Importing a csv file\n",
        "df_csv = pd.read_csv('data/pandas-io.csv')\n",
        "df_csv"
      ]
    },
    {
      "cell_type": "code",
      "execution_count": null,
      "metadata": {
        "id": "KhFRhuJvQUT_",
        "outputId": "b44bfcab-6899-48b3-bb1e-a39b4ee5d7a5"
      },
      "outputs": [
        {
          "data": {
            "text/html": [
              "<div>\n",
              "<style scoped>\n",
              "    .dataframe tbody tr th:only-of-type {\n",
              "        vertical-align: middle;\n",
              "    }\n",
              "\n",
              "    .dataframe tbody tr th {\n",
              "        vertical-align: top;\n",
              "    }\n",
              "\n",
              "    .dataframe thead th {\n",
              "        text-align: right;\n",
              "    }\n",
              "</style>\n",
              "<table border=\"1\" class=\"dataframe\">\n",
              "  <thead>\n",
              "    <tr style=\"text-align: right;\">\n",
              "      <th></th>\n",
              "      <th>a</th>\n",
              "      <th>b</th>\n",
              "      <th>c</th>\n",
              "      <th>d</th>\n",
              "    </tr>\n",
              "  </thead>\n",
              "  <tbody>\n",
              "    <tr>\n",
              "      <th>0</th>\n",
              "      <td>0</td>\n",
              "      <td>1</td>\n",
              "      <td>2</td>\n",
              "      <td>3</td>\n",
              "    </tr>\n",
              "    <tr>\n",
              "      <th>1</th>\n",
              "      <td>4</td>\n",
              "      <td>5</td>\n",
              "      <td>6</td>\n",
              "      <td>7</td>\n",
              "    </tr>\n",
              "    <tr>\n",
              "      <th>2</th>\n",
              "      <td>8</td>\n",
              "      <td>9</td>\n",
              "      <td>10</td>\n",
              "      <td>11</td>\n",
              "    </tr>\n",
              "    <tr>\n",
              "      <th>3</th>\n",
              "      <td>12</td>\n",
              "      <td>13</td>\n",
              "      <td>14</td>\n",
              "      <td>15</td>\n",
              "    </tr>\n",
              "  </tbody>\n",
              "</table>\n",
              "</div>"
            ],
            "text/plain": [
              "    a   b   c   d\n",
              "0   0   1   2   3\n",
              "1   4   5   6   7\n",
              "2   8   9  10  11\n",
              "3  12  13  14  15"
            ]
          },
          "execution_count": 16,
          "metadata": {},
          "output_type": "execute_result"
        }
      ],
      "source": [
        "# Exporting a DataFrame to a .csv file\n",
        "df_csv.to_csv('data/df-to-csv.csv',index=False)\n",
        "\n",
        "# Reading the .csv file again\n",
        "df_csv = pd.read_csv('data/df-to-csv.csv')\n",
        "df_csv"
      ]
    },
    {
      "cell_type": "code",
      "execution_count": null,
      "metadata": {
        "id": "GBLr4y6PQUUA"
      },
      "outputs": [],
      "source": []
    },
    {
      "cell_type": "markdown",
      "metadata": {
        "id": "Iuykm87GQUUA"
      },
      "source": [
        "#### Excel Files"
      ]
    },
    {
      "cell_type": "code",
      "execution_count": null,
      "metadata": {
        "id": "mWthklomQUUA",
        "outputId": "5efd72fb-f1ab-41d7-da37-5d964cfdc099"
      },
      "outputs": [
        {
          "data": {
            "text/html": [
              "<div>\n",
              "<style scoped>\n",
              "    .dataframe tbody tr th:only-of-type {\n",
              "        vertical-align: middle;\n",
              "    }\n",
              "\n",
              "    .dataframe tbody tr th {\n",
              "        vertical-align: top;\n",
              "    }\n",
              "\n",
              "    .dataframe thead th {\n",
              "        text-align: right;\n",
              "    }\n",
              "</style>\n",
              "<table border=\"1\" class=\"dataframe\">\n",
              "  <thead>\n",
              "    <tr style=\"text-align: right;\">\n",
              "      <th></th>\n",
              "      <th>Unnamed: 0</th>\n",
              "      <th>a</th>\n",
              "      <th>b</th>\n",
              "      <th>c</th>\n",
              "      <th>d</th>\n",
              "    </tr>\n",
              "  </thead>\n",
              "  <tbody>\n",
              "    <tr>\n",
              "      <th>0</th>\n",
              "      <td>0</td>\n",
              "      <td>0</td>\n",
              "      <td>1</td>\n",
              "      <td>2</td>\n",
              "      <td>3</td>\n",
              "    </tr>\n",
              "    <tr>\n",
              "      <th>1</th>\n",
              "      <td>1</td>\n",
              "      <td>4</td>\n",
              "      <td>5</td>\n",
              "      <td>6</td>\n",
              "      <td>7</td>\n",
              "    </tr>\n",
              "    <tr>\n",
              "      <th>2</th>\n",
              "      <td>2</td>\n",
              "      <td>8</td>\n",
              "      <td>9</td>\n",
              "      <td>10</td>\n",
              "      <td>11</td>\n",
              "    </tr>\n",
              "    <tr>\n",
              "      <th>3</th>\n",
              "      <td>3</td>\n",
              "      <td>12</td>\n",
              "      <td>13</td>\n",
              "      <td>14</td>\n",
              "      <td>15</td>\n",
              "    </tr>\n",
              "  </tbody>\n",
              "</table>\n",
              "</div>"
            ],
            "text/plain": [
              "   Unnamed: 0   a   b   c   d\n",
              "0           0   0   1   2   3\n",
              "1           1   4   5   6   7\n",
              "2           2   8   9  10  11\n",
              "3           3  12  13  14  15"
            ]
          },
          "execution_count": 17,
          "metadata": {},
          "output_type": "execute_result"
        }
      ],
      "source": [
        "# Importing an excel file\n",
        "df_xlsx = pd.read_excel('data/pandas-io.xlsx',sheet_name='Sheet1')\n",
        "df_xlsx"
      ]
    },
    {
      "cell_type": "code",
      "execution_count": null,
      "metadata": {
        "id": "-jlVPDbRQUUA",
        "outputId": "4bd6084e-babd-4bda-8051-209d206502fd"
      },
      "outputs": [
        {
          "data": {
            "text/html": [
              "<div>\n",
              "<style scoped>\n",
              "    .dataframe tbody tr th:only-of-type {\n",
              "        vertical-align: middle;\n",
              "    }\n",
              "\n",
              "    .dataframe tbody tr th {\n",
              "        vertical-align: top;\n",
              "    }\n",
              "\n",
              "    .dataframe thead th {\n",
              "        text-align: right;\n",
              "    }\n",
              "</style>\n",
              "<table border=\"1\" class=\"dataframe\">\n",
              "  <thead>\n",
              "    <tr style=\"text-align: right;\">\n",
              "      <th></th>\n",
              "      <th>Unnamed: 0</th>\n",
              "      <th>a</th>\n",
              "      <th>b</th>\n",
              "      <th>c</th>\n",
              "      <th>d</th>\n",
              "    </tr>\n",
              "  </thead>\n",
              "  <tbody>\n",
              "    <tr>\n",
              "      <th>0</th>\n",
              "      <td>0</td>\n",
              "      <td>0</td>\n",
              "      <td>1</td>\n",
              "      <td>2</td>\n",
              "      <td>3</td>\n",
              "    </tr>\n",
              "    <tr>\n",
              "      <th>1</th>\n",
              "      <td>1</td>\n",
              "      <td>4</td>\n",
              "      <td>5</td>\n",
              "      <td>6</td>\n",
              "      <td>7</td>\n",
              "    </tr>\n",
              "    <tr>\n",
              "      <th>2</th>\n",
              "      <td>2</td>\n",
              "      <td>8</td>\n",
              "      <td>9</td>\n",
              "      <td>10</td>\n",
              "      <td>11</td>\n",
              "    </tr>\n",
              "    <tr>\n",
              "      <th>3</th>\n",
              "      <td>3</td>\n",
              "      <td>12</td>\n",
              "      <td>13</td>\n",
              "      <td>14</td>\n",
              "      <td>15</td>\n",
              "    </tr>\n",
              "  </tbody>\n",
              "</table>\n",
              "</div>"
            ],
            "text/plain": [
              "   Unnamed: 0   a   b   c   d\n",
              "0           0   0   1   2   3\n",
              "1           1   4   5   6   7\n",
              "2           2   8   9  10  11\n",
              "3           3  12  13  14  15"
            ]
          },
          "execution_count": 18,
          "metadata": {},
          "output_type": "execute_result"
        }
      ],
      "source": [
        "# Exporting a DataFrame to an excel file\n",
        "df_xlsx.to_excel('data/df-to-excel.xlsx', index=False)\n",
        "\n",
        "# Reading the .xlsx file again\n",
        "df_xlsx = pd.read_excel('data/df-to-excel.xlsx')\n",
        "df_xlsx"
      ]
    },
    {
      "cell_type": "code",
      "execution_count": null,
      "metadata": {
        "id": "5UVS60tHQUUA"
      },
      "outputs": [],
      "source": []
    },
    {
      "cell_type": "markdown",
      "metadata": {
        "id": "9BH8-e8CQUUA"
      },
      "source": [
        "#### HTML Files"
      ]
    },
    {
      "cell_type": "markdown",
      "metadata": {
        "id": "VZFD0ZnOQUUA"
      },
      "source": [
        "Let's get a full table of Aamer Khan filmography from Wikipedia:\n",
        "https://en.wikipedia.org/wiki/Aamir_Khan_filmography"
      ]
    },
    {
      "cell_type": "code",
      "execution_count": null,
      "metadata": {
        "id": "Xv5wAFoIQUUB",
        "outputId": "9b9c4124-efa7-4d44-c70c-8779fc769f01"
      },
      "outputs": [
        {
          "data": {
            "text/html": [
              "<div>\n",
              "<style scoped>\n",
              "    .dataframe tbody tr th:only-of-type {\n",
              "        vertical-align: middle;\n",
              "    }\n",
              "\n",
              "    .dataframe tbody tr th {\n",
              "        vertical-align: top;\n",
              "    }\n",
              "\n",
              "    .dataframe thead tr th {\n",
              "        text-align: left;\n",
              "    }\n",
              "</style>\n",
              "<table border=\"1\" class=\"dataframe\">\n",
              "  <thead>\n",
              "    <tr>\n",
              "      <th></th>\n",
              "      <th>Title</th>\n",
              "      <th>Year</th>\n",
              "      <th colspan=\"4\" halign=\"left\">Credited as</th>\n",
              "      <th>Notes</th>\n",
              "      <th>Ref.</th>\n",
              "    </tr>\n",
              "    <tr>\n",
              "      <th></th>\n",
              "      <th>Title</th>\n",
              "      <th>Year</th>\n",
              "      <th>Actor</th>\n",
              "      <th>Producer</th>\n",
              "      <th>Other</th>\n",
              "      <th>Role</th>\n",
              "      <th>Notes</th>\n",
              "      <th>Ref.</th>\n",
              "    </tr>\n",
              "  </thead>\n",
              "  <tbody>\n",
              "    <tr>\n",
              "      <th>0</th>\n",
              "      <td>Yaadon Ki Baaraat</td>\n",
              "      <td>1973</td>\n",
              "      <td>Yes</td>\n",
              "      <td>NaN</td>\n",
              "      <td>NaN</td>\n",
              "      <td>Young Ratan[II]</td>\n",
              "      <td>Minor role</td>\n",
              "      <td>[32]</td>\n",
              "    </tr>\n",
              "    <tr>\n",
              "      <th>1</th>\n",
              "      <td>Madhosh</td>\n",
              "      <td>1974</td>\n",
              "      <td>Yes</td>\n",
              "      <td>NaN</td>\n",
              "      <td>NaN</td>\n",
              "      <td>Young Raj[III]</td>\n",
              "      <td>Minor role</td>\n",
              "      <td>[32]</td>\n",
              "    </tr>\n",
              "    <tr>\n",
              "      <th>2</th>\n",
              "      <td>Paranoia</td>\n",
              "      <td>1983</td>\n",
              "      <td>Yes</td>\n",
              "      <td>NaN</td>\n",
              "      <td>Assistant director</td>\n",
              "      <td>Unknown</td>\n",
              "      <td>Short film</td>\n",
              "      <td>[33][34]</td>\n",
              "    </tr>\n",
              "    <tr>\n",
              "      <th>3</th>\n",
              "      <td>Manzil Manzil</td>\n",
              "      <td>1984</td>\n",
              "      <td>NaN</td>\n",
              "      <td>NaN</td>\n",
              "      <td>Assistant director</td>\n",
              "      <td>NaN</td>\n",
              "      <td>NaN</td>\n",
              "      <td>[4]</td>\n",
              "    </tr>\n",
              "    <tr>\n",
              "      <th>4</th>\n",
              "      <td>Holi</td>\n",
              "      <td>1984</td>\n",
              "      <td>Yes</td>\n",
              "      <td>NaN</td>\n",
              "      <td>NaN</td>\n",
              "      <td>Madan Sharma</td>\n",
              "      <td>NaN</td>\n",
              "      <td>[33]</td>\n",
              "    </tr>\n",
              "    <tr>\n",
              "      <th>...</th>\n",
              "      <td>...</td>\n",
              "      <td>...</td>\n",
              "      <td>...</td>\n",
              "      <td>...</td>\n",
              "      <td>...</td>\n",
              "      <td>...</td>\n",
              "      <td>...</td>\n",
              "      <td>...</td>\n",
              "    </tr>\n",
              "    <tr>\n",
              "      <th>56</th>\n",
              "      <td>Dangal</td>\n",
              "      <td>2016</td>\n",
              "      <td>Yes</td>\n",
              "      <td>Yes</td>\n",
              "      <td>Playback singer</td>\n",
              "      <td>Mahavir Singh Phogat</td>\n",
              "      <td>Filmfare Award for Best Actor Filmfare Award f...</td>\n",
              "      <td>[90][91]</td>\n",
              "    </tr>\n",
              "    <tr>\n",
              "      <th>57</th>\n",
              "      <td>Secret Superstar</td>\n",
              "      <td>2017</td>\n",
              "      <td>Yes</td>\n",
              "      <td>Yes</td>\n",
              "      <td>NaN</td>\n",
              "      <td>Shakti Kumar</td>\n",
              "      <td>Nominated—Filmfare Award for Best Supporting A...</td>\n",
              "      <td>[92] [93]</td>\n",
              "    </tr>\n",
              "    <tr>\n",
              "      <th>58</th>\n",
              "      <td>Thugs of Hindostan</td>\n",
              "      <td>2018</td>\n",
              "      <td>Yes</td>\n",
              "      <td>NaN</td>\n",
              "      <td>NaN</td>\n",
              "      <td>Firangi Mallah</td>\n",
              "      <td>NaN</td>\n",
              "      <td>[94]</td>\n",
              "    </tr>\n",
              "    <tr>\n",
              "      <th>59</th>\n",
              "      <td>Laal Singh Chaddha</td>\n",
              "      <td>2021</td>\n",
              "      <td>Yes</td>\n",
              "      <td>Yes</td>\n",
              "      <td>NaN</td>\n",
              "      <td>Laal Singh Chaddha</td>\n",
              "      <td>NaN</td>\n",
              "      <td>[95][96]</td>\n",
              "    </tr>\n",
              "    <tr>\n",
              "      <th>60</th>\n",
              "      <td>Mogul</td>\n",
              "      <td>2022</td>\n",
              "      <td>Yes</td>\n",
              "      <td>Yes</td>\n",
              "      <td>NaN</td>\n",
              "      <td>Gulshan Kumar</td>\n",
              "      <td>NaN</td>\n",
              "      <td>NaN</td>\n",
              "    </tr>\n",
              "  </tbody>\n",
              "</table>\n",
              "<p>61 rows × 8 columns</p>\n",
              "</div>"
            ],
            "text/plain": [
              "                 Title  Year Credited as                               \\\n",
              "                 Title  Year       Actor Producer               Other   \n",
              "0    Yaadon Ki Baaraat  1973         Yes      NaN                 NaN   \n",
              "1              Madhosh  1974         Yes      NaN                 NaN   \n",
              "2             Paranoia  1983         Yes      NaN  Assistant director   \n",
              "3        Manzil Manzil  1984         NaN      NaN  Assistant director   \n",
              "4                 Holi  1984         Yes      NaN                 NaN   \n",
              "..                 ...   ...         ...      ...                 ...   \n",
              "56              Dangal  2016         Yes      Yes     Playback singer   \n",
              "57    Secret Superstar  2017         Yes      Yes                 NaN   \n",
              "58  Thugs of Hindostan  2018         Yes      NaN                 NaN   \n",
              "59  Laal Singh Chaddha  2021         Yes      Yes                 NaN   \n",
              "60               Mogul  2022         Yes      Yes                 NaN   \n",
              "\n",
              "                                                                      Notes  \\\n",
              "                    Role                                              Notes   \n",
              "0        Young Ratan[II]                                         Minor role   \n",
              "1         Young Raj[III]                                         Minor role   \n",
              "2                Unknown                                         Short film   \n",
              "3                    NaN                                                NaN   \n",
              "4           Madan Sharma                                                NaN   \n",
              "..                   ...                                                ...   \n",
              "56  Mahavir Singh Phogat  Filmfare Award for Best Actor Filmfare Award f...   \n",
              "57          Shakti Kumar  Nominated—Filmfare Award for Best Supporting A...   \n",
              "58        Firangi Mallah                                                NaN   \n",
              "59    Laal Singh Chaddha                                                NaN   \n",
              "60         Gulshan Kumar                                                NaN   \n",
              "\n",
              "         Ref.  \n",
              "         Ref.  \n",
              "0        [32]  \n",
              "1        [32]  \n",
              "2    [33][34]  \n",
              "3         [4]  \n",
              "4        [33]  \n",
              "..        ...  \n",
              "56   [90][91]  \n",
              "57  [92] [93]  \n",
              "58       [94]  \n",
              "59   [95][96]  \n",
              "60        NaN  \n",
              "\n",
              "[61 rows x 8 columns]"
            ]
          },
          "execution_count": 19,
          "metadata": {},
          "output_type": "execute_result"
        }
      ],
      "source": [
        "# Importing a table from an HTML file\n",
        "df_html = pd.read_html('https://en.wikipedia.org/wiki/Aamir_Khan_filmography')\n",
        "df_html[1]"
      ]
    },
    {
      "cell_type": "code",
      "execution_count": null,
      "metadata": {
        "id": "cd03kGEbQUUB"
      },
      "outputs": [],
      "source": []
    },
    {
      "cell_type": "markdown",
      "metadata": {
        "id": "zqTgYvc5QUUB"
      },
      "source": [
        "#### SQL Database Files"
      ]
    },
    {
      "cell_type": "code",
      "execution_count": null,
      "metadata": {
        "id": "cmH8BVArQUUB",
        "outputId": "08576e71-c3b3-494c-e129-bce2776eb088"
      },
      "outputs": [
        {
          "data": {
            "text/html": [
              "<div>\n",
              "<style scoped>\n",
              "    .dataframe tbody tr th:only-of-type {\n",
              "        vertical-align: middle;\n",
              "    }\n",
              "\n",
              "    .dataframe tbody tr th {\n",
              "        vertical-align: top;\n",
              "    }\n",
              "\n",
              "    .dataframe thead th {\n",
              "        text-align: right;\n",
              "    }\n",
              "</style>\n",
              "<table border=\"1\" class=\"dataframe\">\n",
              "  <thead>\n",
              "    <tr style=\"text-align: right;\">\n",
              "      <th></th>\n",
              "      <th>index</th>\n",
              "      <th>a</th>\n",
              "      <th>b</th>\n",
              "      <th>c</th>\n",
              "      <th>d</th>\n",
              "    </tr>\n",
              "  </thead>\n",
              "  <tbody>\n",
              "    <tr>\n",
              "      <th>0</th>\n",
              "      <td>0</td>\n",
              "      <td>0</td>\n",
              "      <td>1</td>\n",
              "      <td>2</td>\n",
              "      <td>3</td>\n",
              "    </tr>\n",
              "    <tr>\n",
              "      <th>1</th>\n",
              "      <td>1</td>\n",
              "      <td>4</td>\n",
              "      <td>5</td>\n",
              "      <td>6</td>\n",
              "      <td>7</td>\n",
              "    </tr>\n",
              "    <tr>\n",
              "      <th>2</th>\n",
              "      <td>2</td>\n",
              "      <td>8</td>\n",
              "      <td>9</td>\n",
              "      <td>10</td>\n",
              "      <td>11</td>\n",
              "    </tr>\n",
              "    <tr>\n",
              "      <th>3</th>\n",
              "      <td>3</td>\n",
              "      <td>12</td>\n",
              "      <td>13</td>\n",
              "      <td>14</td>\n",
              "      <td>15</td>\n",
              "    </tr>\n",
              "  </tbody>\n",
              "</table>\n",
              "</div>"
            ],
            "text/plain": [
              "   index   a   b   c   d\n",
              "0      0   0   1   2   3\n",
              "1      1   4   5   6   7\n",
              "2      2   8   9  10  11\n",
              "3      3  12  13  14  15"
            ]
          },
          "execution_count": 20,
          "metadata": {},
          "output_type": "execute_result"
        }
      ],
      "source": [
        "# Importing the sql engine\n",
        "from sqlalchemy import create_engine\n",
        "\n",
        "# Let's create a temporary database in the memory\n",
        "engine = create_engine('sqlite:///:memory:')\n",
        "\n",
        "# Convert your DataFrame into an sql database\n",
        "df_csv.to_sql('data', engine)\n",
        "\n",
        "# Importing the sql database file\n",
        "sql_df = pd.read_sql('SELECT * FROM data',con=engine)\n",
        "\n",
        "sql_df"
      ]
    },
    {
      "cell_type": "code",
      "execution_count": null,
      "metadata": {
        "id": "ezfRmobEQUUB"
      },
      "outputs": [],
      "source": []
    },
    {
      "cell_type": "markdown",
      "metadata": {
        "id": "NQN7Km6zQUUB"
      },
      "source": [
        "=========="
      ]
    },
    {
      "cell_type": "markdown",
      "metadata": {
        "id": "-Vp9cDnzQUUB"
      },
      "source": [
        "### Inspecting Properties Using the Common Attributes of Pandas"
      ]
    },
    {
      "cell_type": "markdown",
      "metadata": {
        "id": "AY6xkRn5QUUC"
      },
      "source": [
        "| Method / Attribute               \t| Description                              \t|\n",
        "|----------------------------------\t|------------------------------------------\t|\n",
        "| df.head(n)                       \t| First n rows of the DataFrame            \t|\n",
        "| df.tail(n)                       \t| Last n rows of the DataFrame             \t|\n",
        "| df.shape                         \t| Number of rows and columns               \t|\n",
        "| df.info()                        \t| Index, Datatype and Memory information   \t|\n",
        "| df.describe()                    \t| Summary statistics for numerical columns \t|\n",
        "| s.value_counts(dropna=False)     \t| View unique values and counts            \t|\n",
        "| df.apply(pd.Series.value_counts) \t| Unique values and counts for all columns \t|"
      ]
    },
    {
      "cell_type": "markdown",
      "metadata": {
        "id": "yJ7hqbVaQUUC"
      },
      "source": [
        "#### DataFrame Attributes"
      ]
    },
    {
      "cell_type": "code",
      "execution_count": null,
      "metadata": {
        "id": "donRwqnYQUUC",
        "outputId": "08fa555b-4e2e-4e54-e4b1-4d99efe30b80"
      },
      "outputs": [
        {
          "data": {
            "text/html": [
              "<div>\n",
              "<style scoped>\n",
              "    .dataframe tbody tr th:only-of-type {\n",
              "        vertical-align: middle;\n",
              "    }\n",
              "\n",
              "    .dataframe tbody tr th {\n",
              "        vertical-align: top;\n",
              "    }\n",
              "\n",
              "    .dataframe thead th {\n",
              "        text-align: right;\n",
              "    }\n",
              "</style>\n",
              "<table border=\"1\" class=\"dataframe\">\n",
              "  <thead>\n",
              "    <tr style=\"text-align: right;\">\n",
              "      <th></th>\n",
              "      <th>W</th>\n",
              "      <th>X</th>\n",
              "      <th>Y</th>\n",
              "      <th>Z</th>\n",
              "    </tr>\n",
              "  </thead>\n",
              "  <tbody>\n",
              "    <tr>\n",
              "      <th>A</th>\n",
              "      <td>0.516399</td>\n",
              "      <td>0.570668</td>\n",
              "      <td>0.028474</td>\n",
              "      <td>0.171522</td>\n",
              "    </tr>\n",
              "    <tr>\n",
              "      <th>B</th>\n",
              "      <td>0.685277</td>\n",
              "      <td>0.833897</td>\n",
              "      <td>0.306966</td>\n",
              "      <td>0.893613</td>\n",
              "    </tr>\n",
              "    <tr>\n",
              "      <th>C</th>\n",
              "      <td>0.721544</td>\n",
              "      <td>0.189939</td>\n",
              "      <td>0.554228</td>\n",
              "      <td>0.352132</td>\n",
              "    </tr>\n",
              "    <tr>\n",
              "      <th>D</th>\n",
              "      <td>0.181892</td>\n",
              "      <td>0.785602</td>\n",
              "      <td>0.965483</td>\n",
              "      <td>0.232354</td>\n",
              "    </tr>\n",
              "    <tr>\n",
              "      <th>E</th>\n",
              "      <td>0.083561</td>\n",
              "      <td>0.603548</td>\n",
              "      <td>0.728993</td>\n",
              "      <td>0.276239</td>\n",
              "    </tr>\n",
              "    <tr>\n",
              "      <th>F</th>\n",
              "      <td>0.685306</td>\n",
              "      <td>0.517867</td>\n",
              "      <td>0.048485</td>\n",
              "      <td>0.137869</td>\n",
              "    </tr>\n",
              "  </tbody>\n",
              "</table>\n",
              "</div>"
            ],
            "text/plain": [
              "          W         X         Y         Z\n",
              "A  0.516399  0.570668  0.028474  0.171522\n",
              "B  0.685277  0.833897  0.306966  0.893613\n",
              "C  0.721544  0.189939  0.554228  0.352132\n",
              "D  0.181892  0.785602  0.965483  0.232354\n",
              "E  0.083561  0.603548  0.728993  0.276239\n",
              "F  0.685306  0.517867  0.048485  0.137869"
            ]
          },
          "execution_count": 21,
          "metadata": {},
          "output_type": "execute_result"
        }
      ],
      "source": [
        "# Let's define a DataFrame to inspect its properties\n",
        "np.random.seed(101)\n",
        "df = pd.DataFrame(np.random.rand(6,4),\n",
        "                  index=['A','B','C','D','E','F'],\n",
        "                  columns=['W','X','Y','Z'])\n",
        "df"
      ]
    },
    {
      "cell_type": "code",
      "execution_count": null,
      "metadata": {
        "id": "hXBtLZdiQUUC",
        "outputId": "3f6ea3b2-85c2-4deb-bd50-cb067dbb6c90"
      },
      "outputs": [
        {
          "name": "stdout",
          "output_type": "stream",
          "text": [
            "<class 'pandas.core.frame.DataFrame'>\n",
            "Index: 6 entries, A to F\n",
            "Data columns (total 4 columns):\n",
            " #   Column  Non-Null Count  Dtype  \n",
            "---  ------  --------------  -----  \n",
            " 0   W       6 non-null      float64\n",
            " 1   X       6 non-null      float64\n",
            " 2   Y       6 non-null      float64\n",
            " 3   Z       6 non-null      float64\n",
            "dtypes: float64(4)\n",
            "memory usage: 240.0+ bytes\n"
          ]
        }
      ],
      "source": [
        "# A full information about our DataFrame\n",
        "df.info()"
      ]
    },
    {
      "cell_type": "code",
      "execution_count": null,
      "metadata": {
        "id": "RUoNxFsdQUUC",
        "outputId": "156a6f9c-933a-474b-aeba-73b97a625a3c"
      },
      "outputs": [
        {
          "data": {
            "text/html": [
              "<div>\n",
              "<style scoped>\n",
              "    .dataframe tbody tr th:only-of-type {\n",
              "        vertical-align: middle;\n",
              "    }\n",
              "\n",
              "    .dataframe tbody tr th {\n",
              "        vertical-align: top;\n",
              "    }\n",
              "\n",
              "    .dataframe thead th {\n",
              "        text-align: right;\n",
              "    }\n",
              "</style>\n",
              "<table border=\"1\" class=\"dataframe\">\n",
              "  <thead>\n",
              "    <tr style=\"text-align: right;\">\n",
              "      <th></th>\n",
              "      <th>W</th>\n",
              "      <th>X</th>\n",
              "      <th>Y</th>\n",
              "      <th>Z</th>\n",
              "    </tr>\n",
              "  </thead>\n",
              "  <tbody>\n",
              "    <tr>\n",
              "      <th>count</th>\n",
              "      <td>6.000000</td>\n",
              "      <td>6.000000</td>\n",
              "      <td>6.000000</td>\n",
              "      <td>6.000000</td>\n",
              "    </tr>\n",
              "    <tr>\n",
              "      <th>mean</th>\n",
              "      <td>0.478997</td>\n",
              "      <td>0.583587</td>\n",
              "      <td>0.438771</td>\n",
              "      <td>0.343955</td>\n",
              "    </tr>\n",
              "    <tr>\n",
              "      <th>std</th>\n",
              "      <td>0.279279</td>\n",
              "      <td>0.229481</td>\n",
              "      <td>0.377631</td>\n",
              "      <td>0.279798</td>\n",
              "    </tr>\n",
              "    <tr>\n",
              "      <th>min</th>\n",
              "      <td>0.083561</td>\n",
              "      <td>0.189939</td>\n",
              "      <td>0.028474</td>\n",
              "      <td>0.137869</td>\n",
              "    </tr>\n",
              "    <tr>\n",
              "      <th>25%</th>\n",
              "      <td>0.265519</td>\n",
              "      <td>0.531068</td>\n",
              "      <td>0.113105</td>\n",
              "      <td>0.186730</td>\n",
              "    </tr>\n",
              "    <tr>\n",
              "      <th>50%</th>\n",
              "      <td>0.600838</td>\n",
              "      <td>0.587108</td>\n",
              "      <td>0.430597</td>\n",
              "      <td>0.254296</td>\n",
              "    </tr>\n",
              "    <tr>\n",
              "      <th>75%</th>\n",
              "      <td>0.685299</td>\n",
              "      <td>0.740088</td>\n",
              "      <td>0.685301</td>\n",
              "      <td>0.333159</td>\n",
              "    </tr>\n",
              "    <tr>\n",
              "      <th>max</th>\n",
              "      <td>0.721544</td>\n",
              "      <td>0.833897</td>\n",
              "      <td>0.965483</td>\n",
              "      <td>0.893613</td>\n",
              "    </tr>\n",
              "  </tbody>\n",
              "</table>\n",
              "</div>"
            ],
            "text/plain": [
              "              W         X         Y         Z\n",
              "count  6.000000  6.000000  6.000000  6.000000\n",
              "mean   0.478997  0.583587  0.438771  0.343955\n",
              "std    0.279279  0.229481  0.377631  0.279798\n",
              "min    0.083561  0.189939  0.028474  0.137869\n",
              "25%    0.265519  0.531068  0.113105  0.186730\n",
              "50%    0.600838  0.587108  0.430597  0.254296\n",
              "75%    0.685299  0.740088  0.685301  0.333159\n",
              "max    0.721544  0.833897  0.965483  0.893613"
            ]
          },
          "execution_count": 23,
          "metadata": {},
          "output_type": "execute_result"
        }
      ],
      "source": [
        "# Getting a summary statistics for our dataset\n",
        "df.describe()"
      ]
    },
    {
      "cell_type": "code",
      "execution_count": null,
      "metadata": {
        "id": "-pp-OMCMQUUC",
        "outputId": "a26b9d07-a90b-48ef-a855-019e5e7ba6ad"
      },
      "outputs": [
        {
          "data": {
            "text/html": [
              "<div>\n",
              "<style scoped>\n",
              "    .dataframe tbody tr th:only-of-type {\n",
              "        vertical-align: middle;\n",
              "    }\n",
              "\n",
              "    .dataframe tbody tr th {\n",
              "        vertical-align: top;\n",
              "    }\n",
              "\n",
              "    .dataframe thead th {\n",
              "        text-align: right;\n",
              "    }\n",
              "</style>\n",
              "<table border=\"1\" class=\"dataframe\">\n",
              "  <thead>\n",
              "    <tr style=\"text-align: right;\">\n",
              "      <th></th>\n",
              "      <th>W</th>\n",
              "      <th>X</th>\n",
              "      <th>Y</th>\n",
              "      <th>Z</th>\n",
              "    </tr>\n",
              "  </thead>\n",
              "  <tbody>\n",
              "    <tr>\n",
              "      <th>A</th>\n",
              "      <td>0.516399</td>\n",
              "      <td>0.570668</td>\n",
              "      <td>0.028474</td>\n",
              "      <td>0.171522</td>\n",
              "    </tr>\n",
              "    <tr>\n",
              "      <th>B</th>\n",
              "      <td>0.685277</td>\n",
              "      <td>0.833897</td>\n",
              "      <td>0.306966</td>\n",
              "      <td>0.893613</td>\n",
              "    </tr>\n",
              "    <tr>\n",
              "      <th>C</th>\n",
              "      <td>0.721544</td>\n",
              "      <td>0.189939</td>\n",
              "      <td>0.554228</td>\n",
              "      <td>0.352132</td>\n",
              "    </tr>\n",
              "    <tr>\n",
              "      <th>D</th>\n",
              "      <td>0.181892</td>\n",
              "      <td>0.785602</td>\n",
              "      <td>0.965483</td>\n",
              "      <td>0.232354</td>\n",
              "    </tr>\n",
              "    <tr>\n",
              "      <th>E</th>\n",
              "      <td>0.083561</td>\n",
              "      <td>0.603548</td>\n",
              "      <td>0.728993</td>\n",
              "      <td>0.276239</td>\n",
              "    </tr>\n",
              "  </tbody>\n",
              "</table>\n",
              "</div>"
            ],
            "text/plain": [
              "          W         X         Y         Z\n",
              "A  0.516399  0.570668  0.028474  0.171522\n",
              "B  0.685277  0.833897  0.306966  0.893613\n",
              "C  0.721544  0.189939  0.554228  0.352132\n",
              "D  0.181892  0.785602  0.965483  0.232354\n",
              "E  0.083561  0.603548  0.728993  0.276239"
            ]
          },
          "execution_count": 24,
          "metadata": {},
          "output_type": "execute_result"
        }
      ],
      "source": [
        "# Getting the first 5 rows in our dataset\n",
        "df.head()\n",
        "# df[:5]"
      ]
    },
    {
      "cell_type": "code",
      "execution_count": null,
      "metadata": {
        "id": "YI-onEnGQUUD",
        "outputId": "a5405725-9df9-4148-d378-8083849ebe7b"
      },
      "outputs": [
        {
          "data": {
            "text/html": [
              "<div>\n",
              "<style scoped>\n",
              "    .dataframe tbody tr th:only-of-type {\n",
              "        vertical-align: middle;\n",
              "    }\n",
              "\n",
              "    .dataframe tbody tr th {\n",
              "        vertical-align: top;\n",
              "    }\n",
              "\n",
              "    .dataframe thead th {\n",
              "        text-align: right;\n",
              "    }\n",
              "</style>\n",
              "<table border=\"1\" class=\"dataframe\">\n",
              "  <thead>\n",
              "    <tr style=\"text-align: right;\">\n",
              "      <th></th>\n",
              "      <th>W</th>\n",
              "      <th>X</th>\n",
              "      <th>Y</th>\n",
              "      <th>Z</th>\n",
              "    </tr>\n",
              "  </thead>\n",
              "  <tbody>\n",
              "    <tr>\n",
              "      <th>D</th>\n",
              "      <td>0.181892</td>\n",
              "      <td>0.785602</td>\n",
              "      <td>0.965483</td>\n",
              "      <td>0.232354</td>\n",
              "    </tr>\n",
              "    <tr>\n",
              "      <th>E</th>\n",
              "      <td>0.083561</td>\n",
              "      <td>0.603548</td>\n",
              "      <td>0.728993</td>\n",
              "      <td>0.276239</td>\n",
              "    </tr>\n",
              "    <tr>\n",
              "      <th>F</th>\n",
              "      <td>0.685306</td>\n",
              "      <td>0.517867</td>\n",
              "      <td>0.048485</td>\n",
              "      <td>0.137869</td>\n",
              "    </tr>\n",
              "  </tbody>\n",
              "</table>\n",
              "</div>"
            ],
            "text/plain": [
              "          W         X         Y         Z\n",
              "D  0.181892  0.785602  0.965483  0.232354\n",
              "E  0.083561  0.603548  0.728993  0.276239\n",
              "F  0.685306  0.517867  0.048485  0.137869"
            ]
          },
          "execution_count": 25,
          "metadata": {},
          "output_type": "execute_result"
        }
      ],
      "source": [
        "# You can also get the last rows in the dataset and specifing how many rows to be printed\n",
        "df.tail(3)"
      ]
    },
    {
      "cell_type": "code",
      "execution_count": null,
      "metadata": {
        "id": "uhFKb7CMQUUD",
        "outputId": "1fc77e8c-78b5-45a6-e2ea-69e17a391782"
      },
      "outputs": [
        {
          "data": {
            "text/plain": [
              "Index(['W', 'X', 'Y', 'Z'], dtype='object')"
            ]
          },
          "execution_count": 26,
          "metadata": {},
          "output_type": "execute_result"
        }
      ],
      "source": [
        "# Outputting the columns names\n",
        "df.columns"
      ]
    },
    {
      "cell_type": "code",
      "execution_count": null,
      "metadata": {
        "id": "f5_v5aEAQUUD",
        "outputId": "37756362-e1d8-41b1-fbcd-c116efd1c033"
      },
      "outputs": [
        {
          "data": {
            "text/plain": [
              "Index(['A', 'B', 'C', 'D', 'E', 'F'], dtype='object')"
            ]
          },
          "execution_count": 27,
          "metadata": {},
          "output_type": "execute_result"
        }
      ],
      "source": [
        "# Outputting the indecies names\n",
        "df.index"
      ]
    },
    {
      "cell_type": "code",
      "execution_count": null,
      "metadata": {
        "id": "U6u2G02TQUUD",
        "outputId": "71c314b4-38ca-46f4-f2b7-16b43ab09174"
      },
      "outputs": [
        {
          "data": {
            "text/plain": [
              "(6, 4)"
            ]
          },
          "execution_count": 28,
          "metadata": {},
          "output_type": "execute_result"
        }
      ],
      "source": [
        "# The shape of our DataFrame\n",
        "df.shape"
      ]
    },
    {
      "cell_type": "code",
      "execution_count": null,
      "metadata": {
        "id": "p0-mYC7rQUUD",
        "outputId": "aee5b768-f868-4589-e42d-05d991597f98"
      },
      "outputs": [
        {
          "data": {
            "text/plain": [
              "W    float64\n",
              "X    float64\n",
              "Y    float64\n",
              "Z    float64\n",
              "dtype: object"
            ]
          },
          "execution_count": 29,
          "metadata": {},
          "output_type": "execute_result"
        }
      ],
      "source": [
        "# Finding the data type of each column\n",
        "df.dtypes"
      ]
    },
    {
      "cell_type": "code",
      "execution_count": null,
      "metadata": {
        "id": "RMesxf1wQUUD",
        "outputId": "25bfebb8-b423-467e-fbc6-0f8e3a12a75b"
      },
      "outputs": [
        {
          "data": {
            "text/plain": [
              "W    6\n",
              "X    6\n",
              "Y    6\n",
              "Z    6\n",
              "dtype: int64"
            ]
          },
          "execution_count": 30,
          "metadata": {},
          "output_type": "execute_result"
        }
      ],
      "source": [
        "# Calculating how many rows in each column\n",
        "df.count()"
      ]
    },
    {
      "cell_type": "code",
      "execution_count": null,
      "metadata": {
        "id": "Mw4McfRLQUUE",
        "outputId": "049a2a44-a107-42f3-902a-6afdd0e8bc08"
      },
      "outputs": [
        {
          "data": {
            "text/plain": [
              "array([[0.51639863, 0.57066759, 0.02847423, 0.17152166],\n",
              "       [0.68527698, 0.83389686, 0.30696622, 0.89361308],\n",
              "       [0.72154386, 0.18993895, 0.55422759, 0.35213195],\n",
              "       [0.1818924 , 0.78560176, 0.96548322, 0.23235366],\n",
              "       [0.08356143, 0.60354842, 0.72899276, 0.27623883],\n",
              "       [0.68530633, 0.51786747, 0.04848454, 0.13786924]])"
            ]
          },
          "execution_count": 31,
          "metadata": {},
          "output_type": "execute_result"
        }
      ],
      "source": [
        "# Converting a DataFrame object to a 2D NumPy Array\n",
        "df.values"
      ]
    },
    {
      "cell_type": "code",
      "execution_count": null,
      "metadata": {
        "id": "jd0dNBrXQUUE",
        "outputId": "69e74813-10b9-4ed8-8c07-ccb160232d20"
      },
      "outputs": [
        {
          "data": {
            "text/plain": [
              "numpy.ndarray"
            ]
          },
          "execution_count": 32,
          "metadata": {},
          "output_type": "execute_result"
        }
      ],
      "source": [
        "# Let's check out its type to validate our result\n",
        "type(df.values)"
      ]
    },
    {
      "cell_type": "code",
      "execution_count": null,
      "metadata": {
        "id": "nct2clsMQUUE",
        "outputId": "9419b238-fe1c-4a9d-bcef-2d25fee1fb4e"
      },
      "outputs": [
        {
          "data": {
            "text/plain": [
              "array([[0.51639863, 0.57066759, 0.02847423, 0.17152166],\n",
              "       [0.68527698, 0.83389686, 0.30696622, 0.89361308],\n",
              "       [0.72154386, 0.18993895, 0.55422759, 0.35213195],\n",
              "       [0.1818924 , 0.78560176, 0.96548322, 0.23235366],\n",
              "       [0.08356143, 0.60354842, 0.72899276, 0.27623883],\n",
              "       [0.68530633, 0.51786747, 0.04848454, 0.13786924]])"
            ]
          },
          "execution_count": 33,
          "metadata": {},
          "output_type": "execute_result"
        }
      ],
      "source": [
        "# Another way to convert a DataFrame object to a 2D NumPy Array\n",
        "df.to_numpy()"
      ]
    },
    {
      "cell_type": "code",
      "execution_count": null,
      "metadata": {
        "id": "S8UP87A7QUUE",
        "outputId": "e75890c0-a5ec-44c5-e0ce-6c3f12fa1c4a"
      },
      "outputs": [
        {
          "data": {
            "text/plain": [
              "numpy.ndarray"
            ]
          },
          "execution_count": 34,
          "metadata": {},
          "output_type": "execute_result"
        }
      ],
      "source": [
        "# Now our DataFrame becomes a 2D NumPy Array\n",
        "type(df.to_numpy())"
      ]
    },
    {
      "cell_type": "code",
      "execution_count": null,
      "metadata": {
        "id": "A8uHkSkLQUUE"
      },
      "outputs": [],
      "source": []
    },
    {
      "cell_type": "markdown",
      "metadata": {
        "id": "39VXtsYpQUUE"
      },
      "source": [
        "#### Series Attributes"
      ]
    },
    {
      "cell_type": "code",
      "execution_count": null,
      "metadata": {
        "id": "-WJ4Q7tZQUUF",
        "outputId": "c3c07e67-a703-4ffa-9d9a-0de1c7189f9b"
      },
      "outputs": [
        {
          "data": {
            "text/plain": [
              "a    3\n",
              "b    7\n",
              "c    7\n",
              "d    4\n",
              "dtype: int64"
            ]
          },
          "execution_count": 35,
          "metadata": {},
          "output_type": "execute_result"
        }
      ],
      "source": [
        "# Some of these attributes are working with Series object too\n",
        "s = pd.Series([3, 7, 7, 4], index=['a', 'b', 'c', 'd'])\n",
        "s"
      ]
    },
    {
      "cell_type": "code",
      "execution_count": null,
      "metadata": {
        "id": "DEOTkavRQUUF",
        "outputId": "f8702c9c-97e5-4025-a836-20516395440d"
      },
      "outputs": [
        {
          "data": {
            "text/plain": [
              "count    4.000000\n",
              "mean     5.250000\n",
              "std      2.061553\n",
              "min      3.000000\n",
              "25%      3.750000\n",
              "50%      5.500000\n",
              "75%      7.000000\n",
              "max      7.000000\n",
              "dtype: float64"
            ]
          },
          "execution_count": 36,
          "metadata": {},
          "output_type": "execute_result"
        }
      ],
      "source": [
        "# Getting the summary statistics\n",
        "s.describe()"
      ]
    },
    {
      "cell_type": "code",
      "execution_count": null,
      "metadata": {
        "id": "7kJpIx71QUUF",
        "outputId": "f15cd28c-9036-4d92-f0ad-9e612688eae6"
      },
      "outputs": [
        {
          "data": {
            "text/plain": [
              "(4,)"
            ]
          },
          "execution_count": 37,
          "metadata": {},
          "output_type": "execute_result"
        }
      ],
      "source": [
        "# Find the shape of the Series object\n",
        "s.shape"
      ]
    },
    {
      "cell_type": "code",
      "execution_count": null,
      "metadata": {
        "id": "folcMIUhQUUF",
        "outputId": "39c2d31d-8525-4589-819f-38943d52284a"
      },
      "outputs": [
        {
          "data": {
            "text/plain": [
              "Index(['a', 'b', 'c', 'd'], dtype='object')"
            ]
          },
          "execution_count": 38,
          "metadata": {},
          "output_type": "execute_result"
        }
      ],
      "source": [
        "# Listing the indecies names\n",
        "s.index"
      ]
    },
    {
      "cell_type": "code",
      "execution_count": null,
      "metadata": {
        "id": "WeBrEpCpQUUF",
        "outputId": "3b84004c-12dc-4ab3-e2c5-c4231a95a277"
      },
      "outputs": [
        {
          "data": {
            "text/plain": [
              "array([3, 7, 7, 4], dtype=int64)"
            ]
          },
          "execution_count": 39,
          "metadata": {},
          "output_type": "execute_result"
        }
      ],
      "source": [
        "# Converting a Series object to a 1D NumPy Array\n",
        "s.values"
      ]
    },
    {
      "cell_type": "code",
      "execution_count": null,
      "metadata": {
        "id": "zM4i-R6mQUUG",
        "outputId": "673553e9-913a-4e00-e16e-66170cd30428"
      },
      "outputs": [
        {
          "data": {
            "text/plain": [
              "7    2\n",
              "3    1\n",
              "4    1\n",
              "dtype: int64"
            ]
          },
          "execution_count": 40,
          "metadata": {},
          "output_type": "execute_result"
        }
      ],
      "source": [
        "# We can find the count of elements in a Series\n",
        "s.value_counts()"
      ]
    },
    {
      "cell_type": "code",
      "execution_count": null,
      "metadata": {
        "id": "iHhex744QUUG",
        "outputId": "17d8f9f5-98c9-4293-f3ec-3ec9026ef8f9"
      },
      "outputs": [
        {
          "data": {
            "text/plain": [
              "array([3, 7, 4], dtype=int64)"
            ]
          },
          "execution_count": 41,
          "metadata": {},
          "output_type": "execute_result"
        }
      ],
      "source": [
        "# Find the unique values in the Series object\n",
        "s.unique()"
      ]
    },
    {
      "cell_type": "code",
      "execution_count": null,
      "metadata": {
        "id": "5I7wVuU3QUUG",
        "outputId": "880a7c68-68dc-47ca-8f80-3be1c0019136"
      },
      "outputs": [
        {
          "data": {
            "text/plain": [
              "3"
            ]
          },
          "execution_count": 42,
          "metadata": {},
          "output_type": "execute_result"
        }
      ],
      "source": [
        "# Find the number of the unique values in the Series object\n",
        "s.nunique()"
      ]
    },
    {
      "cell_type": "code",
      "execution_count": null,
      "metadata": {
        "id": "vl5_y-EZQUUH",
        "outputId": "64ef1af2-39f9-43b0-bea4-8606dd0c58e9"
      },
      "outputs": [
        {
          "data": {
            "text/plain": [
              "a     6\n",
              "b    14\n",
              "c    14\n",
              "d     8\n",
              "dtype: int64"
            ]
          },
          "execution_count": 43,
          "metadata": {},
          "output_type": "execute_result"
        }
      ],
      "source": [
        "# Applying a function to a specific column\n",
        "s.apply(lambda x: x*2)"
      ]
    },
    {
      "cell_type": "code",
      "execution_count": null,
      "metadata": {
        "id": "DWcutjIkQUUH"
      },
      "outputs": [],
      "source": []
    },
    {
      "cell_type": "markdown",
      "metadata": {
        "id": "ckB1MKSeQUUH"
      },
      "source": [
        "=========="
      ]
    },
    {
      "cell_type": "markdown",
      "metadata": {
        "id": "Y_KN4F5HQUUI"
      },
      "source": [
        "### Indexing, Slicing, & Subsetting"
      ]
    },
    {
      "cell_type": "markdown",
      "metadata": {
        "id": "XtXoft7sQUUI"
      },
      "source": [
        "| Method / Attribute \t| Description                             \t|\n",
        "|--------------------\t|-----------------------------------------\t|\n",
        "| df[col]            \t| Returns column with label col as Series \t|\n",
        "| df[[col1, col2]]   \t| Returns columns as a new DataFrame      \t|\n",
        "| s.iloc[0]          \t| Selection by position                   \t|\n",
        "| s.loc['index_one'] \t| Selection by index                      \t|\n",
        "| df.iloc[0,:]       \t| First row                               \t|\n",
        "| df.iloc[0,0]       \t| First element of first column           \t|"
      ]
    },
    {
      "cell_type": "markdown",
      "metadata": {
        "id": "jn_YI3tUQUUI"
      },
      "source": [
        "#### Series & DataFrame Indexing"
      ]
    },
    {
      "cell_type": "code",
      "execution_count": null,
      "metadata": {
        "id": "P-2hF6dxQUUI",
        "outputId": "75efa4c1-2b23-4385-f33c-53e0e7a2d6a1"
      },
      "outputs": [
        {
          "data": {
            "text/html": [
              "<div>\n",
              "<style scoped>\n",
              "    .dataframe tbody tr th:only-of-type {\n",
              "        vertical-align: middle;\n",
              "    }\n",
              "\n",
              "    .dataframe tbody tr th {\n",
              "        vertical-align: top;\n",
              "    }\n",
              "\n",
              "    .dataframe thead th {\n",
              "        text-align: right;\n",
              "    }\n",
              "</style>\n",
              "<table border=\"1\" class=\"dataframe\">\n",
              "  <thead>\n",
              "    <tr style=\"text-align: right;\">\n",
              "      <th></th>\n",
              "      <th>W</th>\n",
              "      <th>X</th>\n",
              "      <th>Y</th>\n",
              "      <th>Z</th>\n",
              "    </tr>\n",
              "  </thead>\n",
              "  <tbody>\n",
              "    <tr>\n",
              "      <th>A</th>\n",
              "      <td>0.516399</td>\n",
              "      <td>0.570668</td>\n",
              "      <td>0.028474</td>\n",
              "      <td>0.171522</td>\n",
              "    </tr>\n",
              "    <tr>\n",
              "      <th>B</th>\n",
              "      <td>0.685277</td>\n",
              "      <td>0.833897</td>\n",
              "      <td>0.306966</td>\n",
              "      <td>0.893613</td>\n",
              "    </tr>\n",
              "    <tr>\n",
              "      <th>C</th>\n",
              "      <td>0.721544</td>\n",
              "      <td>0.189939</td>\n",
              "      <td>0.554228</td>\n",
              "      <td>0.352132</td>\n",
              "    </tr>\n",
              "    <tr>\n",
              "      <th>D</th>\n",
              "      <td>0.181892</td>\n",
              "      <td>0.785602</td>\n",
              "      <td>0.965483</td>\n",
              "      <td>0.232354</td>\n",
              "    </tr>\n",
              "    <tr>\n",
              "      <th>E</th>\n",
              "      <td>0.083561</td>\n",
              "      <td>0.603548</td>\n",
              "      <td>0.728993</td>\n",
              "      <td>0.276239</td>\n",
              "    </tr>\n",
              "    <tr>\n",
              "      <th>F</th>\n",
              "      <td>0.685306</td>\n",
              "      <td>0.517867</td>\n",
              "      <td>0.048485</td>\n",
              "      <td>0.137869</td>\n",
              "    </tr>\n",
              "  </tbody>\n",
              "</table>\n",
              "</div>"
            ],
            "text/plain": [
              "          W         X         Y         Z\n",
              "A  0.516399  0.570668  0.028474  0.171522\n",
              "B  0.685277  0.833897  0.306966  0.893613\n",
              "C  0.721544  0.189939  0.554228  0.352132\n",
              "D  0.181892  0.785602  0.965483  0.232354\n",
              "E  0.083561  0.603548  0.728993  0.276239\n",
              "F  0.685306  0.517867  0.048485  0.137869"
            ]
          },
          "execution_count": 44,
          "metadata": {},
          "output_type": "execute_result"
        }
      ],
      "source": [
        "df"
      ]
    },
    {
      "cell_type": "code",
      "execution_count": null,
      "metadata": {
        "id": "15yOtdDwQUUJ",
        "outputId": "bb6dec8a-d4cc-4459-c536-35954c232172"
      },
      "outputs": [
        {
          "data": {
            "text/plain": [
              "A    0.516399\n",
              "B    0.685277\n",
              "C    0.721544\n",
              "D    0.181892\n",
              "E    0.083561\n",
              "F    0.685306\n",
              "Name: W, dtype: float64"
            ]
          },
          "execution_count": 45,
          "metadata": {},
          "output_type": "execute_result"
        }
      ],
      "source": [
        "# Indexing a specific column\n",
        "df['W']"
      ]
    },
    {
      "cell_type": "code",
      "execution_count": null,
      "metadata": {
        "id": "GqaeP1qdQUUJ",
        "outputId": "6b3abf78-16c6-4d5e-9993-f69d8c667406"
      },
      "outputs": [
        {
          "data": {
            "text/plain": [
              "pandas.core.series.Series"
            ]
          },
          "execution_count": 46,
          "metadata": {},
          "output_type": "execute_result"
        }
      ],
      "source": [
        "# Indexing of a single column produces a Series object\n",
        "type(df['W'])"
      ]
    },
    {
      "cell_type": "code",
      "execution_count": null,
      "metadata": {
        "id": "8cU3RoDJQUUJ",
        "outputId": "43699f97-3af5-41c8-b710-cd53feadbfee"
      },
      "outputs": [
        {
          "data": {
            "text/plain": [
              "A    0.516399\n",
              "B    0.685277\n",
              "C    0.721544\n",
              "D    0.181892\n",
              "E    0.083561\n",
              "F    0.685306\n",
              "Name: W, dtype: float64"
            ]
          },
          "execution_count": 47,
          "metadata": {},
          "output_type": "execute_result"
        }
      ],
      "source": [
        "# There is another syntax for indexing a single column but it is not recommended (SQL Syntax)\n",
        "df.W"
      ]
    },
    {
      "cell_type": "code",
      "execution_count": null,
      "metadata": {
        "id": "YGt-NGPLQUUJ",
        "outputId": "8c88deac-c251-4fc8-bb2f-e882d35a7cf1"
      },
      "outputs": [
        {
          "data": {
            "text/html": [
              "<div>\n",
              "<style scoped>\n",
              "    .dataframe tbody tr th:only-of-type {\n",
              "        vertical-align: middle;\n",
              "    }\n",
              "\n",
              "    .dataframe tbody tr th {\n",
              "        vertical-align: top;\n",
              "    }\n",
              "\n",
              "    .dataframe thead th {\n",
              "        text-align: right;\n",
              "    }\n",
              "</style>\n",
              "<table border=\"1\" class=\"dataframe\">\n",
              "  <thead>\n",
              "    <tr style=\"text-align: right;\">\n",
              "      <th></th>\n",
              "      <th>W</th>\n",
              "      <th>Z</th>\n",
              "    </tr>\n",
              "  </thead>\n",
              "  <tbody>\n",
              "    <tr>\n",
              "      <th>A</th>\n",
              "      <td>0.516399</td>\n",
              "      <td>0.171522</td>\n",
              "    </tr>\n",
              "    <tr>\n",
              "      <th>B</th>\n",
              "      <td>0.685277</td>\n",
              "      <td>0.893613</td>\n",
              "    </tr>\n",
              "    <tr>\n",
              "      <th>C</th>\n",
              "      <td>0.721544</td>\n",
              "      <td>0.352132</td>\n",
              "    </tr>\n",
              "    <tr>\n",
              "      <th>D</th>\n",
              "      <td>0.181892</td>\n",
              "      <td>0.232354</td>\n",
              "    </tr>\n",
              "    <tr>\n",
              "      <th>E</th>\n",
              "      <td>0.083561</td>\n",
              "      <td>0.276239</td>\n",
              "    </tr>\n",
              "    <tr>\n",
              "      <th>F</th>\n",
              "      <td>0.685306</td>\n",
              "      <td>0.137869</td>\n",
              "    </tr>\n",
              "  </tbody>\n",
              "</table>\n",
              "</div>"
            ],
            "text/plain": [
              "          W         Z\n",
              "A  0.516399  0.171522\n",
              "B  0.685277  0.893613\n",
              "C  0.721544  0.352132\n",
              "D  0.181892  0.232354\n",
              "E  0.083561  0.276239\n",
              "F  0.685306  0.137869"
            ]
          },
          "execution_count": 48,
          "metadata": {},
          "output_type": "execute_result"
        }
      ],
      "source": [
        "# Indexing multiple columns\n",
        "df[['W','Z']]"
      ]
    },
    {
      "cell_type": "code",
      "execution_count": null,
      "metadata": {
        "id": "THbns6rhQUUK",
        "outputId": "54687bd7-ddb8-487d-d54a-0f36bf2502d8"
      },
      "outputs": [
        {
          "data": {
            "text/plain": [
              "pandas.core.frame.DataFrame"
            ]
          },
          "execution_count": 49,
          "metadata": {},
          "output_type": "execute_result"
        }
      ],
      "source": [
        "# Sure this gives us a DataFrame object\n",
        "type(df[['W','Z']])"
      ]
    },
    {
      "cell_type": "code",
      "execution_count": null,
      "metadata": {
        "id": "M6zCp_kQQUUK",
        "outputId": "ced0bdeb-79f7-4ff1-92d9-b708747f48c2"
      },
      "outputs": [
        {
          "data": {
            "text/html": [
              "<div>\n",
              "<style scoped>\n",
              "    .dataframe tbody tr th:only-of-type {\n",
              "        vertical-align: middle;\n",
              "    }\n",
              "\n",
              "    .dataframe tbody tr th {\n",
              "        vertical-align: top;\n",
              "    }\n",
              "\n",
              "    .dataframe thead th {\n",
              "        text-align: right;\n",
              "    }\n",
              "</style>\n",
              "<table border=\"1\" class=\"dataframe\">\n",
              "  <thead>\n",
              "    <tr style=\"text-align: right;\">\n",
              "      <th></th>\n",
              "      <th>W</th>\n",
              "      <th>X</th>\n",
              "      <th>Y</th>\n",
              "      <th>Z</th>\n",
              "      <th>S</th>\n",
              "    </tr>\n",
              "  </thead>\n",
              "  <tbody>\n",
              "    <tr>\n",
              "      <th>A</th>\n",
              "      <td>0.516399</td>\n",
              "      <td>0.570668</td>\n",
              "      <td>0.028474</td>\n",
              "      <td>0.171522</td>\n",
              "      <td>0.544873</td>\n",
              "    </tr>\n",
              "    <tr>\n",
              "      <th>B</th>\n",
              "      <td>0.685277</td>\n",
              "      <td>0.833897</td>\n",
              "      <td>0.306966</td>\n",
              "      <td>0.893613</td>\n",
              "      <td>0.992243</td>\n",
              "    </tr>\n",
              "    <tr>\n",
              "      <th>C</th>\n",
              "      <td>0.721544</td>\n",
              "      <td>0.189939</td>\n",
              "      <td>0.554228</td>\n",
              "      <td>0.352132</td>\n",
              "      <td>1.275771</td>\n",
              "    </tr>\n",
              "    <tr>\n",
              "      <th>D</th>\n",
              "      <td>0.181892</td>\n",
              "      <td>0.785602</td>\n",
              "      <td>0.965483</td>\n",
              "      <td>0.232354</td>\n",
              "      <td>1.147376</td>\n",
              "    </tr>\n",
              "    <tr>\n",
              "      <th>E</th>\n",
              "      <td>0.083561</td>\n",
              "      <td>0.603548</td>\n",
              "      <td>0.728993</td>\n",
              "      <td>0.276239</td>\n",
              "      <td>0.812554</td>\n",
              "    </tr>\n",
              "    <tr>\n",
              "      <th>F</th>\n",
              "      <td>0.685306</td>\n",
              "      <td>0.517867</td>\n",
              "      <td>0.048485</td>\n",
              "      <td>0.137869</td>\n",
              "      <td>0.733791</td>\n",
              "    </tr>\n",
              "  </tbody>\n",
              "</table>\n",
              "</div>"
            ],
            "text/plain": [
              "          W         X         Y         Z         S\n",
              "A  0.516399  0.570668  0.028474  0.171522  0.544873\n",
              "B  0.685277  0.833897  0.306966  0.893613  0.992243\n",
              "C  0.721544  0.189939  0.554228  0.352132  1.275771\n",
              "D  0.181892  0.785602  0.965483  0.232354  1.147376\n",
              "E  0.083561  0.603548  0.728993  0.276239  0.812554\n",
              "F  0.685306  0.517867  0.048485  0.137869  0.733791"
            ]
          },
          "execution_count": 50,
          "metadata": {},
          "output_type": "execute_result"
        }
      ],
      "source": [
        "# You can create a new column just by naming it and assigning it values\n",
        "df['S'] = df['W'] + df['Y']\n",
        "df"
      ]
    },
    {
      "cell_type": "code",
      "execution_count": null,
      "metadata": {
        "id": "c-NuC6vWQUUK",
        "outputId": "40dc5dc5-3744-4be0-c9fa-40b66b1c3778"
      },
      "outputs": [
        {
          "data": {
            "text/html": [
              "<div>\n",
              "<style scoped>\n",
              "    .dataframe tbody tr th:only-of-type {\n",
              "        vertical-align: middle;\n",
              "    }\n",
              "\n",
              "    .dataframe tbody tr th {\n",
              "        vertical-align: top;\n",
              "    }\n",
              "\n",
              "    .dataframe thead th {\n",
              "        text-align: right;\n",
              "    }\n",
              "</style>\n",
              "<table border=\"1\" class=\"dataframe\">\n",
              "  <thead>\n",
              "    <tr style=\"text-align: right;\">\n",
              "      <th></th>\n",
              "      <th>W</th>\n",
              "      <th>X</th>\n",
              "      <th>Y</th>\n",
              "      <th>Z</th>\n",
              "    </tr>\n",
              "  </thead>\n",
              "  <tbody>\n",
              "    <tr>\n",
              "      <th>A</th>\n",
              "      <td>0.516399</td>\n",
              "      <td>0.570668</td>\n",
              "      <td>0.028474</td>\n",
              "      <td>0.171522</td>\n",
              "    </tr>\n",
              "    <tr>\n",
              "      <th>B</th>\n",
              "      <td>0.685277</td>\n",
              "      <td>0.833897</td>\n",
              "      <td>0.306966</td>\n",
              "      <td>0.893613</td>\n",
              "    </tr>\n",
              "    <tr>\n",
              "      <th>C</th>\n",
              "      <td>0.721544</td>\n",
              "      <td>0.189939</td>\n",
              "      <td>0.554228</td>\n",
              "      <td>0.352132</td>\n",
              "    </tr>\n",
              "    <tr>\n",
              "      <th>D</th>\n",
              "      <td>0.181892</td>\n",
              "      <td>0.785602</td>\n",
              "      <td>0.965483</td>\n",
              "      <td>0.232354</td>\n",
              "    </tr>\n",
              "    <tr>\n",
              "      <th>E</th>\n",
              "      <td>0.083561</td>\n",
              "      <td>0.603548</td>\n",
              "      <td>0.728993</td>\n",
              "      <td>0.276239</td>\n",
              "    </tr>\n",
              "    <tr>\n",
              "      <th>F</th>\n",
              "      <td>0.685306</td>\n",
              "      <td>0.517867</td>\n",
              "      <td>0.048485</td>\n",
              "      <td>0.137869</td>\n",
              "    </tr>\n",
              "  </tbody>\n",
              "</table>\n",
              "</div>"
            ],
            "text/plain": [
              "          W         X         Y         Z\n",
              "A  0.516399  0.570668  0.028474  0.171522\n",
              "B  0.685277  0.833897  0.306966  0.893613\n",
              "C  0.721544  0.189939  0.554228  0.352132\n",
              "D  0.181892  0.785602  0.965483  0.232354\n",
              "E  0.083561  0.603548  0.728993  0.276239\n",
              "F  0.685306  0.517867  0.048485  0.137869"
            ]
          },
          "execution_count": 51,
          "metadata": {},
          "output_type": "execute_result"
        }
      ],
      "source": [
        "# You can drop the new column using drop() function\n",
        "df.drop('S', axis=1, inplace=True)\n",
        "df"
      ]
    },
    {
      "cell_type": "code",
      "execution_count": null,
      "metadata": {
        "id": "OhkgOxv-QUUK",
        "outputId": "5c5782de-389a-49fd-fe27-339aad20d807"
      },
      "outputs": [
        {
          "data": {
            "text/html": [
              "<div>\n",
              "<style scoped>\n",
              "    .dataframe tbody tr th:only-of-type {\n",
              "        vertical-align: middle;\n",
              "    }\n",
              "\n",
              "    .dataframe tbody tr th {\n",
              "        vertical-align: top;\n",
              "    }\n",
              "\n",
              "    .dataframe thead th {\n",
              "        text-align: right;\n",
              "    }\n",
              "</style>\n",
              "<table border=\"1\" class=\"dataframe\">\n",
              "  <thead>\n",
              "    <tr style=\"text-align: right;\">\n",
              "      <th></th>\n",
              "      <th>W</th>\n",
              "      <th>X</th>\n",
              "      <th>Y</th>\n",
              "      <th>Z</th>\n",
              "    </tr>\n",
              "  </thead>\n",
              "  <tbody>\n",
              "    <tr>\n",
              "      <th>A</th>\n",
              "      <td>0.516399</td>\n",
              "      <td>0.570668</td>\n",
              "      <td>0.028474</td>\n",
              "      <td>0.171522</td>\n",
              "    </tr>\n",
              "    <tr>\n",
              "      <th>B</th>\n",
              "      <td>0.685277</td>\n",
              "      <td>0.833897</td>\n",
              "      <td>0.306966</td>\n",
              "      <td>0.893613</td>\n",
              "    </tr>\n",
              "    <tr>\n",
              "      <th>C</th>\n",
              "      <td>0.721544</td>\n",
              "      <td>0.189939</td>\n",
              "      <td>0.554228</td>\n",
              "      <td>0.352132</td>\n",
              "    </tr>\n",
              "    <tr>\n",
              "      <th>E</th>\n",
              "      <td>0.083561</td>\n",
              "      <td>0.603548</td>\n",
              "      <td>0.728993</td>\n",
              "      <td>0.276239</td>\n",
              "    </tr>\n",
              "    <tr>\n",
              "      <th>F</th>\n",
              "      <td>0.685306</td>\n",
              "      <td>0.517867</td>\n",
              "      <td>0.048485</td>\n",
              "      <td>0.137869</td>\n",
              "    </tr>\n",
              "  </tbody>\n",
              "</table>\n",
              "</div>"
            ],
            "text/plain": [
              "          W         X         Y         Z\n",
              "A  0.516399  0.570668  0.028474  0.171522\n",
              "B  0.685277  0.833897  0.306966  0.893613\n",
              "C  0.721544  0.189939  0.554228  0.352132\n",
              "E  0.083561  0.603548  0.728993  0.276239\n",
              "F  0.685306  0.517867  0.048485  0.137869"
            ]
          },
          "execution_count": 52,
          "metadata": {},
          "output_type": "execute_result"
        }
      ],
      "source": [
        "# You can also drop rows this way\n",
        "df.drop('D', axis=0)"
      ]
    },
    {
      "cell_type": "code",
      "execution_count": null,
      "metadata": {
        "id": "yGx5gLovQUUL"
      },
      "outputs": [],
      "source": []
    },
    {
      "cell_type": "code",
      "execution_count": null,
      "metadata": {
        "id": "NICOjyK9QUUL",
        "outputId": "ffa13e86-d60a-473c-ea57-a7d77ea762e4"
      },
      "outputs": [
        {
          "data": {
            "text/plain": [
              "a    3\n",
              "b    7\n",
              "c    7\n",
              "d    4\n",
              "dtype: int64"
            ]
          },
          "execution_count": 53,
          "metadata": {},
          "output_type": "execute_result"
        }
      ],
      "source": [
        "# How about indexing a Series object\n",
        "s"
      ]
    },
    {
      "cell_type": "code",
      "execution_count": null,
      "metadata": {
        "id": "OCFa-jGmQUUL",
        "outputId": "75fd60a8-e976-4a30-f2a3-1229b3b07f59"
      },
      "outputs": [
        {
          "data": {
            "text/plain": [
              "7"
            ]
          },
          "execution_count": 54,
          "metadata": {},
          "output_type": "execute_result"
        }
      ],
      "source": [
        "# Indexing an element in a Series object can be done as follows\n",
        "s['c']"
      ]
    },
    {
      "cell_type": "code",
      "execution_count": null,
      "metadata": {
        "id": "htZfAfwnQUUL"
      },
      "outputs": [],
      "source": []
    },
    {
      "cell_type": "markdown",
      "metadata": {
        "id": "H5ltHseaQUUL"
      },
      "source": [
        "#### Position-based Indexing with .iloc[] (NumPy Indexing Style)"
      ]
    },
    {
      "cell_type": "code",
      "execution_count": null,
      "metadata": {
        "id": "gSrrNp-kQUUL",
        "outputId": "7118e762-068a-4920-d9af-82fff115681c"
      },
      "outputs": [
        {
          "data": {
            "text/html": [
              "<div>\n",
              "<style scoped>\n",
              "    .dataframe tbody tr th:only-of-type {\n",
              "        vertical-align: middle;\n",
              "    }\n",
              "\n",
              "    .dataframe tbody tr th {\n",
              "        vertical-align: top;\n",
              "    }\n",
              "\n",
              "    .dataframe thead th {\n",
              "        text-align: right;\n",
              "    }\n",
              "</style>\n",
              "<table border=\"1\" class=\"dataframe\">\n",
              "  <thead>\n",
              "    <tr style=\"text-align: right;\">\n",
              "      <th></th>\n",
              "      <th>W</th>\n",
              "      <th>X</th>\n",
              "      <th>Y</th>\n",
              "      <th>Z</th>\n",
              "    </tr>\n",
              "  </thead>\n",
              "  <tbody>\n",
              "    <tr>\n",
              "      <th>A</th>\n",
              "      <td>0.516399</td>\n",
              "      <td>0.570668</td>\n",
              "      <td>0.028474</td>\n",
              "      <td>0.171522</td>\n",
              "    </tr>\n",
              "    <tr>\n",
              "      <th>B</th>\n",
              "      <td>0.685277</td>\n",
              "      <td>0.833897</td>\n",
              "      <td>0.306966</td>\n",
              "      <td>0.893613</td>\n",
              "    </tr>\n",
              "    <tr>\n",
              "      <th>C</th>\n",
              "      <td>0.721544</td>\n",
              "      <td>0.189939</td>\n",
              "      <td>0.554228</td>\n",
              "      <td>0.352132</td>\n",
              "    </tr>\n",
              "    <tr>\n",
              "      <th>D</th>\n",
              "      <td>0.181892</td>\n",
              "      <td>0.785602</td>\n",
              "      <td>0.965483</td>\n",
              "      <td>0.232354</td>\n",
              "    </tr>\n",
              "    <tr>\n",
              "      <th>E</th>\n",
              "      <td>0.083561</td>\n",
              "      <td>0.603548</td>\n",
              "      <td>0.728993</td>\n",
              "      <td>0.276239</td>\n",
              "    </tr>\n",
              "    <tr>\n",
              "      <th>F</th>\n",
              "      <td>0.685306</td>\n",
              "      <td>0.517867</td>\n",
              "      <td>0.048485</td>\n",
              "      <td>0.137869</td>\n",
              "    </tr>\n",
              "  </tbody>\n",
              "</table>\n",
              "</div>"
            ],
            "text/plain": [
              "          W         X         Y         Z\n",
              "A  0.516399  0.570668  0.028474  0.171522\n",
              "B  0.685277  0.833897  0.306966  0.893613\n",
              "C  0.721544  0.189939  0.554228  0.352132\n",
              "D  0.181892  0.785602  0.965483  0.232354\n",
              "E  0.083561  0.603548  0.728993  0.276239\n",
              "F  0.685306  0.517867  0.048485  0.137869"
            ]
          },
          "execution_count": 55,
          "metadata": {},
          "output_type": "execute_result"
        }
      ],
      "source": [
        "df"
      ]
    },
    {
      "cell_type": "code",
      "execution_count": null,
      "metadata": {
        "id": "uc2h2uKfQUUL",
        "outputId": "ad75254c-e674-4c00-ce08-4fea53b67f8f"
      },
      "outputs": [
        {
          "data": {
            "text/plain": [
              "W    0.721544\n",
              "X    0.189939\n",
              "Y    0.554228\n",
              "Z    0.352132\n",
              "Name: C, dtype: float64"
            ]
          },
          "execution_count": 56,
          "metadata": {},
          "output_type": "execute_result"
        }
      ],
      "source": [
        "# This returns the 3rd row\n",
        "df.iloc[2]"
      ]
    },
    {
      "cell_type": "code",
      "execution_count": null,
      "metadata": {
        "id": "0geAur7rQUUL",
        "outputId": "61d37ec4-8752-464c-e419-64158c456cd8"
      },
      "outputs": [
        {
          "data": {
            "text/plain": [
              "0.7856017618643588"
            ]
          },
          "execution_count": 57,
          "metadata": {},
          "output_type": "execute_result"
        }
      ],
      "source": [
        "# To get a specific element using its position (4th row, 2nd column)\n",
        "df.iloc[3,1] # df.iloc[[3],[1]]"
      ]
    },
    {
      "cell_type": "code",
      "execution_count": null,
      "metadata": {
        "id": "Htc-Ln08QUUM",
        "outputId": "03d229ce-0373-4596-82ec-fd70ad6ddec9"
      },
      "outputs": [
        {
          "data": {
            "text/plain": [
              "A    0.171522\n",
              "B    0.893613\n",
              "C    0.352132\n",
              "D    0.232354\n",
              "E    0.276239\n",
              "F    0.137869\n",
              "Name: Z, dtype: float64"
            ]
          },
          "execution_count": 58,
          "metadata": {},
          "output_type": "execute_result"
        }
      ],
      "source": [
        "# Getting all the records in the 4th row\n",
        "df.iloc[:, 3]"
      ]
    },
    {
      "cell_type": "code",
      "execution_count": null,
      "metadata": {
        "id": "WV_TxdLcQUUM",
        "outputId": "b541fded-9b41-4394-bb46-7cf1e48fced2"
      },
      "outputs": [
        {
          "data": {
            "text/plain": [
              "B    0.893613\n",
              "C    0.352132\n",
              "D    0.232354\n",
              "Name: Z, dtype: float64"
            ]
          },
          "execution_count": 59,
          "metadata": {},
          "output_type": "execute_result"
        }
      ],
      "source": [
        "# Slicing the records\n",
        "df.iloc[1:4, 3]"
      ]
    },
    {
      "cell_type": "code",
      "execution_count": null,
      "metadata": {
        "id": "xUZjd8jXQUUM",
        "outputId": "e60371c7-c478-412f-feaf-57b16d4ff344"
      },
      "outputs": [
        {
          "data": {
            "text/html": [
              "<div>\n",
              "<style scoped>\n",
              "    .dataframe tbody tr th:only-of-type {\n",
              "        vertical-align: middle;\n",
              "    }\n",
              "\n",
              "    .dataframe tbody tr th {\n",
              "        vertical-align: top;\n",
              "    }\n",
              "\n",
              "    .dataframe thead th {\n",
              "        text-align: right;\n",
              "    }\n",
              "</style>\n",
              "<table border=\"1\" class=\"dataframe\">\n",
              "  <thead>\n",
              "    <tr style=\"text-align: right;\">\n",
              "      <th></th>\n",
              "      <th>Z</th>\n",
              "      <th>X</th>\n",
              "    </tr>\n",
              "  </thead>\n",
              "  <tbody>\n",
              "    <tr>\n",
              "      <th>C</th>\n",
              "      <td>0.352132</td>\n",
              "      <td>0.189939</td>\n",
              "    </tr>\n",
              "    <tr>\n",
              "      <th>E</th>\n",
              "      <td>0.276239</td>\n",
              "      <td>0.603548</td>\n",
              "    </tr>\n",
              "  </tbody>\n",
              "</table>\n",
              "</div>"
            ],
            "text/plain": [
              "          Z         X\n",
              "C  0.352132  0.189939\n",
              "E  0.276239  0.603548"
            ]
          },
          "execution_count": 60,
          "metadata": {},
          "output_type": "execute_result"
        }
      ],
      "source": [
        "# Indexing using slicing and a list mask (fancy indexing)\n",
        "df.iloc[2:6:2, [3, 1]]"
      ]
    },
    {
      "cell_type": "code",
      "execution_count": null,
      "metadata": {
        "id": "Xf0jyi5-QUUN"
      },
      "outputs": [],
      "source": []
    },
    {
      "cell_type": "markdown",
      "metadata": {
        "id": "8nwY2l8GQUUN"
      },
      "source": [
        "#### Labeled-based Indexing with .loc[]"
      ]
    },
    {
      "cell_type": "code",
      "execution_count": null,
      "metadata": {
        "id": "rWPpNYE6QUUN",
        "outputId": "ecbc5737-b0b8-4509-c55a-3d8f1a85eccf"
      },
      "outputs": [
        {
          "data": {
            "text/html": [
              "<div>\n",
              "<style scoped>\n",
              "    .dataframe tbody tr th:only-of-type {\n",
              "        vertical-align: middle;\n",
              "    }\n",
              "\n",
              "    .dataframe tbody tr th {\n",
              "        vertical-align: top;\n",
              "    }\n",
              "\n",
              "    .dataframe thead th {\n",
              "        text-align: right;\n",
              "    }\n",
              "</style>\n",
              "<table border=\"1\" class=\"dataframe\">\n",
              "  <thead>\n",
              "    <tr style=\"text-align: right;\">\n",
              "      <th></th>\n",
              "      <th>W</th>\n",
              "      <th>X</th>\n",
              "      <th>Y</th>\n",
              "      <th>Z</th>\n",
              "    </tr>\n",
              "  </thead>\n",
              "  <tbody>\n",
              "    <tr>\n",
              "      <th>A</th>\n",
              "      <td>0.516399</td>\n",
              "      <td>0.570668</td>\n",
              "      <td>0.028474</td>\n",
              "      <td>0.171522</td>\n",
              "    </tr>\n",
              "    <tr>\n",
              "      <th>B</th>\n",
              "      <td>0.685277</td>\n",
              "      <td>0.833897</td>\n",
              "      <td>0.306966</td>\n",
              "      <td>0.893613</td>\n",
              "    </tr>\n",
              "    <tr>\n",
              "      <th>C</th>\n",
              "      <td>0.721544</td>\n",
              "      <td>0.189939</td>\n",
              "      <td>0.554228</td>\n",
              "      <td>0.352132</td>\n",
              "    </tr>\n",
              "    <tr>\n",
              "      <th>D</th>\n",
              "      <td>0.181892</td>\n",
              "      <td>0.785602</td>\n",
              "      <td>0.965483</td>\n",
              "      <td>0.232354</td>\n",
              "    </tr>\n",
              "    <tr>\n",
              "      <th>E</th>\n",
              "      <td>0.083561</td>\n",
              "      <td>0.603548</td>\n",
              "      <td>0.728993</td>\n",
              "      <td>0.276239</td>\n",
              "    </tr>\n",
              "    <tr>\n",
              "      <th>F</th>\n",
              "      <td>0.685306</td>\n",
              "      <td>0.517867</td>\n",
              "      <td>0.048485</td>\n",
              "      <td>0.137869</td>\n",
              "    </tr>\n",
              "  </tbody>\n",
              "</table>\n",
              "</div>"
            ],
            "text/plain": [
              "          W         X         Y         Z\n",
              "A  0.516399  0.570668  0.028474  0.171522\n",
              "B  0.685277  0.833897  0.306966  0.893613\n",
              "C  0.721544  0.189939  0.554228  0.352132\n",
              "D  0.181892  0.785602  0.965483  0.232354\n",
              "E  0.083561  0.603548  0.728993  0.276239\n",
              "F  0.685306  0.517867  0.048485  0.137869"
            ]
          },
          "execution_count": 61,
          "metadata": {},
          "output_type": "execute_result"
        }
      ],
      "source": [
        "df"
      ]
    },
    {
      "cell_type": "code",
      "execution_count": null,
      "metadata": {
        "id": "1lFef7D6QUUN",
        "outputId": "a7eb36c6-02d1-4a9e-fd06-7ea89c81e63b"
      },
      "outputs": [
        {
          "data": {
            "text/plain": [
              "W    0.516399\n",
              "X    0.570668\n",
              "Y    0.028474\n",
              "Z    0.171522\n",
              "Name: A, dtype: float64"
            ]
          },
          "execution_count": 62,
          "metadata": {},
          "output_type": "execute_result"
        }
      ],
      "source": [
        "# This returns the 1st row\n",
        "df.loc['A']"
      ]
    },
    {
      "cell_type": "code",
      "execution_count": null,
      "metadata": {
        "id": "sxxQLzG1QUUN",
        "outputId": "684b9efc-237a-47d2-f2d3-c99bfd925b39"
      },
      "outputs": [
        {
          "data": {
            "text/plain": [
              "0.3069662196722378"
            ]
          },
          "execution_count": 63,
          "metadata": {},
          "output_type": "execute_result"
        }
      ],
      "source": [
        "# To get a specific element, you will index its row and its column\n",
        "df.loc['B','Y']"
      ]
    },
    {
      "cell_type": "code",
      "execution_count": null,
      "metadata": {
        "id": "t0gz15LmQUUN",
        "outputId": "b14ec1ec-cca6-4b9b-9bf3-7117918ec27e"
      },
      "outputs": [
        {
          "data": {
            "text/html": [
              "<div>\n",
              "<style scoped>\n",
              "    .dataframe tbody tr th:only-of-type {\n",
              "        vertical-align: middle;\n",
              "    }\n",
              "\n",
              "    .dataframe tbody tr th {\n",
              "        vertical-align: top;\n",
              "    }\n",
              "\n",
              "    .dataframe thead th {\n",
              "        text-align: right;\n",
              "    }\n",
              "</style>\n",
              "<table border=\"1\" class=\"dataframe\">\n",
              "  <thead>\n",
              "    <tr style=\"text-align: right;\">\n",
              "      <th></th>\n",
              "      <th>W</th>\n",
              "      <th>Y</th>\n",
              "    </tr>\n",
              "  </thead>\n",
              "  <tbody>\n",
              "    <tr>\n",
              "      <th>A</th>\n",
              "      <td>0.516399</td>\n",
              "      <td>0.028474</td>\n",
              "    </tr>\n",
              "    <tr>\n",
              "      <th>C</th>\n",
              "      <td>0.721544</td>\n",
              "      <td>0.554228</td>\n",
              "    </tr>\n",
              "  </tbody>\n",
              "</table>\n",
              "</div>"
            ],
            "text/plain": [
              "          W         Y\n",
              "A  0.516399  0.028474\n",
              "C  0.721544  0.554228"
            ]
          },
          "execution_count": 64,
          "metadata": {},
          "output_type": "execute_result"
        }
      ],
      "source": [
        "# Indexing multiple rows and columns\n",
        "df.loc[['A','C'],['W','Y']]"
      ]
    },
    {
      "cell_type": "code",
      "execution_count": null,
      "metadata": {
        "id": "Iw2rPOtfQUUO",
        "outputId": "bc6d1bd1-3db2-48f2-8f77-b21ea0fcf3b4"
      },
      "outputs": [
        {
          "data": {
            "text/plain": [
              "0.5163986277024462"
            ]
          },
          "execution_count": 65,
          "metadata": {},
          "output_type": "execute_result"
        }
      ],
      "source": [
        "df.loc['A'].loc['W']"
      ]
    },
    {
      "cell_type": "code",
      "execution_count": null,
      "metadata": {
        "id": "F11OEAQaQUUO"
      },
      "outputs": [],
      "source": []
    },
    {
      "cell_type": "markdown",
      "metadata": {
        "id": "MmHMlgh9QUUO"
      },
      "source": [
        "#### Boolean Indexing"
      ]
    },
    {
      "cell_type": "code",
      "execution_count": null,
      "metadata": {
        "id": "TDgKLTU9QUUO",
        "outputId": "aac7b3b7-5b79-4eff-8b18-2d13ca68b16e"
      },
      "outputs": [
        {
          "data": {
            "text/html": [
              "<div>\n",
              "<style scoped>\n",
              "    .dataframe tbody tr th:only-of-type {\n",
              "        vertical-align: middle;\n",
              "    }\n",
              "\n",
              "    .dataframe tbody tr th {\n",
              "        vertical-align: top;\n",
              "    }\n",
              "\n",
              "    .dataframe thead th {\n",
              "        text-align: right;\n",
              "    }\n",
              "</style>\n",
              "<table border=\"1\" class=\"dataframe\">\n",
              "  <thead>\n",
              "    <tr style=\"text-align: right;\">\n",
              "      <th></th>\n",
              "      <th>W</th>\n",
              "      <th>X</th>\n",
              "      <th>Y</th>\n",
              "      <th>Z</th>\n",
              "    </tr>\n",
              "  </thead>\n",
              "  <tbody>\n",
              "    <tr>\n",
              "      <th>A</th>\n",
              "      <td>True</td>\n",
              "      <td>True</td>\n",
              "      <td>False</td>\n",
              "      <td>False</td>\n",
              "    </tr>\n",
              "    <tr>\n",
              "      <th>B</th>\n",
              "      <td>True</td>\n",
              "      <td>True</td>\n",
              "      <td>False</td>\n",
              "      <td>True</td>\n",
              "    </tr>\n",
              "    <tr>\n",
              "      <th>C</th>\n",
              "      <td>True</td>\n",
              "      <td>False</td>\n",
              "      <td>True</td>\n",
              "      <td>False</td>\n",
              "    </tr>\n",
              "    <tr>\n",
              "      <th>D</th>\n",
              "      <td>False</td>\n",
              "      <td>True</td>\n",
              "      <td>True</td>\n",
              "      <td>False</td>\n",
              "    </tr>\n",
              "    <tr>\n",
              "      <th>E</th>\n",
              "      <td>False</td>\n",
              "      <td>True</td>\n",
              "      <td>True</td>\n",
              "      <td>False</td>\n",
              "    </tr>\n",
              "    <tr>\n",
              "      <th>F</th>\n",
              "      <td>True</td>\n",
              "      <td>True</td>\n",
              "      <td>False</td>\n",
              "      <td>False</td>\n",
              "    </tr>\n",
              "  </tbody>\n",
              "</table>\n",
              "</div>"
            ],
            "text/plain": [
              "       W      X      Y      Z\n",
              "A   True   True  False  False\n",
              "B   True   True  False   True\n",
              "C   True  False   True  False\n",
              "D  False   True   True  False\n",
              "E  False   True   True  False\n",
              "F   True   True  False  False"
            ]
          },
          "execution_count": 66,
          "metadata": {},
          "output_type": "execute_result"
        }
      ],
      "source": [
        "df > 0.5"
      ]
    },
    {
      "cell_type": "code",
      "execution_count": null,
      "metadata": {
        "id": "QbS3aCvpQUUO",
        "outputId": "ae10b1e0-f8c1-4ad7-ba3c-09b7eecbbae3"
      },
      "outputs": [
        {
          "data": {
            "text/html": [
              "<div>\n",
              "<style scoped>\n",
              "    .dataframe tbody tr th:only-of-type {\n",
              "        vertical-align: middle;\n",
              "    }\n",
              "\n",
              "    .dataframe tbody tr th {\n",
              "        vertical-align: top;\n",
              "    }\n",
              "\n",
              "    .dataframe thead th {\n",
              "        text-align: right;\n",
              "    }\n",
              "</style>\n",
              "<table border=\"1\" class=\"dataframe\">\n",
              "  <thead>\n",
              "    <tr style=\"text-align: right;\">\n",
              "      <th></th>\n",
              "      <th>W</th>\n",
              "      <th>X</th>\n",
              "      <th>Y</th>\n",
              "      <th>Z</th>\n",
              "    </tr>\n",
              "  </thead>\n",
              "  <tbody>\n",
              "    <tr>\n",
              "      <th>A</th>\n",
              "      <td>0.516399</td>\n",
              "      <td>0.570668</td>\n",
              "      <td>NaN</td>\n",
              "      <td>NaN</td>\n",
              "    </tr>\n",
              "    <tr>\n",
              "      <th>B</th>\n",
              "      <td>0.685277</td>\n",
              "      <td>0.833897</td>\n",
              "      <td>NaN</td>\n",
              "      <td>0.893613</td>\n",
              "    </tr>\n",
              "    <tr>\n",
              "      <th>C</th>\n",
              "      <td>0.721544</td>\n",
              "      <td>NaN</td>\n",
              "      <td>0.554228</td>\n",
              "      <td>NaN</td>\n",
              "    </tr>\n",
              "    <tr>\n",
              "      <th>D</th>\n",
              "      <td>NaN</td>\n",
              "      <td>0.785602</td>\n",
              "      <td>0.965483</td>\n",
              "      <td>NaN</td>\n",
              "    </tr>\n",
              "    <tr>\n",
              "      <th>E</th>\n",
              "      <td>NaN</td>\n",
              "      <td>0.603548</td>\n",
              "      <td>0.728993</td>\n",
              "      <td>NaN</td>\n",
              "    </tr>\n",
              "    <tr>\n",
              "      <th>F</th>\n",
              "      <td>0.685306</td>\n",
              "      <td>0.517867</td>\n",
              "      <td>NaN</td>\n",
              "      <td>NaN</td>\n",
              "    </tr>\n",
              "  </tbody>\n",
              "</table>\n",
              "</div>"
            ],
            "text/plain": [
              "          W         X         Y         Z\n",
              "A  0.516399  0.570668       NaN       NaN\n",
              "B  0.685277  0.833897       NaN  0.893613\n",
              "C  0.721544       NaN  0.554228       NaN\n",
              "D       NaN  0.785602  0.965483       NaN\n",
              "E       NaN  0.603548  0.728993       NaN\n",
              "F  0.685306  0.517867       NaN       NaN"
            ]
          },
          "execution_count": 67,
          "metadata": {},
          "output_type": "execute_result"
        }
      ],
      "source": [
        "df[df > 0.5]"
      ]
    },
    {
      "cell_type": "code",
      "execution_count": null,
      "metadata": {
        "id": "TfS5nGxyQUUO",
        "outputId": "15d5e3c4-2d33-4405-f047-a30bf6800002"
      },
      "outputs": [
        {
          "data": {
            "text/html": [
              "<div>\n",
              "<style scoped>\n",
              "    .dataframe tbody tr th:only-of-type {\n",
              "        vertical-align: middle;\n",
              "    }\n",
              "\n",
              "    .dataframe tbody tr th {\n",
              "        vertical-align: top;\n",
              "    }\n",
              "\n",
              "    .dataframe thead th {\n",
              "        text-align: right;\n",
              "    }\n",
              "</style>\n",
              "<table border=\"1\" class=\"dataframe\">\n",
              "  <thead>\n",
              "    <tr style=\"text-align: right;\">\n",
              "      <th></th>\n",
              "      <th>W</th>\n",
              "      <th>X</th>\n",
              "      <th>Y</th>\n",
              "      <th>Z</th>\n",
              "    </tr>\n",
              "  </thead>\n",
              "  <tbody>\n",
              "    <tr>\n",
              "      <th>A</th>\n",
              "      <td>0.516399</td>\n",
              "      <td>0.570668</td>\n",
              "      <td>0.028474</td>\n",
              "      <td>0.171522</td>\n",
              "    </tr>\n",
              "    <tr>\n",
              "      <th>B</th>\n",
              "      <td>0.685277</td>\n",
              "      <td>0.833897</td>\n",
              "      <td>0.306966</td>\n",
              "      <td>0.893613</td>\n",
              "    </tr>\n",
              "    <tr>\n",
              "      <th>C</th>\n",
              "      <td>0.721544</td>\n",
              "      <td>0.189939</td>\n",
              "      <td>0.554228</td>\n",
              "      <td>0.352132</td>\n",
              "    </tr>\n",
              "    <tr>\n",
              "      <th>F</th>\n",
              "      <td>0.685306</td>\n",
              "      <td>0.517867</td>\n",
              "      <td>0.048485</td>\n",
              "      <td>0.137869</td>\n",
              "    </tr>\n",
              "  </tbody>\n",
              "</table>\n",
              "</div>"
            ],
            "text/plain": [
              "          W         X         Y         Z\n",
              "A  0.516399  0.570668  0.028474  0.171522\n",
              "B  0.685277  0.833897  0.306966  0.893613\n",
              "C  0.721544  0.189939  0.554228  0.352132\n",
              "F  0.685306  0.517867  0.048485  0.137869"
            ]
          },
          "execution_count": 68,
          "metadata": {},
          "output_type": "execute_result"
        }
      ],
      "source": [
        "df[df['W'] > 0.5]"
      ]
    },
    {
      "cell_type": "code",
      "execution_count": null,
      "metadata": {
        "id": "BbVeaELnQUUP",
        "outputId": "84880ee8-5382-48c9-e9e0-a7229f15b953"
      },
      "outputs": [
        {
          "data": {
            "text/plain": [
              "A    0.028474\n",
              "B    0.306966\n",
              "C    0.554228\n",
              "F    0.048485\n",
              "Name: Y, dtype: float64"
            ]
          },
          "execution_count": 69,
          "metadata": {},
          "output_type": "execute_result"
        }
      ],
      "source": [
        "df[df['W'] > 0.5]['Y']"
      ]
    },
    {
      "cell_type": "code",
      "execution_count": null,
      "metadata": {
        "id": "bkyZPRCRQUUP",
        "outputId": "663070aa-06e6-44bd-ede3-5bf9688375a3"
      },
      "outputs": [
        {
          "data": {
            "text/html": [
              "<div>\n",
              "<style scoped>\n",
              "    .dataframe tbody tr th:only-of-type {\n",
              "        vertical-align: middle;\n",
              "    }\n",
              "\n",
              "    .dataframe tbody tr th {\n",
              "        vertical-align: top;\n",
              "    }\n",
              "\n",
              "    .dataframe thead th {\n",
              "        text-align: right;\n",
              "    }\n",
              "</style>\n",
              "<table border=\"1\" class=\"dataframe\">\n",
              "  <thead>\n",
              "    <tr style=\"text-align: right;\">\n",
              "      <th></th>\n",
              "      <th>W</th>\n",
              "      <th>X</th>\n",
              "      <th>Y</th>\n",
              "      <th>Z</th>\n",
              "    </tr>\n",
              "  </thead>\n",
              "  <tbody>\n",
              "    <tr>\n",
              "      <th>A</th>\n",
              "      <td>0.516399</td>\n",
              "      <td>0.570668</td>\n",
              "      <td>0.028474</td>\n",
              "      <td>0.171522</td>\n",
              "    </tr>\n",
              "    <tr>\n",
              "      <th>B</th>\n",
              "      <td>0.685277</td>\n",
              "      <td>0.833897</td>\n",
              "      <td>0.306966</td>\n",
              "      <td>0.893613</td>\n",
              "    </tr>\n",
              "    <tr>\n",
              "      <th>C</th>\n",
              "      <td>0.721544</td>\n",
              "      <td>0.189939</td>\n",
              "      <td>0.554228</td>\n",
              "      <td>0.352132</td>\n",
              "    </tr>\n",
              "    <tr>\n",
              "      <th>F</th>\n",
              "      <td>0.685306</td>\n",
              "      <td>0.517867</td>\n",
              "      <td>0.048485</td>\n",
              "      <td>0.137869</td>\n",
              "    </tr>\n",
              "  </tbody>\n",
              "</table>\n",
              "</div>"
            ],
            "text/plain": [
              "          W         X         Y         Z\n",
              "A  0.516399  0.570668  0.028474  0.171522\n",
              "B  0.685277  0.833897  0.306966  0.893613\n",
              "C  0.721544  0.189939  0.554228  0.352132\n",
              "F  0.685306  0.517867  0.048485  0.137869"
            ]
          },
          "execution_count": 70,
          "metadata": {},
          "output_type": "execute_result"
        }
      ],
      "source": [
        "df[(df['W'] > 0.5) & (df['Y'] < 0.7)]"
      ]
    },
    {
      "cell_type": "code",
      "execution_count": null,
      "metadata": {
        "id": "VLq9UFRXQUUP",
        "outputId": "771d7fc6-eae6-4aaf-f80a-3c968d79350d"
      },
      "outputs": [
        {
          "data": {
            "text/html": [
              "<div>\n",
              "<style scoped>\n",
              "    .dataframe tbody tr th:only-of-type {\n",
              "        vertical-align: middle;\n",
              "    }\n",
              "\n",
              "    .dataframe tbody tr th {\n",
              "        vertical-align: top;\n",
              "    }\n",
              "\n",
              "    .dataframe thead th {\n",
              "        text-align: right;\n",
              "    }\n",
              "</style>\n",
              "<table border=\"1\" class=\"dataframe\">\n",
              "  <thead>\n",
              "    <tr style=\"text-align: right;\">\n",
              "      <th></th>\n",
              "      <th>index</th>\n",
              "      <th>W</th>\n",
              "      <th>X</th>\n",
              "      <th>Y</th>\n",
              "      <th>Z</th>\n",
              "    </tr>\n",
              "  </thead>\n",
              "  <tbody>\n",
              "    <tr>\n",
              "      <th>0</th>\n",
              "      <td>A</td>\n",
              "      <td>0.516399</td>\n",
              "      <td>0.570668</td>\n",
              "      <td>0.028474</td>\n",
              "      <td>0.171522</td>\n",
              "    </tr>\n",
              "    <tr>\n",
              "      <th>1</th>\n",
              "      <td>B</td>\n",
              "      <td>0.685277</td>\n",
              "      <td>0.833897</td>\n",
              "      <td>0.306966</td>\n",
              "      <td>0.893613</td>\n",
              "    </tr>\n",
              "    <tr>\n",
              "      <th>2</th>\n",
              "      <td>C</td>\n",
              "      <td>0.721544</td>\n",
              "      <td>0.189939</td>\n",
              "      <td>0.554228</td>\n",
              "      <td>0.352132</td>\n",
              "    </tr>\n",
              "    <tr>\n",
              "      <th>3</th>\n",
              "      <td>D</td>\n",
              "      <td>0.181892</td>\n",
              "      <td>0.785602</td>\n",
              "      <td>0.965483</td>\n",
              "      <td>0.232354</td>\n",
              "    </tr>\n",
              "    <tr>\n",
              "      <th>4</th>\n",
              "      <td>E</td>\n",
              "      <td>0.083561</td>\n",
              "      <td>0.603548</td>\n",
              "      <td>0.728993</td>\n",
              "      <td>0.276239</td>\n",
              "    </tr>\n",
              "    <tr>\n",
              "      <th>5</th>\n",
              "      <td>F</td>\n",
              "      <td>0.685306</td>\n",
              "      <td>0.517867</td>\n",
              "      <td>0.048485</td>\n",
              "      <td>0.137869</td>\n",
              "    </tr>\n",
              "  </tbody>\n",
              "</table>\n",
              "</div>"
            ],
            "text/plain": [
              "  index         W         X         Y         Z\n",
              "0     A  0.516399  0.570668  0.028474  0.171522\n",
              "1     B  0.685277  0.833897  0.306966  0.893613\n",
              "2     C  0.721544  0.189939  0.554228  0.352132\n",
              "3     D  0.181892  0.785602  0.965483  0.232354\n",
              "4     E  0.083561  0.603548  0.728993  0.276239\n",
              "5     F  0.685306  0.517867  0.048485  0.137869"
            ]
          },
          "execution_count": 71,
          "metadata": {},
          "output_type": "execute_result"
        }
      ],
      "source": [
        "# Reset to default 0,1...n index\n",
        "df.reset_index()"
      ]
    },
    {
      "cell_type": "code",
      "execution_count": null,
      "metadata": {
        "id": "_FRnp3JMQUUP",
        "outputId": "499d234e-ff84-4f4c-cddc-cf55f931dbc2"
      },
      "outputs": [
        {
          "data": {
            "text/html": [
              "<div>\n",
              "<style scoped>\n",
              "    .dataframe tbody tr th:only-of-type {\n",
              "        vertical-align: middle;\n",
              "    }\n",
              "\n",
              "    .dataframe tbody tr th {\n",
              "        vertical-align: top;\n",
              "    }\n",
              "\n",
              "    .dataframe thead th {\n",
              "        text-align: right;\n",
              "    }\n",
              "</style>\n",
              "<table border=\"1\" class=\"dataframe\">\n",
              "  <thead>\n",
              "    <tr style=\"text-align: right;\">\n",
              "      <th></th>\n",
              "      <th>W</th>\n",
              "      <th>X</th>\n",
              "      <th>Y</th>\n",
              "      <th>Z</th>\n",
              "      <th>Names</th>\n",
              "    </tr>\n",
              "  </thead>\n",
              "  <tbody>\n",
              "    <tr>\n",
              "      <th>A</th>\n",
              "      <td>0.516399</td>\n",
              "      <td>0.570668</td>\n",
              "      <td>0.028474</td>\n",
              "      <td>0.171522</td>\n",
              "      <td>Ahmed</td>\n",
              "    </tr>\n",
              "    <tr>\n",
              "      <th>B</th>\n",
              "      <td>0.685277</td>\n",
              "      <td>0.833897</td>\n",
              "      <td>0.306966</td>\n",
              "      <td>0.893613</td>\n",
              "      <td>Mustafa</td>\n",
              "    </tr>\n",
              "    <tr>\n",
              "      <th>C</th>\n",
              "      <td>0.721544</td>\n",
              "      <td>0.189939</td>\n",
              "      <td>0.554228</td>\n",
              "      <td>0.352132</td>\n",
              "      <td>Ali</td>\n",
              "    </tr>\n",
              "    <tr>\n",
              "      <th>D</th>\n",
              "      <td>0.181892</td>\n",
              "      <td>0.785602</td>\n",
              "      <td>0.965483</td>\n",
              "      <td>0.232354</td>\n",
              "      <td>Sara</td>\n",
              "    </tr>\n",
              "    <tr>\n",
              "      <th>E</th>\n",
              "      <td>0.083561</td>\n",
              "      <td>0.603548</td>\n",
              "      <td>0.728993</td>\n",
              "      <td>0.276239</td>\n",
              "      <td>Marwa</td>\n",
              "    </tr>\n",
              "    <tr>\n",
              "      <th>F</th>\n",
              "      <td>0.685306</td>\n",
              "      <td>0.517867</td>\n",
              "      <td>0.048485</td>\n",
              "      <td>0.137869</td>\n",
              "      <td>Mai</td>\n",
              "    </tr>\n",
              "  </tbody>\n",
              "</table>\n",
              "</div>"
            ],
            "text/plain": [
              "          W         X         Y         Z    Names\n",
              "A  0.516399  0.570668  0.028474  0.171522    Ahmed\n",
              "B  0.685277  0.833897  0.306966  0.893613  Mustafa\n",
              "C  0.721544  0.189939  0.554228  0.352132      Ali\n",
              "D  0.181892  0.785602  0.965483  0.232354     Sara\n",
              "E  0.083561  0.603548  0.728993  0.276239    Marwa\n",
              "F  0.685306  0.517867  0.048485  0.137869      Mai"
            ]
          },
          "execution_count": 72,
          "metadata": {},
          "output_type": "execute_result"
        }
      ],
      "source": [
        "# Let's add a new column\n",
        "df['Names'] = ['Ahmed', 'Mustafa', 'Ali', 'Sara', 'Marwa', 'Mai']\n",
        "df"
      ]
    },
    {
      "cell_type": "code",
      "execution_count": null,
      "metadata": {
        "id": "WiZzea0hQUUP",
        "outputId": "b15413f7-fbf4-46b5-e2f4-0818755f7c91"
      },
      "outputs": [
        {
          "data": {
            "text/html": [
              "<div>\n",
              "<style scoped>\n",
              "    .dataframe tbody tr th:only-of-type {\n",
              "        vertical-align: middle;\n",
              "    }\n",
              "\n",
              "    .dataframe tbody tr th {\n",
              "        vertical-align: top;\n",
              "    }\n",
              "\n",
              "    .dataframe thead th {\n",
              "        text-align: right;\n",
              "    }\n",
              "</style>\n",
              "<table border=\"1\" class=\"dataframe\">\n",
              "  <thead>\n",
              "    <tr style=\"text-align: right;\">\n",
              "      <th></th>\n",
              "      <th>W</th>\n",
              "      <th>X</th>\n",
              "      <th>Y</th>\n",
              "      <th>Z</th>\n",
              "    </tr>\n",
              "    <tr>\n",
              "      <th>Names</th>\n",
              "      <th></th>\n",
              "      <th></th>\n",
              "      <th></th>\n",
              "      <th></th>\n",
              "    </tr>\n",
              "  </thead>\n",
              "  <tbody>\n",
              "    <tr>\n",
              "      <th>Ahmed</th>\n",
              "      <td>0.516399</td>\n",
              "      <td>0.570668</td>\n",
              "      <td>0.028474</td>\n",
              "      <td>0.171522</td>\n",
              "    </tr>\n",
              "    <tr>\n",
              "      <th>Mustafa</th>\n",
              "      <td>0.685277</td>\n",
              "      <td>0.833897</td>\n",
              "      <td>0.306966</td>\n",
              "      <td>0.893613</td>\n",
              "    </tr>\n",
              "    <tr>\n",
              "      <th>Ali</th>\n",
              "      <td>0.721544</td>\n",
              "      <td>0.189939</td>\n",
              "      <td>0.554228</td>\n",
              "      <td>0.352132</td>\n",
              "    </tr>\n",
              "    <tr>\n",
              "      <th>Sara</th>\n",
              "      <td>0.181892</td>\n",
              "      <td>0.785602</td>\n",
              "      <td>0.965483</td>\n",
              "      <td>0.232354</td>\n",
              "    </tr>\n",
              "    <tr>\n",
              "      <th>Marwa</th>\n",
              "      <td>0.083561</td>\n",
              "      <td>0.603548</td>\n",
              "      <td>0.728993</td>\n",
              "      <td>0.276239</td>\n",
              "    </tr>\n",
              "    <tr>\n",
              "      <th>Mai</th>\n",
              "      <td>0.685306</td>\n",
              "      <td>0.517867</td>\n",
              "      <td>0.048485</td>\n",
              "      <td>0.137869</td>\n",
              "    </tr>\n",
              "  </tbody>\n",
              "</table>\n",
              "</div>"
            ],
            "text/plain": [
              "                W         X         Y         Z\n",
              "Names                                          \n",
              "Ahmed    0.516399  0.570668  0.028474  0.171522\n",
              "Mustafa  0.685277  0.833897  0.306966  0.893613\n",
              "Ali      0.721544  0.189939  0.554228  0.352132\n",
              "Sara     0.181892  0.785602  0.965483  0.232354\n",
              "Marwa    0.083561  0.603548  0.728993  0.276239\n",
              "Mai      0.685306  0.517867  0.048485  0.137869"
            ]
          },
          "execution_count": 73,
          "metadata": {},
          "output_type": "execute_result"
        }
      ],
      "source": [
        "# Setting the index to a specific column\n",
        "df.set_index('Names')"
      ]
    },
    {
      "cell_type": "code",
      "execution_count": null,
      "metadata": {
        "id": "y2gdAT0tQUUP",
        "outputId": "4aca2d6d-f09a-4886-f9fd-0cfd42298161"
      },
      "outputs": [
        {
          "data": {
            "text/html": [
              "<div>\n",
              "<style scoped>\n",
              "    .dataframe tbody tr th:only-of-type {\n",
              "        vertical-align: middle;\n",
              "    }\n",
              "\n",
              "    .dataframe tbody tr th {\n",
              "        vertical-align: top;\n",
              "    }\n",
              "\n",
              "    .dataframe thead th {\n",
              "        text-align: right;\n",
              "    }\n",
              "</style>\n",
              "<table border=\"1\" class=\"dataframe\">\n",
              "  <thead>\n",
              "    <tr style=\"text-align: right;\">\n",
              "      <th></th>\n",
              "      <th>W</th>\n",
              "      <th>X</th>\n",
              "      <th>Y</th>\n",
              "      <th>Z</th>\n",
              "      <th>Names</th>\n",
              "    </tr>\n",
              "  </thead>\n",
              "  <tbody>\n",
              "    <tr>\n",
              "      <th>A</th>\n",
              "      <td>0.516399</td>\n",
              "      <td>0.570668</td>\n",
              "      <td>0.028474</td>\n",
              "      <td>0.171522</td>\n",
              "      <td>Ahmed</td>\n",
              "    </tr>\n",
              "    <tr>\n",
              "      <th>B</th>\n",
              "      <td>0.685277</td>\n",
              "      <td>0.833897</td>\n",
              "      <td>0.306966</td>\n",
              "      <td>0.893613</td>\n",
              "      <td>Mustafa</td>\n",
              "    </tr>\n",
              "    <tr>\n",
              "      <th>C</th>\n",
              "      <td>0.721544</td>\n",
              "      <td>0.189939</td>\n",
              "      <td>0.554228</td>\n",
              "      <td>0.352132</td>\n",
              "      <td>Ali</td>\n",
              "    </tr>\n",
              "    <tr>\n",
              "      <th>D</th>\n",
              "      <td>0.181892</td>\n",
              "      <td>0.785602</td>\n",
              "      <td>0.965483</td>\n",
              "      <td>0.232354</td>\n",
              "      <td>Sara</td>\n",
              "    </tr>\n",
              "    <tr>\n",
              "      <th>E</th>\n",
              "      <td>0.083561</td>\n",
              "      <td>0.603548</td>\n",
              "      <td>0.728993</td>\n",
              "      <td>0.276239</td>\n",
              "      <td>Marwa</td>\n",
              "    </tr>\n",
              "    <tr>\n",
              "      <th>F</th>\n",
              "      <td>0.685306</td>\n",
              "      <td>0.517867</td>\n",
              "      <td>0.048485</td>\n",
              "      <td>0.137869</td>\n",
              "      <td>Mai</td>\n",
              "    </tr>\n",
              "  </tbody>\n",
              "</table>\n",
              "</div>"
            ],
            "text/plain": [
              "          W         X         Y         Z    Names\n",
              "A  0.516399  0.570668  0.028474  0.171522    Ahmed\n",
              "B  0.685277  0.833897  0.306966  0.893613  Mustafa\n",
              "C  0.721544  0.189939  0.554228  0.352132      Ali\n",
              "D  0.181892  0.785602  0.965483  0.232354     Sara\n",
              "E  0.083561  0.603548  0.728993  0.276239    Marwa\n",
              "F  0.685306  0.517867  0.048485  0.137869      Mai"
            ]
          },
          "execution_count": 74,
          "metadata": {},
          "output_type": "execute_result"
        }
      ],
      "source": [
        "df"
      ]
    },
    {
      "cell_type": "code",
      "execution_count": null,
      "metadata": {
        "id": "i5Ma5RLxQUUQ"
      },
      "outputs": [],
      "source": [
        "df.drop('Names', axis=1, inplace=True)"
      ]
    },
    {
      "cell_type": "code",
      "execution_count": null,
      "metadata": {
        "id": "FowlgnD9QUUQ",
        "outputId": "68314924-772a-4fe0-a62f-035c2986a6af"
      },
      "outputs": [
        {
          "data": {
            "text/html": [
              "<div>\n",
              "<style scoped>\n",
              "    .dataframe tbody tr th:only-of-type {\n",
              "        vertical-align: middle;\n",
              "    }\n",
              "\n",
              "    .dataframe tbody tr th {\n",
              "        vertical-align: top;\n",
              "    }\n",
              "\n",
              "    .dataframe thead th {\n",
              "        text-align: right;\n",
              "    }\n",
              "</style>\n",
              "<table border=\"1\" class=\"dataframe\">\n",
              "  <thead>\n",
              "    <tr style=\"text-align: right;\">\n",
              "      <th></th>\n",
              "      <th>W</th>\n",
              "      <th>X</th>\n",
              "      <th>Y</th>\n",
              "      <th>Z</th>\n",
              "    </tr>\n",
              "  </thead>\n",
              "  <tbody>\n",
              "    <tr>\n",
              "      <th>A</th>\n",
              "      <td>0.516399</td>\n",
              "      <td>0.570668</td>\n",
              "      <td>0.028474</td>\n",
              "      <td>0.171522</td>\n",
              "    </tr>\n",
              "    <tr>\n",
              "      <th>B</th>\n",
              "      <td>0.685277</td>\n",
              "      <td>0.833897</td>\n",
              "      <td>0.306966</td>\n",
              "      <td>0.893613</td>\n",
              "    </tr>\n",
              "    <tr>\n",
              "      <th>C</th>\n",
              "      <td>0.721544</td>\n",
              "      <td>0.189939</td>\n",
              "      <td>0.554228</td>\n",
              "      <td>0.352132</td>\n",
              "    </tr>\n",
              "    <tr>\n",
              "      <th>D</th>\n",
              "      <td>0.181892</td>\n",
              "      <td>0.785602</td>\n",
              "      <td>0.965483</td>\n",
              "      <td>0.232354</td>\n",
              "    </tr>\n",
              "    <tr>\n",
              "      <th>E</th>\n",
              "      <td>0.083561</td>\n",
              "      <td>0.603548</td>\n",
              "      <td>0.728993</td>\n",
              "      <td>0.276239</td>\n",
              "    </tr>\n",
              "    <tr>\n",
              "      <th>F</th>\n",
              "      <td>0.685306</td>\n",
              "      <td>0.517867</td>\n",
              "      <td>0.048485</td>\n",
              "      <td>0.137869</td>\n",
              "    </tr>\n",
              "  </tbody>\n",
              "</table>\n",
              "</div>"
            ],
            "text/plain": [
              "          W         X         Y         Z\n",
              "A  0.516399  0.570668  0.028474  0.171522\n",
              "B  0.685277  0.833897  0.306966  0.893613\n",
              "C  0.721544  0.189939  0.554228  0.352132\n",
              "D  0.181892  0.785602  0.965483  0.232354\n",
              "E  0.083561  0.603548  0.728993  0.276239\n",
              "F  0.685306  0.517867  0.048485  0.137869"
            ]
          },
          "execution_count": 77,
          "metadata": {},
          "output_type": "execute_result"
        }
      ],
      "source": [
        "df"
      ]
    },
    {
      "cell_type": "code",
      "execution_count": null,
      "metadata": {
        "id": "78QAgeWkQUUQ"
      },
      "outputs": [],
      "source": []
    },
    {
      "cell_type": "markdown",
      "metadata": {
        "id": "Ju0tnJbIQUUQ"
      },
      "source": [
        "=========="
      ]
    },
    {
      "cell_type": "markdown",
      "metadata": {
        "id": "zciresWtQUUQ"
      },
      "source": [
        "### Data Cleaning"
      ]
    },
    {
      "cell_type": "markdown",
      "metadata": {
        "id": "sJPmsYcmQUUQ"
      },
      "source": [
        "| Method / Attribute                           \t| Description                                         \t|\n",
        "|----------------------------------------------\t|-----------------------------------------------------\t|\n",
        "| df.columns = ['a','b','c']                   \t| Rename columns                                      \t|\n",
        "| pd.isnull()                                  \t| Checks for null Values, Returns Boolean Arrray      \t|\n",
        "| pd.notnull()                                 \t| Opposite of pd.isnull()                             \t|\n",
        "| df.dropna()                                  \t| Drop all rows that contain null values              \t|\n",
        "| df.dropna(axis=1)                            \t| Drop all columns that contain null values           \t|\n",
        "| df.dropna(axis=1,thresh=n)                   \t| Drop all rows have have less than n non null values \t|\n",
        "| df.fillna(x)                                 \t| Replace all null values with x                      \t|\n",
        "| s.fillna(s.mean())                           \t| Replace all null values with the mean               \t|\n",
        "| s.astype(float)                              \t| Convert the datatype of the series to float         \t|\n",
        "| s.replace(1,'one')                           \t| Replace all values equal to 1 with 'one'            \t|\n",
        "| s.replace([2,3],['two', 'three'])            \t| Replace all 2 with 'two' and 3 with 'three'         \t|\n",
        "| df.rename(columns={'old_name': 'new_ name'}) \t| Selective renaming                                  \t|\n",
        "| df.set_index('column_one')                   \t| Change the index                                    \t|"
      ]
    },
    {
      "cell_type": "code",
      "execution_count": null,
      "metadata": {
        "id": "qch95VzMQUUR",
        "outputId": "caea57a4-855f-4874-e5b6-ed9748abc311"
      },
      "outputs": [
        {
          "data": {
            "text/html": [
              "<div>\n",
              "<style scoped>\n",
              "    .dataframe tbody tr th:only-of-type {\n",
              "        vertical-align: middle;\n",
              "    }\n",
              "\n",
              "    .dataframe tbody tr th {\n",
              "        vertical-align: top;\n",
              "    }\n",
              "\n",
              "    .dataframe thead th {\n",
              "        text-align: right;\n",
              "    }\n",
              "</style>\n",
              "<table border=\"1\" class=\"dataframe\">\n",
              "  <thead>\n",
              "    <tr style=\"text-align: right;\">\n",
              "      <th></th>\n",
              "      <th>A</th>\n",
              "      <th>B</th>\n",
              "      <th>C</th>\n",
              "    </tr>\n",
              "  </thead>\n",
              "  <tbody>\n",
              "    <tr>\n",
              "      <th>0</th>\n",
              "      <td>1.0</td>\n",
              "      <td>5.0</td>\n",
              "      <td>1</td>\n",
              "    </tr>\n",
              "    <tr>\n",
              "      <th>1</th>\n",
              "      <td>2.0</td>\n",
              "      <td>NaN</td>\n",
              "      <td>2</td>\n",
              "    </tr>\n",
              "    <tr>\n",
              "      <th>2</th>\n",
              "      <td>NaN</td>\n",
              "      <td>NaN</td>\n",
              "      <td>3</td>\n",
              "    </tr>\n",
              "  </tbody>\n",
              "</table>\n",
              "</div>"
            ],
            "text/plain": [
              "     A    B  C\n",
              "0  1.0  5.0  1\n",
              "1  2.0  NaN  2\n",
              "2  NaN  NaN  3"
            ]
          },
          "execution_count": 78,
          "metadata": {},
          "output_type": "execute_result"
        }
      ],
      "source": [
        "df_clean = pd.DataFrame({'A':[1,2,np.nan],\n",
        "                  'B':[5,np.nan,np.nan],\n",
        "                  'C':[1,2,3]})\n",
        "df_clean"
      ]
    },
    {
      "cell_type": "code",
      "execution_count": null,
      "metadata": {
        "id": "zxx5Mjx1QUUR",
        "outputId": "22ddb77a-b969-4205-e106-08261560ca1a"
      },
      "outputs": [
        {
          "data": {
            "text/html": [
              "<div>\n",
              "<style scoped>\n",
              "    .dataframe tbody tr th:only-of-type {\n",
              "        vertical-align: middle;\n",
              "    }\n",
              "\n",
              "    .dataframe tbody tr th {\n",
              "        vertical-align: top;\n",
              "    }\n",
              "\n",
              "    .dataframe thead th {\n",
              "        text-align: right;\n",
              "    }\n",
              "</style>\n",
              "<table border=\"1\" class=\"dataframe\">\n",
              "  <thead>\n",
              "    <tr style=\"text-align: right;\">\n",
              "      <th></th>\n",
              "      <th>A</th>\n",
              "      <th>B</th>\n",
              "      <th>C</th>\n",
              "    </tr>\n",
              "  </thead>\n",
              "  <tbody>\n",
              "    <tr>\n",
              "      <th>0</th>\n",
              "      <td>False</td>\n",
              "      <td>False</td>\n",
              "      <td>False</td>\n",
              "    </tr>\n",
              "    <tr>\n",
              "      <th>1</th>\n",
              "      <td>False</td>\n",
              "      <td>True</td>\n",
              "      <td>False</td>\n",
              "    </tr>\n",
              "    <tr>\n",
              "      <th>2</th>\n",
              "      <td>True</td>\n",
              "      <td>True</td>\n",
              "      <td>False</td>\n",
              "    </tr>\n",
              "  </tbody>\n",
              "</table>\n",
              "</div>"
            ],
            "text/plain": [
              "       A      B      C\n",
              "0  False  False  False\n",
              "1  False   True  False\n",
              "2   True   True  False"
            ]
          },
          "execution_count": 79,
          "metadata": {},
          "output_type": "execute_result"
        }
      ],
      "source": [
        "# Checking for all the missing values\n",
        "df_clean.isnull()"
      ]
    },
    {
      "cell_type": "code",
      "execution_count": null,
      "metadata": {
        "id": "MPFoFJNvQUUR",
        "outputId": "e1832b10-e150-4ffb-fdce-61bce7d13a8f"
      },
      "outputs": [
        {
          "data": {
            "text/plain": [
              "A    1\n",
              "B    2\n",
              "C    0\n",
              "dtype: int64"
            ]
          },
          "execution_count": 80,
          "metadata": {},
          "output_type": "execute_result"
        }
      ],
      "source": [
        "# Summing all the missing values in each columns\n",
        "df_clean.isna().sum()"
      ]
    },
    {
      "cell_type": "code",
      "execution_count": null,
      "metadata": {
        "id": "7Rk-Y1rxQUUR",
        "outputId": "c48e57a6-b42e-4520-f312-48b15ddd7fc0"
      },
      "outputs": [
        {
          "data": {
            "text/html": [
              "<div>\n",
              "<style scoped>\n",
              "    .dataframe tbody tr th:only-of-type {\n",
              "        vertical-align: middle;\n",
              "    }\n",
              "\n",
              "    .dataframe tbody tr th {\n",
              "        vertical-align: top;\n",
              "    }\n",
              "\n",
              "    .dataframe thead th {\n",
              "        text-align: right;\n",
              "    }\n",
              "</style>\n",
              "<table border=\"1\" class=\"dataframe\">\n",
              "  <thead>\n",
              "    <tr style=\"text-align: right;\">\n",
              "      <th></th>\n",
              "      <th>A</th>\n",
              "      <th>B</th>\n",
              "      <th>C</th>\n",
              "    </tr>\n",
              "  </thead>\n",
              "  <tbody>\n",
              "    <tr>\n",
              "      <th>0</th>\n",
              "      <td>1.0</td>\n",
              "      <td>5.0</td>\n",
              "      <td>1</td>\n",
              "    </tr>\n",
              "  </tbody>\n",
              "</table>\n",
              "</div>"
            ],
            "text/plain": [
              "     A    B  C\n",
              "0  1.0  5.0  1"
            ]
          },
          "execution_count": 81,
          "metadata": {},
          "output_type": "execute_result"
        }
      ],
      "source": [
        "# Dropping all the rows that have missing values\n",
        "df_clean.dropna()"
      ]
    },
    {
      "cell_type": "code",
      "execution_count": null,
      "metadata": {
        "id": "dK4VsMZOQUUR",
        "outputId": "f7cd3e09-d7e5-4ea5-f0ea-def1b85fc750"
      },
      "outputs": [
        {
          "data": {
            "text/html": [
              "<div>\n",
              "<style scoped>\n",
              "    .dataframe tbody tr th:only-of-type {\n",
              "        vertical-align: middle;\n",
              "    }\n",
              "\n",
              "    .dataframe tbody tr th {\n",
              "        vertical-align: top;\n",
              "    }\n",
              "\n",
              "    .dataframe thead th {\n",
              "        text-align: right;\n",
              "    }\n",
              "</style>\n",
              "<table border=\"1\" class=\"dataframe\">\n",
              "  <thead>\n",
              "    <tr style=\"text-align: right;\">\n",
              "      <th></th>\n",
              "      <th>A</th>\n",
              "      <th>C</th>\n",
              "    </tr>\n",
              "  </thead>\n",
              "  <tbody>\n",
              "    <tr>\n",
              "      <th>0</th>\n",
              "      <td>1.0</td>\n",
              "      <td>1</td>\n",
              "    </tr>\n",
              "    <tr>\n",
              "      <th>1</th>\n",
              "      <td>2.0</td>\n",
              "      <td>2</td>\n",
              "    </tr>\n",
              "    <tr>\n",
              "      <th>2</th>\n",
              "      <td>NaN</td>\n",
              "      <td>3</td>\n",
              "    </tr>\n",
              "  </tbody>\n",
              "</table>\n",
              "</div>"
            ],
            "text/plain": [
              "     A  C\n",
              "0  1.0  1\n",
              "1  2.0  2\n",
              "2  NaN  3"
            ]
          },
          "execution_count": 82,
          "metadata": {},
          "output_type": "execute_result"
        }
      ],
      "source": [
        "# Dropping all columns have 2 non-null values or more\n",
        "df_clean.dropna(axis=1, thresh=2)"
      ]
    },
    {
      "cell_type": "code",
      "execution_count": null,
      "metadata": {
        "id": "xaM5n8drQUUR",
        "outputId": "6e742310-2a54-47af-adb0-f1c30ebdcd74"
      },
      "outputs": [
        {
          "data": {
            "text/html": [
              "<div>\n",
              "<style scoped>\n",
              "    .dataframe tbody tr th:only-of-type {\n",
              "        vertical-align: middle;\n",
              "    }\n",
              "\n",
              "    .dataframe tbody tr th {\n",
              "        vertical-align: top;\n",
              "    }\n",
              "\n",
              "    .dataframe thead th {\n",
              "        text-align: right;\n",
              "    }\n",
              "</style>\n",
              "<table border=\"1\" class=\"dataframe\">\n",
              "  <thead>\n",
              "    <tr style=\"text-align: right;\">\n",
              "      <th></th>\n",
              "      <th>A</th>\n",
              "      <th>B</th>\n",
              "      <th>C</th>\n",
              "    </tr>\n",
              "  </thead>\n",
              "  <tbody>\n",
              "    <tr>\n",
              "      <th>0</th>\n",
              "      <td>1</td>\n",
              "      <td>5</td>\n",
              "      <td>1</td>\n",
              "    </tr>\n",
              "    <tr>\n",
              "      <th>1</th>\n",
              "      <td>2</td>\n",
              "      <td>FILL</td>\n",
              "      <td>2</td>\n",
              "    </tr>\n",
              "    <tr>\n",
              "      <th>2</th>\n",
              "      <td>FILL</td>\n",
              "      <td>FILL</td>\n",
              "      <td>3</td>\n",
              "    </tr>\n",
              "  </tbody>\n",
              "</table>\n",
              "</div>"
            ],
            "text/plain": [
              "      A     B  C\n",
              "0     1     5  1\n",
              "1     2  FILL  2\n",
              "2  FILL  FILL  3"
            ]
          },
          "execution_count": 83,
          "metadata": {},
          "output_type": "execute_result"
        }
      ],
      "source": [
        "# Filling all the missing values\n",
        "df_clean.fillna(value='FILL')"
      ]
    },
    {
      "cell_type": "code",
      "execution_count": null,
      "metadata": {
        "id": "y-KyaqHGQUUS",
        "outputId": "6322b98a-eb62-4ce9-b65c-83cecb700052"
      },
      "outputs": [
        {
          "data": {
            "text/plain": [
              "0    1.0\n",
              "1    2.0\n",
              "2    1.5\n",
              "Name: A, dtype: float64"
            ]
          },
          "execution_count": 84,
          "metadata": {},
          "output_type": "execute_result"
        }
      ],
      "source": [
        "# Filling the missing data in a column with the mean value of this column\n",
        "df_clean['A'].fillna(value=df_clean['A'].mean())"
      ]
    },
    {
      "cell_type": "code",
      "execution_count": null,
      "metadata": {
        "scrolled": true,
        "id": "cQgfDUg6QUUS",
        "outputId": "2b99f2b1-5b7b-4adb-9604-517dea7d3cbf"
      },
      "outputs": [
        {
          "data": {
            "text/html": [
              "<div>\n",
              "<style scoped>\n",
              "    .dataframe tbody tr th:only-of-type {\n",
              "        vertical-align: middle;\n",
              "    }\n",
              "\n",
              "    .dataframe tbody tr th {\n",
              "        vertical-align: top;\n",
              "    }\n",
              "\n",
              "    .dataframe thead th {\n",
              "        text-align: right;\n",
              "    }\n",
              "</style>\n",
              "<table border=\"1\" class=\"dataframe\">\n",
              "  <thead>\n",
              "    <tr style=\"text-align: right;\">\n",
              "      <th></th>\n",
              "      <th>X</th>\n",
              "      <th>B</th>\n",
              "      <th>C</th>\n",
              "    </tr>\n",
              "  </thead>\n",
              "  <tbody>\n",
              "    <tr>\n",
              "      <th>0</th>\n",
              "      <td>1.0</td>\n",
              "      <td>5.0</td>\n",
              "      <td>1</td>\n",
              "    </tr>\n",
              "    <tr>\n",
              "      <th>1</th>\n",
              "      <td>2.0</td>\n",
              "      <td>NaN</td>\n",
              "      <td>2</td>\n",
              "    </tr>\n",
              "    <tr>\n",
              "      <th>2</th>\n",
              "      <td>NaN</td>\n",
              "      <td>NaN</td>\n",
              "      <td>3</td>\n",
              "    </tr>\n",
              "  </tbody>\n",
              "</table>\n",
              "</div>"
            ],
            "text/plain": [
              "     X    B  C\n",
              "0  1.0  5.0  1\n",
              "1  2.0  NaN  2\n",
              "2  NaN  NaN  3"
            ]
          },
          "execution_count": 85,
          "metadata": {},
          "output_type": "execute_result"
        }
      ],
      "source": [
        "# Renaming a specific column name\n",
        "df_clean.rename(columns={'A':'X'})"
      ]
    },
    {
      "cell_type": "code",
      "execution_count": null,
      "metadata": {
        "id": "eqfjcS-pQUUS",
        "outputId": "d1e6f2d3-e7e6-43d5-89d1-572a35bd3165"
      },
      "outputs": [
        {
          "data": {
            "text/html": [
              "<div>\n",
              "<style scoped>\n",
              "    .dataframe tbody tr th:only-of-type {\n",
              "        vertical-align: middle;\n",
              "    }\n",
              "\n",
              "    .dataframe tbody tr th {\n",
              "        vertical-align: top;\n",
              "    }\n",
              "\n",
              "    .dataframe thead th {\n",
              "        text-align: right;\n",
              "    }\n",
              "</style>\n",
              "<table border=\"1\" class=\"dataframe\">\n",
              "  <thead>\n",
              "    <tr style=\"text-align: right;\">\n",
              "      <th></th>\n",
              "      <th>A</th>\n",
              "      <th>B</th>\n",
              "      <th>C</th>\n",
              "    </tr>\n",
              "  </thead>\n",
              "  <tbody>\n",
              "    <tr>\n",
              "      <th>0</th>\n",
              "      <td>one</td>\n",
              "      <td>5.0</td>\n",
              "      <td>one</td>\n",
              "    </tr>\n",
              "    <tr>\n",
              "      <th>1</th>\n",
              "      <td>2</td>\n",
              "      <td>NaN</td>\n",
              "      <td>2</td>\n",
              "    </tr>\n",
              "    <tr>\n",
              "      <th>2</th>\n",
              "      <td>NaN</td>\n",
              "      <td>NaN</td>\n",
              "      <td>3</td>\n",
              "    </tr>\n",
              "  </tbody>\n",
              "</table>\n",
              "</div>"
            ],
            "text/plain": [
              "     A    B    C\n",
              "0  one  5.0  one\n",
              "1    2  NaN    2\n",
              "2  NaN  NaN    3"
            ]
          },
          "execution_count": 86,
          "metadata": {},
          "output_type": "execute_result"
        }
      ],
      "source": [
        "# Replace all values equal to 1 with 'one'\n",
        "df_clean.replace(1,'one')"
      ]
    },
    {
      "cell_type": "code",
      "execution_count": null,
      "metadata": {
        "id": "TApkoFsnQUUS",
        "outputId": "4ec35f62-2f3e-4eb8-cd58-a5b38945b4b2"
      },
      "outputs": [
        {
          "data": {
            "text/plain": [
              "0    1.0\n",
              "1    2.0\n",
              "2    NaN\n",
              "Name: A, dtype: float64"
            ]
          },
          "execution_count": 87,
          "metadata": {},
          "output_type": "execute_result"
        }
      ],
      "source": [
        "# Convert the datatype of the DataFrame to float\n",
        "df_clean['A'].astype(float)"
      ]
    },
    {
      "cell_type": "code",
      "execution_count": null,
      "metadata": {
        "id": "npgR4dHdQUUS"
      },
      "outputs": [],
      "source": []
    },
    {
      "cell_type": "markdown",
      "metadata": {
        "id": "X4NCoUDXQUUS"
      },
      "source": [
        "=========="
      ]
    },
    {
      "cell_type": "markdown",
      "metadata": {
        "id": "D9GHJYjJQUUS"
      },
      "source": [
        "### Data Manipulation"
      ]
    },
    {
      "cell_type": "markdown",
      "metadata": {
        "id": "weWXJ_cPQUUT"
      },
      "source": [
        "### Sorting, Grouping & Pivot Tables"
      ]
    },
    {
      "cell_type": "markdown",
      "metadata": {
        "id": "ZrqZlcRDQUUT"
      },
      "source": [
        "| Method / Attribute                                         \t| Description                                                                       \t|\n",
        "|------------------------------------------------------------\t|-----------------------------------------------------------------------------------\t|\n",
        "| df[df[col] > 0.6]                                          \t| Rows where the column col is greater than 0.6                                     \t|\n",
        "| df[(df[col] > 0.6) & (df[col] < 0.8)]                      \t| Rows where 0.8 > col > 0.6                                                        \t|\n",
        "| df.sort_values(col1)                                       \t| Sort values by col1 in ascending order                                            \t|\n",
        "| df.sort_values(col2,ascending=False)                       \t| Sort values by col2 in descending order.5                                         \t|\n",
        "| df.sort_values([col1,col2],ascending=[True,False])         \t| Sort values by col1 in ascending order then col2 in descending order              \t|\n",
        "| df.groupby(col)                                            \t| Returns a groupby object for values from one column                               \t|\n",
        "| df.groupby([col1,col2])                                    \t| Returns groupby object for values from multiple columns                           \t|\n",
        "| df.groupby(col1)[col2]                                     \t| Returns the mean of the values in col2, grouped by the values in col1             \t|\n",
        "| df.pivot_table(index=col1,values=[col2,col3],aggfunc=mean) \t| Create a pivot table that groups by col1 and calculates the mean of col2 and col3 \t|\n",
        "| df.groupby(col1).agg(np.mean)                              \t| Find the average across all columns for every unique col1 group                   \t|\n",
        "| df.apply(np.mean)                                          \t| Apply the function np.mean() across each column                                   \t|\n",
        "| nf.apply(np.max,axis=1)                                    \t| Apply the function np.max() across each row                                       \t|"
      ]
    },
    {
      "cell_type": "code",
      "execution_count": null,
      "metadata": {
        "scrolled": true,
        "id": "eAsYOXwUQUUT",
        "outputId": "c7bcbbac-4425-42d3-990b-ceefc7f03b6a"
      },
      "outputs": [
        {
          "data": {
            "text/html": [
              "<div>\n",
              "<style scoped>\n",
              "    .dataframe tbody tr th:only-of-type {\n",
              "        vertical-align: middle;\n",
              "    }\n",
              "\n",
              "    .dataframe tbody tr th {\n",
              "        vertical-align: top;\n",
              "    }\n",
              "\n",
              "    .dataframe thead th {\n",
              "        text-align: right;\n",
              "    }\n",
              "</style>\n",
              "<table border=\"1\" class=\"dataframe\">\n",
              "  <thead>\n",
              "    <tr style=\"text-align: right;\">\n",
              "      <th></th>\n",
              "      <th>Company</th>\n",
              "      <th>Person</th>\n",
              "      <th>Sales</th>\n",
              "    </tr>\n",
              "  </thead>\n",
              "  <tbody>\n",
              "    <tr>\n",
              "      <th>0</th>\n",
              "      <td>GOOG</td>\n",
              "      <td>Sam</td>\n",
              "      <td>200</td>\n",
              "    </tr>\n",
              "    <tr>\n",
              "      <th>1</th>\n",
              "      <td>GOOG</td>\n",
              "      <td>Charlie</td>\n",
              "      <td>120</td>\n",
              "    </tr>\n",
              "    <tr>\n",
              "      <th>2</th>\n",
              "      <td>MSFT</td>\n",
              "      <td>Amy</td>\n",
              "      <td>340</td>\n",
              "    </tr>\n",
              "    <tr>\n",
              "      <th>3</th>\n",
              "      <td>MSFT</td>\n",
              "      <td>Vanessa</td>\n",
              "      <td>124</td>\n",
              "    </tr>\n",
              "    <tr>\n",
              "      <th>4</th>\n",
              "      <td>FB</td>\n",
              "      <td>Carl</td>\n",
              "      <td>243</td>\n",
              "    </tr>\n",
              "    <tr>\n",
              "      <th>5</th>\n",
              "      <td>FB</td>\n",
              "      <td>Sarah</td>\n",
              "      <td>350</td>\n",
              "    </tr>\n",
              "  </tbody>\n",
              "</table>\n",
              "</div>"
            ],
            "text/plain": [
              "  Company   Person  Sales\n",
              "0    GOOG      Sam    200\n",
              "1    GOOG  Charlie    120\n",
              "2    MSFT      Amy    340\n",
              "3    MSFT  Vanessa    124\n",
              "4      FB     Carl    243\n",
              "5      FB    Sarah    350"
            ]
          },
          "execution_count": 88,
          "metadata": {},
          "output_type": "execute_result"
        }
      ],
      "source": [
        "# Create dataframe\n",
        "data = {'Company':['GOOG','GOOG','MSFT','MSFT','FB','FB'],\n",
        "       'Person':['Sam','Charlie','Amy','Vanessa','Carl','Sarah'],\n",
        "       'Sales':[200,120,340,124,243,350]}\n",
        "df_group = pd.DataFrame(data)\n",
        "df_group"
      ]
    },
    {
      "cell_type": "markdown",
      "metadata": {
        "id": "cLvXqcEwQUUT"
      },
      "source": [
        "#### Sorting"
      ]
    },
    {
      "cell_type": "code",
      "execution_count": null,
      "metadata": {
        "id": "N55pwuaNQUUT",
        "outputId": "9c420c57-f4e4-481d-bc46-38ed8ef751ec"
      },
      "outputs": [
        {
          "data": {
            "text/html": [
              "<div>\n",
              "<style scoped>\n",
              "    .dataframe tbody tr th:only-of-type {\n",
              "        vertical-align: middle;\n",
              "    }\n",
              "\n",
              "    .dataframe tbody tr th {\n",
              "        vertical-align: top;\n",
              "    }\n",
              "\n",
              "    .dataframe thead th {\n",
              "        text-align: right;\n",
              "    }\n",
              "</style>\n",
              "<table border=\"1\" class=\"dataframe\">\n",
              "  <thead>\n",
              "    <tr style=\"text-align: right;\">\n",
              "      <th></th>\n",
              "      <th>Company</th>\n",
              "      <th>Person</th>\n",
              "      <th>Sales</th>\n",
              "    </tr>\n",
              "  </thead>\n",
              "  <tbody>\n",
              "    <tr>\n",
              "      <th>1</th>\n",
              "      <td>GOOG</td>\n",
              "      <td>Charlie</td>\n",
              "      <td>120</td>\n",
              "    </tr>\n",
              "    <tr>\n",
              "      <th>3</th>\n",
              "      <td>MSFT</td>\n",
              "      <td>Vanessa</td>\n",
              "      <td>124</td>\n",
              "    </tr>\n",
              "    <tr>\n",
              "      <th>0</th>\n",
              "      <td>GOOG</td>\n",
              "      <td>Sam</td>\n",
              "      <td>200</td>\n",
              "    </tr>\n",
              "    <tr>\n",
              "      <th>4</th>\n",
              "      <td>FB</td>\n",
              "      <td>Carl</td>\n",
              "      <td>243</td>\n",
              "    </tr>\n",
              "    <tr>\n",
              "      <th>2</th>\n",
              "      <td>MSFT</td>\n",
              "      <td>Amy</td>\n",
              "      <td>340</td>\n",
              "    </tr>\n",
              "    <tr>\n",
              "      <th>5</th>\n",
              "      <td>FB</td>\n",
              "      <td>Sarah</td>\n",
              "      <td>350</td>\n",
              "    </tr>\n",
              "  </tbody>\n",
              "</table>\n",
              "</div>"
            ],
            "text/plain": [
              "  Company   Person  Sales\n",
              "1    GOOG  Charlie    120\n",
              "3    MSFT  Vanessa    124\n",
              "0    GOOG      Sam    200\n",
              "4      FB     Carl    243\n",
              "2    MSFT      Amy    340\n",
              "5      FB    Sarah    350"
            ]
          },
          "execution_count": 89,
          "metadata": {},
          "output_type": "execute_result"
        }
      ],
      "source": [
        "# Sorting the values\n",
        "df_group.sort_values('Sales')"
      ]
    },
    {
      "cell_type": "code",
      "execution_count": null,
      "metadata": {
        "id": "ZQd2YwrRQUUT",
        "outputId": "98a3c3d1-544f-43d4-97c2-2f5e100dfd0f"
      },
      "outputs": [
        {
          "data": {
            "text/html": [
              "<div>\n",
              "<style scoped>\n",
              "    .dataframe tbody tr th:only-of-type {\n",
              "        vertical-align: middle;\n",
              "    }\n",
              "\n",
              "    .dataframe tbody tr th {\n",
              "        vertical-align: top;\n",
              "    }\n",
              "\n",
              "    .dataframe thead th {\n",
              "        text-align: right;\n",
              "    }\n",
              "</style>\n",
              "<table border=\"1\" class=\"dataframe\">\n",
              "  <thead>\n",
              "    <tr style=\"text-align: right;\">\n",
              "      <th></th>\n",
              "      <th>Company</th>\n",
              "      <th>Person</th>\n",
              "      <th>Sales</th>\n",
              "    </tr>\n",
              "  </thead>\n",
              "  <tbody>\n",
              "    <tr>\n",
              "      <th>5</th>\n",
              "      <td>FB</td>\n",
              "      <td>Sarah</td>\n",
              "      <td>350</td>\n",
              "    </tr>\n",
              "    <tr>\n",
              "      <th>2</th>\n",
              "      <td>MSFT</td>\n",
              "      <td>Amy</td>\n",
              "      <td>340</td>\n",
              "    </tr>\n",
              "    <tr>\n",
              "      <th>4</th>\n",
              "      <td>FB</td>\n",
              "      <td>Carl</td>\n",
              "      <td>243</td>\n",
              "    </tr>\n",
              "    <tr>\n",
              "      <th>0</th>\n",
              "      <td>GOOG</td>\n",
              "      <td>Sam</td>\n",
              "      <td>200</td>\n",
              "    </tr>\n",
              "    <tr>\n",
              "      <th>3</th>\n",
              "      <td>MSFT</td>\n",
              "      <td>Vanessa</td>\n",
              "      <td>124</td>\n",
              "    </tr>\n",
              "    <tr>\n",
              "      <th>1</th>\n",
              "      <td>GOOG</td>\n",
              "      <td>Charlie</td>\n",
              "      <td>120</td>\n",
              "    </tr>\n",
              "  </tbody>\n",
              "</table>\n",
              "</div>"
            ],
            "text/plain": [
              "  Company   Person  Sales\n",
              "5      FB    Sarah    350\n",
              "2    MSFT      Amy    340\n",
              "4      FB     Carl    243\n",
              "0    GOOG      Sam    200\n",
              "3    MSFT  Vanessa    124\n",
              "1    GOOG  Charlie    120"
            ]
          },
          "execution_count": 90,
          "metadata": {},
          "output_type": "execute_result"
        }
      ],
      "source": [
        "# Sorting the values descending\n",
        "df_group.sort_values('Sales', ascending=False)"
      ]
    },
    {
      "cell_type": "code",
      "execution_count": null,
      "metadata": {
        "id": "ZuwJwPAnQUUT",
        "outputId": "f180c037-68ba-483a-9ae3-c01df3ec03f6"
      },
      "outputs": [
        {
          "data": {
            "text/html": [
              "<div>\n",
              "<style scoped>\n",
              "    .dataframe tbody tr th:only-of-type {\n",
              "        vertical-align: middle;\n",
              "    }\n",
              "\n",
              "    .dataframe tbody tr th {\n",
              "        vertical-align: top;\n",
              "    }\n",
              "\n",
              "    .dataframe thead th {\n",
              "        text-align: right;\n",
              "    }\n",
              "</style>\n",
              "<table border=\"1\" class=\"dataframe\">\n",
              "  <thead>\n",
              "    <tr style=\"text-align: right;\">\n",
              "      <th></th>\n",
              "      <th>Company</th>\n",
              "      <th>Person</th>\n",
              "      <th>Sales</th>\n",
              "    </tr>\n",
              "  </thead>\n",
              "  <tbody>\n",
              "    <tr>\n",
              "      <th>0</th>\n",
              "      <td>GOOG</td>\n",
              "      <td>Sam</td>\n",
              "      <td>200</td>\n",
              "    </tr>\n",
              "    <tr>\n",
              "      <th>1</th>\n",
              "      <td>GOOG</td>\n",
              "      <td>Charlie</td>\n",
              "      <td>120</td>\n",
              "    </tr>\n",
              "    <tr>\n",
              "      <th>2</th>\n",
              "      <td>MSFT</td>\n",
              "      <td>Amy</td>\n",
              "      <td>340</td>\n",
              "    </tr>\n",
              "    <tr>\n",
              "      <th>3</th>\n",
              "      <td>MSFT</td>\n",
              "      <td>Vanessa</td>\n",
              "      <td>124</td>\n",
              "    </tr>\n",
              "    <tr>\n",
              "      <th>4</th>\n",
              "      <td>FB</td>\n",
              "      <td>Carl</td>\n",
              "      <td>243</td>\n",
              "    </tr>\n",
              "    <tr>\n",
              "      <th>5</th>\n",
              "      <td>FB</td>\n",
              "      <td>Sarah</td>\n",
              "      <td>350</td>\n",
              "    </tr>\n",
              "  </tbody>\n",
              "</table>\n",
              "</div>"
            ],
            "text/plain": [
              "  Company   Person  Sales\n",
              "0    GOOG      Sam    200\n",
              "1    GOOG  Charlie    120\n",
              "2    MSFT      Amy    340\n",
              "3    MSFT  Vanessa    124\n",
              "4      FB     Carl    243\n",
              "5      FB    Sarah    350"
            ]
          },
          "execution_count": 91,
          "metadata": {},
          "output_type": "execute_result"
        }
      ],
      "source": [
        "# Sorting the indecies\n",
        "df_group.sort_index()"
      ]
    },
    {
      "cell_type": "code",
      "execution_count": null,
      "metadata": {
        "id": "iA-3s3psQUUU"
      },
      "outputs": [],
      "source": []
    },
    {
      "cell_type": "markdown",
      "metadata": {
        "id": "XXaCwIgLQUUU"
      },
      "source": [
        "#### Grouping"
      ]
    },
    {
      "cell_type": "code",
      "execution_count": null,
      "metadata": {
        "id": "IXn04yuFQUUU",
        "outputId": "3bb04ece-9842-4be3-f6b0-5c3cc698dd67"
      },
      "outputs": [
        {
          "data": {
            "text/html": [
              "<div>\n",
              "<style scoped>\n",
              "    .dataframe tbody tr th:only-of-type {\n",
              "        vertical-align: middle;\n",
              "    }\n",
              "\n",
              "    .dataframe tbody tr th {\n",
              "        vertical-align: top;\n",
              "    }\n",
              "\n",
              "    .dataframe thead th {\n",
              "        text-align: right;\n",
              "    }\n",
              "</style>\n",
              "<table border=\"1\" class=\"dataframe\">\n",
              "  <thead>\n",
              "    <tr style=\"text-align: right;\">\n",
              "      <th></th>\n",
              "      <th>Sales</th>\n",
              "    </tr>\n",
              "    <tr>\n",
              "      <th>Company</th>\n",
              "      <th></th>\n",
              "    </tr>\n",
              "  </thead>\n",
              "  <tbody>\n",
              "    <tr>\n",
              "      <th>FB</th>\n",
              "      <td>296.5</td>\n",
              "    </tr>\n",
              "    <tr>\n",
              "      <th>GOOG</th>\n",
              "      <td>160.0</td>\n",
              "    </tr>\n",
              "    <tr>\n",
              "      <th>MSFT</th>\n",
              "      <td>232.0</td>\n",
              "    </tr>\n",
              "  </tbody>\n",
              "</table>\n",
              "</div>"
            ],
            "text/plain": [
              "         Sales\n",
              "Company       \n",
              "FB       296.5\n",
              "GOOG     160.0\n",
              "MSFT     232.0"
            ]
          },
          "execution_count": 92,
          "metadata": {},
          "output_type": "execute_result"
        }
      ],
      "source": [
        "# Grouping rows together based off of a column name, and then call aggregate methods off\n",
        "df_group.groupby('Company').mean()"
      ]
    },
    {
      "cell_type": "code",
      "execution_count": null,
      "metadata": {
        "id": "DgBo-4pJQUUU",
        "outputId": "c374d202-1f47-4edf-c792-4ac36ef14f66"
      },
      "outputs": [
        {
          "data": {
            "text/html": [
              "<div>\n",
              "<style scoped>\n",
              "    .dataframe tbody tr th:only-of-type {\n",
              "        vertical-align: middle;\n",
              "    }\n",
              "\n",
              "    .dataframe tbody tr th {\n",
              "        vertical-align: top;\n",
              "    }\n",
              "\n",
              "    .dataframe thead tr th {\n",
              "        text-align: left;\n",
              "    }\n",
              "\n",
              "    .dataframe thead tr:last-of-type th {\n",
              "        text-align: right;\n",
              "    }\n",
              "</style>\n",
              "<table border=\"1\" class=\"dataframe\">\n",
              "  <thead>\n",
              "    <tr>\n",
              "      <th></th>\n",
              "      <th></th>\n",
              "      <th colspan=\"8\" halign=\"left\">Sales</th>\n",
              "    </tr>\n",
              "    <tr>\n",
              "      <th></th>\n",
              "      <th></th>\n",
              "      <th>count</th>\n",
              "      <th>mean</th>\n",
              "      <th>std</th>\n",
              "      <th>min</th>\n",
              "      <th>25%</th>\n",
              "      <th>50%</th>\n",
              "      <th>75%</th>\n",
              "      <th>max</th>\n",
              "    </tr>\n",
              "    <tr>\n",
              "      <th>Company</th>\n",
              "      <th>Person</th>\n",
              "      <th></th>\n",
              "      <th></th>\n",
              "      <th></th>\n",
              "      <th></th>\n",
              "      <th></th>\n",
              "      <th></th>\n",
              "      <th></th>\n",
              "      <th></th>\n",
              "    </tr>\n",
              "  </thead>\n",
              "  <tbody>\n",
              "    <tr>\n",
              "      <th rowspan=\"2\" valign=\"top\">FB</th>\n",
              "      <th>Carl</th>\n",
              "      <td>1.0</td>\n",
              "      <td>243.0</td>\n",
              "      <td>NaN</td>\n",
              "      <td>243.0</td>\n",
              "      <td>243.0</td>\n",
              "      <td>243.0</td>\n",
              "      <td>243.0</td>\n",
              "      <td>243.0</td>\n",
              "    </tr>\n",
              "    <tr>\n",
              "      <th>Sarah</th>\n",
              "      <td>1.0</td>\n",
              "      <td>350.0</td>\n",
              "      <td>NaN</td>\n",
              "      <td>350.0</td>\n",
              "      <td>350.0</td>\n",
              "      <td>350.0</td>\n",
              "      <td>350.0</td>\n",
              "      <td>350.0</td>\n",
              "    </tr>\n",
              "    <tr>\n",
              "      <th rowspan=\"2\" valign=\"top\">GOOG</th>\n",
              "      <th>Charlie</th>\n",
              "      <td>1.0</td>\n",
              "      <td>120.0</td>\n",
              "      <td>NaN</td>\n",
              "      <td>120.0</td>\n",
              "      <td>120.0</td>\n",
              "      <td>120.0</td>\n",
              "      <td>120.0</td>\n",
              "      <td>120.0</td>\n",
              "    </tr>\n",
              "    <tr>\n",
              "      <th>Sam</th>\n",
              "      <td>1.0</td>\n",
              "      <td>200.0</td>\n",
              "      <td>NaN</td>\n",
              "      <td>200.0</td>\n",
              "      <td>200.0</td>\n",
              "      <td>200.0</td>\n",
              "      <td>200.0</td>\n",
              "      <td>200.0</td>\n",
              "    </tr>\n",
              "    <tr>\n",
              "      <th rowspan=\"2\" valign=\"top\">MSFT</th>\n",
              "      <th>Amy</th>\n",
              "      <td>1.0</td>\n",
              "      <td>340.0</td>\n",
              "      <td>NaN</td>\n",
              "      <td>340.0</td>\n",
              "      <td>340.0</td>\n",
              "      <td>340.0</td>\n",
              "      <td>340.0</td>\n",
              "      <td>340.0</td>\n",
              "    </tr>\n",
              "    <tr>\n",
              "      <th>Vanessa</th>\n",
              "      <td>1.0</td>\n",
              "      <td>124.0</td>\n",
              "      <td>NaN</td>\n",
              "      <td>124.0</td>\n",
              "      <td>124.0</td>\n",
              "      <td>124.0</td>\n",
              "      <td>124.0</td>\n",
              "      <td>124.0</td>\n",
              "    </tr>\n",
              "  </tbody>\n",
              "</table>\n",
              "</div>"
            ],
            "text/plain": [
              "                Sales                                              \n",
              "                count   mean std    min    25%    50%    75%    max\n",
              "Company Person                                                     \n",
              "FB      Carl      1.0  243.0 NaN  243.0  243.0  243.0  243.0  243.0\n",
              "        Sarah     1.0  350.0 NaN  350.0  350.0  350.0  350.0  350.0\n",
              "GOOG    Charlie   1.0  120.0 NaN  120.0  120.0  120.0  120.0  120.0\n",
              "        Sam       1.0  200.0 NaN  200.0  200.0  200.0  200.0  200.0\n",
              "MSFT    Amy       1.0  340.0 NaN  340.0  340.0  340.0  340.0  340.0\n",
              "        Vanessa   1.0  124.0 NaN  124.0  124.0  124.0  124.0  124.0"
            ]
          },
          "execution_count": 93,
          "metadata": {},
          "output_type": "execute_result"
        }
      ],
      "source": [
        "# Also, you can get the summary statistics for each company\n",
        "df_group.groupby(['Company','Person']).describe()"
      ]
    },
    {
      "cell_type": "code",
      "execution_count": null,
      "metadata": {
        "id": "LzARsjhTQUUU"
      },
      "outputs": [],
      "source": []
    },
    {
      "cell_type": "markdown",
      "metadata": {
        "id": "SBEV1zxJQUUU"
      },
      "source": [
        "#### Pivot Tables"
      ]
    },
    {
      "cell_type": "code",
      "execution_count": null,
      "metadata": {
        "id": "leBf1ozVQUUU",
        "outputId": "3b6339df-f349-4b8d-f29a-ec51e614344e"
      },
      "outputs": [
        {
          "data": {
            "text/html": [
              "<div>\n",
              "<style scoped>\n",
              "    .dataframe tbody tr th:only-of-type {\n",
              "        vertical-align: middle;\n",
              "    }\n",
              "\n",
              "    .dataframe tbody tr th {\n",
              "        vertical-align: top;\n",
              "    }\n",
              "\n",
              "    .dataframe thead th {\n",
              "        text-align: right;\n",
              "    }\n",
              "</style>\n",
              "<table border=\"1\" class=\"dataframe\">\n",
              "  <thead>\n",
              "    <tr style=\"text-align: right;\">\n",
              "      <th>Company</th>\n",
              "      <th>FB</th>\n",
              "      <th>GOOG</th>\n",
              "      <th>MSFT</th>\n",
              "    </tr>\n",
              "  </thead>\n",
              "  <tbody>\n",
              "    <tr>\n",
              "      <th>Person</th>\n",
              "      <td>Sarah</td>\n",
              "      <td>Sam</td>\n",
              "      <td>Vanessa</td>\n",
              "    </tr>\n",
              "    <tr>\n",
              "      <th>Sales</th>\n",
              "      <td>350</td>\n",
              "      <td>200</td>\n",
              "      <td>340</td>\n",
              "    </tr>\n",
              "  </tbody>\n",
              "</table>\n",
              "</div>"
            ],
            "text/plain": [
              "Company     FB GOOG     MSFT\n",
              "Person   Sarah  Sam  Vanessa\n",
              "Sales      350  200      340"
            ]
          },
          "execution_count": 94,
          "metadata": {},
          "output_type": "execute_result"
        }
      ],
      "source": [
        "df_group.pivot_table(columns='Company', aggfunc=max)"
      ]
    },
    {
      "cell_type": "code",
      "execution_count": null,
      "metadata": {
        "id": "5TV1vVSBQUUV"
      },
      "outputs": [],
      "source": []
    },
    {
      "cell_type": "markdown",
      "metadata": {
        "id": "WJoer0bfQUUV"
      },
      "source": [
        "=========="
      ]
    },
    {
      "cell_type": "markdown",
      "metadata": {
        "id": "jdw7m9GUQUUV"
      },
      "source": [
        "### Pandas Statistics"
      ]
    },
    {
      "cell_type": "markdown",
      "metadata": {
        "id": "J-9B-rngQUUV"
      },
      "source": [
        "| Method / Attribute \t| Description                                                    \t|\n",
        "|--------------------\t|----------------------------------------------------------------\t|\n",
        "| df.describe()      \t| Summary statistics for numerical columns                       \t|\n",
        "| df.mean()          \t| Returns the mean of all columns                                \t|\n",
        "| df.corr()          \t| Returns the correlation between columns in a DataFrame         \t|\n",
        "| df.count()         \t| Returns the number of non-null values in each DataFrame column \t|\n",
        "| df.max()           \t| Returns the highest value in each column                       \t|\n",
        "| df.min()           \t| Returns the lowest value in each column                        \t|\n",
        "| df.median()        \t| Returns the median of each column                              \t|\n",
        "| df.std()           \t| Returns the standard deviation of each column                  \t|"
      ]
    },
    {
      "cell_type": "code",
      "execution_count": null,
      "metadata": {
        "id": "jtHgh0X3QUUV",
        "outputId": "100ab614-834e-407b-ece0-cc5115aea7f4"
      },
      "outputs": [
        {
          "data": {
            "text/html": [
              "<div>\n",
              "<style scoped>\n",
              "    .dataframe tbody tr th:only-of-type {\n",
              "        vertical-align: middle;\n",
              "    }\n",
              "\n",
              "    .dataframe tbody tr th {\n",
              "        vertical-align: top;\n",
              "    }\n",
              "\n",
              "    .dataframe thead th {\n",
              "        text-align: right;\n",
              "    }\n",
              "</style>\n",
              "<table border=\"1\" class=\"dataframe\">\n",
              "  <thead>\n",
              "    <tr style=\"text-align: right;\">\n",
              "      <th></th>\n",
              "      <th>W</th>\n",
              "      <th>X</th>\n",
              "      <th>Y</th>\n",
              "      <th>Z</th>\n",
              "    </tr>\n",
              "  </thead>\n",
              "  <tbody>\n",
              "    <tr>\n",
              "      <th>A</th>\n",
              "      <td>0.516399</td>\n",
              "      <td>0.570668</td>\n",
              "      <td>0.028474</td>\n",
              "      <td>0.171522</td>\n",
              "    </tr>\n",
              "    <tr>\n",
              "      <th>B</th>\n",
              "      <td>0.685277</td>\n",
              "      <td>0.833897</td>\n",
              "      <td>0.306966</td>\n",
              "      <td>0.893613</td>\n",
              "    </tr>\n",
              "    <tr>\n",
              "      <th>C</th>\n",
              "      <td>0.721544</td>\n",
              "      <td>0.189939</td>\n",
              "      <td>0.554228</td>\n",
              "      <td>0.352132</td>\n",
              "    </tr>\n",
              "    <tr>\n",
              "      <th>D</th>\n",
              "      <td>0.181892</td>\n",
              "      <td>0.785602</td>\n",
              "      <td>0.965483</td>\n",
              "      <td>0.232354</td>\n",
              "    </tr>\n",
              "    <tr>\n",
              "      <th>E</th>\n",
              "      <td>0.083561</td>\n",
              "      <td>0.603548</td>\n",
              "      <td>0.728993</td>\n",
              "      <td>0.276239</td>\n",
              "    </tr>\n",
              "    <tr>\n",
              "      <th>F</th>\n",
              "      <td>0.685306</td>\n",
              "      <td>0.517867</td>\n",
              "      <td>0.048485</td>\n",
              "      <td>0.137869</td>\n",
              "    </tr>\n",
              "  </tbody>\n",
              "</table>\n",
              "</div>"
            ],
            "text/plain": [
              "          W         X         Y         Z\n",
              "A  0.516399  0.570668  0.028474  0.171522\n",
              "B  0.685277  0.833897  0.306966  0.893613\n",
              "C  0.721544  0.189939  0.554228  0.352132\n",
              "D  0.181892  0.785602  0.965483  0.232354\n",
              "E  0.083561  0.603548  0.728993  0.276239\n",
              "F  0.685306  0.517867  0.048485  0.137869"
            ]
          },
          "execution_count": 95,
          "metadata": {},
          "output_type": "execute_result"
        }
      ],
      "source": [
        "df"
      ]
    },
    {
      "cell_type": "code",
      "execution_count": null,
      "metadata": {
        "id": "dNselG41QUUV",
        "outputId": "4b00a22d-f4f9-4346-a04f-480bee1914b0"
      },
      "outputs": [
        {
          "data": {
            "text/html": [
              "<div>\n",
              "<style scoped>\n",
              "    .dataframe tbody tr th:only-of-type {\n",
              "        vertical-align: middle;\n",
              "    }\n",
              "\n",
              "    .dataframe tbody tr th {\n",
              "        vertical-align: top;\n",
              "    }\n",
              "\n",
              "    .dataframe thead th {\n",
              "        text-align: right;\n",
              "    }\n",
              "</style>\n",
              "<table border=\"1\" class=\"dataframe\">\n",
              "  <thead>\n",
              "    <tr style=\"text-align: right;\">\n",
              "      <th></th>\n",
              "      <th>W</th>\n",
              "      <th>X</th>\n",
              "      <th>Y</th>\n",
              "      <th>Z</th>\n",
              "    </tr>\n",
              "  </thead>\n",
              "  <tbody>\n",
              "    <tr>\n",
              "      <th>count</th>\n",
              "      <td>6.000000</td>\n",
              "      <td>6.000000</td>\n",
              "      <td>6.000000</td>\n",
              "      <td>6.000000</td>\n",
              "    </tr>\n",
              "    <tr>\n",
              "      <th>mean</th>\n",
              "      <td>0.478997</td>\n",
              "      <td>0.583587</td>\n",
              "      <td>0.438771</td>\n",
              "      <td>0.343955</td>\n",
              "    </tr>\n",
              "    <tr>\n",
              "      <th>std</th>\n",
              "      <td>0.279279</td>\n",
              "      <td>0.229481</td>\n",
              "      <td>0.377631</td>\n",
              "      <td>0.279798</td>\n",
              "    </tr>\n",
              "    <tr>\n",
              "      <th>min</th>\n",
              "      <td>0.083561</td>\n",
              "      <td>0.189939</td>\n",
              "      <td>0.028474</td>\n",
              "      <td>0.137869</td>\n",
              "    </tr>\n",
              "    <tr>\n",
              "      <th>25%</th>\n",
              "      <td>0.265519</td>\n",
              "      <td>0.531068</td>\n",
              "      <td>0.113105</td>\n",
              "      <td>0.186730</td>\n",
              "    </tr>\n",
              "    <tr>\n",
              "      <th>50%</th>\n",
              "      <td>0.600838</td>\n",
              "      <td>0.587108</td>\n",
              "      <td>0.430597</td>\n",
              "      <td>0.254296</td>\n",
              "    </tr>\n",
              "    <tr>\n",
              "      <th>75%</th>\n",
              "      <td>0.685299</td>\n",
              "      <td>0.740088</td>\n",
              "      <td>0.685301</td>\n",
              "      <td>0.333159</td>\n",
              "    </tr>\n",
              "    <tr>\n",
              "      <th>max</th>\n",
              "      <td>0.721544</td>\n",
              "      <td>0.833897</td>\n",
              "      <td>0.965483</td>\n",
              "      <td>0.893613</td>\n",
              "    </tr>\n",
              "  </tbody>\n",
              "</table>\n",
              "</div>"
            ],
            "text/plain": [
              "              W         X         Y         Z\n",
              "count  6.000000  6.000000  6.000000  6.000000\n",
              "mean   0.478997  0.583587  0.438771  0.343955\n",
              "std    0.279279  0.229481  0.377631  0.279798\n",
              "min    0.083561  0.189939  0.028474  0.137869\n",
              "25%    0.265519  0.531068  0.113105  0.186730\n",
              "50%    0.600838  0.587108  0.430597  0.254296\n",
              "75%    0.685299  0.740088  0.685301  0.333159\n",
              "max    0.721544  0.833897  0.965483  0.893613"
            ]
          },
          "execution_count": 96,
          "metadata": {},
          "output_type": "execute_result"
        }
      ],
      "source": [
        "df.describe()"
      ]
    },
    {
      "cell_type": "code",
      "execution_count": null,
      "metadata": {
        "id": "UT9bPkeJQUUV",
        "outputId": "3965fa02-682b-4f7c-e86c-07fc6bcf7556"
      },
      "outputs": [
        {
          "data": {
            "text/plain": [
              "0.5835868436769396"
            ]
          },
          "execution_count": 97,
          "metadata": {},
          "output_type": "execute_result"
        }
      ],
      "source": [
        "# Calculating the mean through a specific column\n",
        "df['X'].mean()"
      ]
    },
    {
      "cell_type": "code",
      "execution_count": null,
      "metadata": {
        "id": "97NhULjgQUUV",
        "outputId": "581cfe2a-8344-4f0a-9352-bba4c85dbf30"
      },
      "outputs": [
        {
          "data": {
            "text/plain": [
              "A    0.343960\n",
              "B    0.759587\n",
              "C    0.453180\n",
              "D    0.508978\n",
              "E    0.439894\n",
              "F    0.327868\n",
              "dtype: float64"
            ]
          },
          "execution_count": 98,
          "metadata": {},
          "output_type": "execute_result"
        }
      ],
      "source": [
        "# Let's find the median of each row\n",
        "df.median(axis=1)"
      ]
    },
    {
      "cell_type": "code",
      "execution_count": null,
      "metadata": {
        "id": "UDqq-69kQUUW",
        "outputId": "eebf743a-f6c5-475e-8ad2-a444070e5fdf"
      },
      "outputs": [
        {
          "data": {
            "text/plain": [
              "4"
            ]
          },
          "execution_count": 99,
          "metadata": {},
          "output_type": "execute_result"
        }
      ],
      "source": [
        "# Find the argument of the min value of a specific column\n",
        "df['W'].argmin()"
      ]
    },
    {
      "cell_type": "code",
      "execution_count": null,
      "metadata": {
        "id": "zNRJfUskQUUW",
        "outputId": "b9a889d7-aa59-432a-b461-26c5912fb441"
      },
      "outputs": [
        {
          "data": {
            "text/plain": [
              "'E'"
            ]
          },
          "execution_count": 100,
          "metadata": {},
          "output_type": "execute_result"
        }
      ],
      "source": [
        "# Find the row name of the min value of a specific column\n",
        "df['W'].idxmin()"
      ]
    },
    {
      "cell_type": "code",
      "execution_count": null,
      "metadata": {
        "id": "BcbskZtVQUUW"
      },
      "outputs": [],
      "source": []
    },
    {
      "cell_type": "markdown",
      "metadata": {
        "id": "gf2iYIu4QUUW"
      },
      "source": [
        "=========="
      ]
    },
    {
      "cell_type": "markdown",
      "metadata": {
        "id": "KnK4m5NvQUUW"
      },
      "source": [
        "## Case-study: Salaries EDA"
      ]
    },
    {
      "cell_type": "markdown",
      "metadata": {
        "id": "j-xIhQRRQUUX"
      },
      "source": [
        "This dataset can be found on Kaggle:\n",
        "https://www.kaggle.com/kaggle/sf-salaries"
      ]
    },
    {
      "cell_type": "markdown",
      "metadata": {
        "id": "zjul7Dk6QUUX"
      },
      "source": [
        "#### Import pandas as pd"
      ]
    },
    {
      "cell_type": "code",
      "execution_count": null,
      "metadata": {
        "id": "D_KhfHn7QUUX"
      },
      "outputs": [],
      "source": [
        "import pandas as pd"
      ]
    },
    {
      "cell_type": "markdown",
      "metadata": {
        "id": "ADPZl4_aQUUX"
      },
      "source": [
        "#### Read Salaries.csv as a dataframe"
      ]
    },
    {
      "cell_type": "code",
      "execution_count": null,
      "metadata": {
        "id": "MNhIFe6vQUUX"
      },
      "outputs": [],
      "source": [
        "sal = pd.read_csv('data/Salaries.csv')"
      ]
    },
    {
      "cell_type": "markdown",
      "metadata": {
        "id": "1SUf_uHWQUUY"
      },
      "source": [
        "#### Check the head of the DataFrame"
      ]
    },
    {
      "cell_type": "code",
      "execution_count": null,
      "metadata": {
        "id": "RVQvWC_JQUUY",
        "outputId": "9ac06248-4d0e-40e8-ad16-d36a7e550de7"
      },
      "outputs": [
        {
          "data": {
            "text/html": [
              "<div>\n",
              "<style scoped>\n",
              "    .dataframe tbody tr th:only-of-type {\n",
              "        vertical-align: middle;\n",
              "    }\n",
              "\n",
              "    .dataframe tbody tr th {\n",
              "        vertical-align: top;\n",
              "    }\n",
              "\n",
              "    .dataframe thead th {\n",
              "        text-align: right;\n",
              "    }\n",
              "</style>\n",
              "<table border=\"1\" class=\"dataframe\">\n",
              "  <thead>\n",
              "    <tr style=\"text-align: right;\">\n",
              "      <th></th>\n",
              "      <th>Id</th>\n",
              "      <th>EmployeeName</th>\n",
              "      <th>JobTitle</th>\n",
              "      <th>BasePay</th>\n",
              "      <th>OvertimePay</th>\n",
              "      <th>OtherPay</th>\n",
              "      <th>Benefits</th>\n",
              "      <th>TotalPay</th>\n",
              "      <th>TotalPayBenefits</th>\n",
              "      <th>Year</th>\n",
              "      <th>Notes</th>\n",
              "      <th>Agency</th>\n",
              "      <th>Status</th>\n",
              "    </tr>\n",
              "  </thead>\n",
              "  <tbody>\n",
              "    <tr>\n",
              "      <th>0</th>\n",
              "      <td>1</td>\n",
              "      <td>NATHANIEL FORD</td>\n",
              "      <td>GENERAL MANAGER-METROPOLITAN TRANSIT AUTHORITY</td>\n",
              "      <td>167411.18</td>\n",
              "      <td>0.00</td>\n",
              "      <td>400184.25</td>\n",
              "      <td>NaN</td>\n",
              "      <td>567595.43</td>\n",
              "      <td>567595.43</td>\n",
              "      <td>2011</td>\n",
              "      <td>NaN</td>\n",
              "      <td>San Francisco</td>\n",
              "      <td>NaN</td>\n",
              "    </tr>\n",
              "    <tr>\n",
              "      <th>1</th>\n",
              "      <td>2</td>\n",
              "      <td>GARY JIMENEZ</td>\n",
              "      <td>CAPTAIN III (POLICE DEPARTMENT)</td>\n",
              "      <td>155966.02</td>\n",
              "      <td>245131.88</td>\n",
              "      <td>137811.38</td>\n",
              "      <td>NaN</td>\n",
              "      <td>538909.28</td>\n",
              "      <td>538909.28</td>\n",
              "      <td>2011</td>\n",
              "      <td>NaN</td>\n",
              "      <td>San Francisco</td>\n",
              "      <td>NaN</td>\n",
              "    </tr>\n",
              "    <tr>\n",
              "      <th>2</th>\n",
              "      <td>3</td>\n",
              "      <td>ALBERT PARDINI</td>\n",
              "      <td>CAPTAIN III (POLICE DEPARTMENT)</td>\n",
              "      <td>212739.13</td>\n",
              "      <td>106088.18</td>\n",
              "      <td>16452.60</td>\n",
              "      <td>NaN</td>\n",
              "      <td>335279.91</td>\n",
              "      <td>335279.91</td>\n",
              "      <td>2011</td>\n",
              "      <td>NaN</td>\n",
              "      <td>San Francisco</td>\n",
              "      <td>NaN</td>\n",
              "    </tr>\n",
              "    <tr>\n",
              "      <th>3</th>\n",
              "      <td>4</td>\n",
              "      <td>CHRISTOPHER CHONG</td>\n",
              "      <td>WIRE ROPE CABLE MAINTENANCE MECHANIC</td>\n",
              "      <td>77916.00</td>\n",
              "      <td>56120.71</td>\n",
              "      <td>198306.90</td>\n",
              "      <td>NaN</td>\n",
              "      <td>332343.61</td>\n",
              "      <td>332343.61</td>\n",
              "      <td>2011</td>\n",
              "      <td>NaN</td>\n",
              "      <td>San Francisco</td>\n",
              "      <td>NaN</td>\n",
              "    </tr>\n",
              "    <tr>\n",
              "      <th>4</th>\n",
              "      <td>5</td>\n",
              "      <td>PATRICK GARDNER</td>\n",
              "      <td>DEPUTY CHIEF OF DEPARTMENT,(FIRE DEPARTMENT)</td>\n",
              "      <td>134401.60</td>\n",
              "      <td>9737.00</td>\n",
              "      <td>182234.59</td>\n",
              "      <td>NaN</td>\n",
              "      <td>326373.19</td>\n",
              "      <td>326373.19</td>\n",
              "      <td>2011</td>\n",
              "      <td>NaN</td>\n",
              "      <td>San Francisco</td>\n",
              "      <td>NaN</td>\n",
              "    </tr>\n",
              "  </tbody>\n",
              "</table>\n",
              "</div>"
            ],
            "text/plain": [
              "   Id       EmployeeName                                        JobTitle  \\\n",
              "0   1     NATHANIEL FORD  GENERAL MANAGER-METROPOLITAN TRANSIT AUTHORITY   \n",
              "1   2       GARY JIMENEZ                 CAPTAIN III (POLICE DEPARTMENT)   \n",
              "2   3     ALBERT PARDINI                 CAPTAIN III (POLICE DEPARTMENT)   \n",
              "3   4  CHRISTOPHER CHONG            WIRE ROPE CABLE MAINTENANCE MECHANIC   \n",
              "4   5    PATRICK GARDNER    DEPUTY CHIEF OF DEPARTMENT,(FIRE DEPARTMENT)   \n",
              "\n",
              "     BasePay  OvertimePay   OtherPay  Benefits   TotalPay  TotalPayBenefits  \\\n",
              "0  167411.18         0.00  400184.25       NaN  567595.43         567595.43   \n",
              "1  155966.02    245131.88  137811.38       NaN  538909.28         538909.28   \n",
              "2  212739.13    106088.18   16452.60       NaN  335279.91         335279.91   \n",
              "3   77916.00     56120.71  198306.90       NaN  332343.61         332343.61   \n",
              "4  134401.60      9737.00  182234.59       NaN  326373.19         326373.19   \n",
              "\n",
              "   Year  Notes         Agency  Status  \n",
              "0  2011    NaN  San Francisco     NaN  \n",
              "1  2011    NaN  San Francisco     NaN  \n",
              "2  2011    NaN  San Francisco     NaN  \n",
              "3  2011    NaN  San Francisco     NaN  \n",
              "4  2011    NaN  San Francisco     NaN  "
            ]
          },
          "execution_count": 103,
          "metadata": {},
          "output_type": "execute_result"
        }
      ],
      "source": [
        "sal.head()"
      ]
    },
    {
      "cell_type": "markdown",
      "metadata": {
        "id": "6sJ-Mg0EQUUY"
      },
      "source": [
        "#### Use the .info() method to find out how many entries there are"
      ]
    },
    {
      "cell_type": "code",
      "execution_count": null,
      "metadata": {
        "id": "niXUeWeMQUUY",
        "outputId": "e93d1138-f241-4bfa-9d71-4704df4daa0d"
      },
      "outputs": [
        {
          "name": "stdout",
          "output_type": "stream",
          "text": [
            "<class 'pandas.core.frame.DataFrame'>\n",
            "RangeIndex: 148654 entries, 0 to 148653\n",
            "Data columns (total 13 columns):\n",
            " #   Column            Non-Null Count   Dtype  \n",
            "---  ------            --------------   -----  \n",
            " 0   Id                148654 non-null  int64  \n",
            " 1   EmployeeName      148654 non-null  object \n",
            " 2   JobTitle          148654 non-null  object \n",
            " 3   BasePay           148045 non-null  float64\n",
            " 4   OvertimePay       148650 non-null  float64\n",
            " 5   OtherPay          148650 non-null  float64\n",
            " 6   Benefits          112491 non-null  float64\n",
            " 7   TotalPay          148654 non-null  float64\n",
            " 8   TotalPayBenefits  148654 non-null  float64\n",
            " 9   Year              148654 non-null  int64  \n",
            " 10  Notes             0 non-null       float64\n",
            " 11  Agency            148654 non-null  object \n",
            " 12  Status            0 non-null       float64\n",
            "dtypes: float64(8), int64(2), object(3)\n",
            "memory usage: 14.7+ MB\n"
          ]
        }
      ],
      "source": [
        "sal.info()"
      ]
    },
    {
      "cell_type": "markdown",
      "metadata": {
        "id": "RIc0gyb8QUUZ"
      },
      "source": [
        "#### What is the average BasePay ?"
      ]
    },
    {
      "cell_type": "code",
      "execution_count": null,
      "metadata": {
        "id": "uUp46yQ9QUUZ",
        "outputId": "1a08d17f-7eee-4ce3-f319-d8d2659c2eec"
      },
      "outputs": [
        {
          "data": {
            "text/plain": [
              "66325.44884050643"
            ]
          },
          "execution_count": 105,
          "metadata": {},
          "output_type": "execute_result"
        }
      ],
      "source": [
        "sal['BasePay'].mean()"
      ]
    },
    {
      "cell_type": "markdown",
      "metadata": {
        "id": "zGDnwN3mQUUZ"
      },
      "source": [
        "#### What is the highest amount of OvertimePay in the dataset ?"
      ]
    },
    {
      "cell_type": "code",
      "execution_count": null,
      "metadata": {
        "id": "RJZ-JYNfQUUZ",
        "outputId": "7a601823-ada3-444a-ac0f-9410c44c92b4"
      },
      "outputs": [
        {
          "data": {
            "text/plain": [
              "245131.88"
            ]
          },
          "execution_count": 106,
          "metadata": {},
          "output_type": "execute_result"
        }
      ],
      "source": [
        "sal['OvertimePay'].max()"
      ]
    },
    {
      "cell_type": "markdown",
      "metadata": {
        "id": "GD6HUFg5QUUZ"
      },
      "source": [
        "#### What is the job title of JOSEPH DRISCOLL ? Note: Use all caps, otherwise you may get an answer that doesn't match up (there is also a lowercase Joseph Driscoll)."
      ]
    },
    {
      "cell_type": "code",
      "execution_count": null,
      "metadata": {
        "id": "Yc6CGV8gQUUa",
        "outputId": "8dc62e1d-2e3b-4d8b-c3c2-eb78c0653523"
      },
      "outputs": [
        {
          "data": {
            "text/plain": [
              "24    CAPTAIN, FIRE SUPPRESSION\n",
              "Name: JobTitle, dtype: object"
            ]
          },
          "execution_count": 107,
          "metadata": {},
          "output_type": "execute_result"
        }
      ],
      "source": [
        "sal[sal['EmployeeName']=='JOSEPH DRISCOLL']['JobTitle']"
      ]
    },
    {
      "cell_type": "markdown",
      "metadata": {
        "id": "TjxipScWQUUa"
      },
      "source": [
        "#### How much does JOSEPH DRISCOLL make (including benefits)?"
      ]
    },
    {
      "cell_type": "code",
      "execution_count": null,
      "metadata": {
        "id": "u91nKSXXQUUa",
        "outputId": "c0d27d53-5c86-4e84-8096-521c2054bb58"
      },
      "outputs": [
        {
          "data": {
            "text/plain": [
              "24    270324.91\n",
              "Name: TotalPayBenefits, dtype: float64"
            ]
          },
          "execution_count": 108,
          "metadata": {},
          "output_type": "execute_result"
        }
      ],
      "source": [
        "sal[sal['EmployeeName']=='JOSEPH DRISCOLL']['TotalPayBenefits']"
      ]
    },
    {
      "cell_type": "markdown",
      "metadata": {
        "id": "xk1KVe3JQUUb"
      },
      "source": [
        "#### What is the name of highest paid person (including benefits)?"
      ]
    },
    {
      "cell_type": "code",
      "execution_count": null,
      "metadata": {
        "id": "3xt6CaOlQUUb",
        "outputId": "e7a797e8-33d2-4394-f290-fa7506c6584f"
      },
      "outputs": [
        {
          "data": {
            "text/html": [
              "<div>\n",
              "<style scoped>\n",
              "    .dataframe tbody tr th:only-of-type {\n",
              "        vertical-align: middle;\n",
              "    }\n",
              "\n",
              "    .dataframe tbody tr th {\n",
              "        vertical-align: top;\n",
              "    }\n",
              "\n",
              "    .dataframe thead th {\n",
              "        text-align: right;\n",
              "    }\n",
              "</style>\n",
              "<table border=\"1\" class=\"dataframe\">\n",
              "  <thead>\n",
              "    <tr style=\"text-align: right;\">\n",
              "      <th></th>\n",
              "      <th>Id</th>\n",
              "      <th>EmployeeName</th>\n",
              "      <th>JobTitle</th>\n",
              "      <th>BasePay</th>\n",
              "      <th>OvertimePay</th>\n",
              "      <th>OtherPay</th>\n",
              "      <th>Benefits</th>\n",
              "      <th>TotalPay</th>\n",
              "      <th>TotalPayBenefits</th>\n",
              "      <th>Year</th>\n",
              "      <th>Notes</th>\n",
              "      <th>Agency</th>\n",
              "      <th>Status</th>\n",
              "    </tr>\n",
              "  </thead>\n",
              "  <tbody>\n",
              "    <tr>\n",
              "      <th>0</th>\n",
              "      <td>1</td>\n",
              "      <td>NATHANIEL FORD</td>\n",
              "      <td>GENERAL MANAGER-METROPOLITAN TRANSIT AUTHORITY</td>\n",
              "      <td>167411.18</td>\n",
              "      <td>0.0</td>\n",
              "      <td>400184.25</td>\n",
              "      <td>NaN</td>\n",
              "      <td>567595.43</td>\n",
              "      <td>567595.43</td>\n",
              "      <td>2011</td>\n",
              "      <td>NaN</td>\n",
              "      <td>San Francisco</td>\n",
              "      <td>NaN</td>\n",
              "    </tr>\n",
              "  </tbody>\n",
              "</table>\n",
              "</div>"
            ],
            "text/plain": [
              "   Id    EmployeeName                                        JobTitle  \\\n",
              "0   1  NATHANIEL FORD  GENERAL MANAGER-METROPOLITAN TRANSIT AUTHORITY   \n",
              "\n",
              "     BasePay  OvertimePay   OtherPay  Benefits   TotalPay  TotalPayBenefits  \\\n",
              "0  167411.18          0.0  400184.25       NaN  567595.43         567595.43   \n",
              "\n",
              "   Year  Notes         Agency  Status  \n",
              "0  2011    NaN  San Francisco     NaN  "
            ]
          },
          "execution_count": 109,
          "metadata": {},
          "output_type": "execute_result"
        }
      ],
      "source": [
        "sal[sal['TotalPayBenefits']== sal['TotalPayBenefits'].max()]#['EmployeeName']\n",
        "# or\n",
        "# sal.loc[sal['TotalPayBenefits'].idxmax()]"
      ]
    },
    {
      "cell_type": "markdown",
      "metadata": {
        "id": "g8UCGWKFQUUb"
      },
      "source": [
        "#### What is the name of lowest paid person (including benefits)? Do you notice something strange about how much he or she is paid?"
      ]
    },
    {
      "cell_type": "code",
      "execution_count": null,
      "metadata": {
        "id": "0MzPvYaaQUUb",
        "outputId": "e8d6d1af-6623-45ff-de21-dafd10900338"
      },
      "outputs": [
        {
          "data": {
            "text/html": [
              "<div>\n",
              "<style scoped>\n",
              "    .dataframe tbody tr th:only-of-type {\n",
              "        vertical-align: middle;\n",
              "    }\n",
              "\n",
              "    .dataframe tbody tr th {\n",
              "        vertical-align: top;\n",
              "    }\n",
              "\n",
              "    .dataframe thead th {\n",
              "        text-align: right;\n",
              "    }\n",
              "</style>\n",
              "<table border=\"1\" class=\"dataframe\">\n",
              "  <thead>\n",
              "    <tr style=\"text-align: right;\">\n",
              "      <th></th>\n",
              "      <th>Id</th>\n",
              "      <th>EmployeeName</th>\n",
              "      <th>JobTitle</th>\n",
              "      <th>BasePay</th>\n",
              "      <th>OvertimePay</th>\n",
              "      <th>OtherPay</th>\n",
              "      <th>Benefits</th>\n",
              "      <th>TotalPay</th>\n",
              "      <th>TotalPayBenefits</th>\n",
              "      <th>Year</th>\n",
              "      <th>Notes</th>\n",
              "      <th>Agency</th>\n",
              "      <th>Status</th>\n",
              "    </tr>\n",
              "  </thead>\n",
              "  <tbody>\n",
              "    <tr>\n",
              "      <th>148653</th>\n",
              "      <td>148654</td>\n",
              "      <td>Joe Lopez</td>\n",
              "      <td>Counselor, Log Cabin Ranch</td>\n",
              "      <td>0.0</td>\n",
              "      <td>0.0</td>\n",
              "      <td>-618.13</td>\n",
              "      <td>0.0</td>\n",
              "      <td>-618.13</td>\n",
              "      <td>-618.13</td>\n",
              "      <td>2014</td>\n",
              "      <td>NaN</td>\n",
              "      <td>San Francisco</td>\n",
              "      <td>NaN</td>\n",
              "    </tr>\n",
              "  </tbody>\n",
              "</table>\n",
              "</div>"
            ],
            "text/plain": [
              "            Id EmployeeName                    JobTitle  BasePay  OvertimePay  \\\n",
              "148653  148654    Joe Lopez  Counselor, Log Cabin Ranch      0.0          0.0   \n",
              "\n",
              "        OtherPay  Benefits  TotalPay  TotalPayBenefits  Year  Notes  \\\n",
              "148653   -618.13       0.0   -618.13           -618.13  2014    NaN   \n",
              "\n",
              "               Agency  Status  \n",
              "148653  San Francisco     NaN  "
            ]
          },
          "execution_count": 110,
          "metadata": {},
          "output_type": "execute_result"
        }
      ],
      "source": [
        "sal[sal['TotalPayBenefits']== sal['TotalPayBenefits'].min()] #['EmployeeName']\n",
        "# or\n",
        "# sal.loc[sal['TotalPayBenefits'].idxmax()]['EmployeeName']\n",
        "\n",
        "## ITS NEGATIVE!! VERY STRANGE"
      ]
    },
    {
      "cell_type": "markdown",
      "metadata": {
        "id": "ZEinGehyQUUc"
      },
      "source": [
        "#### What was the average (mean) BasePay of all employees per year? (2011-2014) ?"
      ]
    },
    {
      "cell_type": "code",
      "execution_count": null,
      "metadata": {
        "id": "E4P-8NvnQUUc",
        "outputId": "53d60dd0-fe73-4f73-cc55-383fdb3e73d1"
      },
      "outputs": [
        {
          "data": {
            "text/plain": [
              "Year\n",
              "2011    63595.956517\n",
              "2012    65436.406857\n",
              "2013    69630.030216\n",
              "2014    66564.421924\n",
              "Name: BasePay, dtype: float64"
            ]
          },
          "execution_count": 111,
          "metadata": {},
          "output_type": "execute_result"
        }
      ],
      "source": [
        "sal.groupby('Year').mean()['BasePay']"
      ]
    },
    {
      "cell_type": "markdown",
      "metadata": {
        "id": "-v_-r_MBQUUc"
      },
      "source": [
        "#### How many unique job titles are there?"
      ]
    },
    {
      "cell_type": "code",
      "execution_count": null,
      "metadata": {
        "id": "1bUZG4A-QUUd",
        "outputId": "428c5bfd-8889-4c37-9492-db4b3edde238"
      },
      "outputs": [
        {
          "data": {
            "text/plain": [
              "2159"
            ]
          },
          "execution_count": 112,
          "metadata": {},
          "output_type": "execute_result"
        }
      ],
      "source": [
        "sal['JobTitle'].nunique()"
      ]
    },
    {
      "cell_type": "markdown",
      "metadata": {
        "id": "2GGJMSd0QUUd"
      },
      "source": [
        "#### What are the top 5 most common jobs?"
      ]
    },
    {
      "cell_type": "code",
      "execution_count": null,
      "metadata": {
        "id": "O8CptQF2QUUd",
        "outputId": "d7ce4dc4-5a79-40c0-bd6f-e3dae3bab47f"
      },
      "outputs": [
        {
          "data": {
            "text/plain": [
              "Transit Operator                7036\n",
              "Special Nurse                   4389\n",
              "Registered Nurse                3736\n",
              "Public Svc Aide-Public Works    2518\n",
              "Police Officer 3                2421\n",
              "Name: JobTitle, dtype: int64"
            ]
          },
          "execution_count": 113,
          "metadata": {},
          "output_type": "execute_result"
        }
      ],
      "source": [
        "sal['JobTitle'].value_counts().head(5)"
      ]
    },
    {
      "cell_type": "markdown",
      "metadata": {
        "id": "-Y1vIxvbQUUd"
      },
      "source": [
        "#### How many Job Titles were represented by only one person in 2013? (e.g. Job Titles with only one occurence in 2013?)"
      ]
    },
    {
      "cell_type": "code",
      "execution_count": null,
      "metadata": {
        "id": "l4AHEU6rQUUe",
        "outputId": "bfb190bf-6af0-4508-8c44-e5bb1735d961"
      },
      "outputs": [
        {
          "data": {
            "text/plain": [
              "202"
            ]
          },
          "execution_count": 114,
          "metadata": {},
          "output_type": "execute_result"
        }
      ],
      "source": [
        "sum(sal[sal['Year']==2013]['JobTitle'].value_counts() == 1)\n",
        "# pretty tricky way to do this..."
      ]
    },
    {
      "cell_type": "markdown",
      "metadata": {
        "id": "EQIGroVVQUUe"
      },
      "source": [
        "#### How many people have the word Chief in their job title? (This is pretty tricky)"
      ]
    },
    {
      "cell_type": "code",
      "execution_count": null,
      "metadata": {
        "id": "N6mKQBRBQUUe"
      },
      "outputs": [],
      "source": [
        "def chief_string(title):\n",
        "    if 'chief' in title.lower():\n",
        "        return True\n",
        "    else:\n",
        "        return False"
      ]
    },
    {
      "cell_type": "code",
      "execution_count": null,
      "metadata": {
        "id": "RapItcrQQUUe",
        "outputId": "fabc37eb-d1b7-4167-d0dc-1fdd18757675"
      },
      "outputs": [
        {
          "data": {
            "text/plain": [
              "627"
            ]
          },
          "execution_count": 116,
          "metadata": {},
          "output_type": "execute_result"
        }
      ],
      "source": [
        "sum(sal['JobTitle'].apply(lambda x: chief_string(x)))"
      ]
    },
    {
      "cell_type": "markdown",
      "metadata": {
        "id": "WuQWhmi4QUUe"
      },
      "source": [
        "#### Bonus: Is there a correlation between length of the Job Title string and Salary?"
      ]
    },
    {
      "cell_type": "code",
      "execution_count": null,
      "metadata": {
        "id": "OyPDi4_LQUUe"
      },
      "outputs": [],
      "source": [
        "sal['title_len'] = sal['JobTitle'].apply(len)"
      ]
    },
    {
      "cell_type": "code",
      "execution_count": null,
      "metadata": {
        "id": "hRC2GhqnQUUf",
        "outputId": "001a1edc-9228-4769-a2a3-95ce61acd226"
      },
      "outputs": [
        {
          "data": {
            "text/html": [
              "<div>\n",
              "<style scoped>\n",
              "    .dataframe tbody tr th:only-of-type {\n",
              "        vertical-align: middle;\n",
              "    }\n",
              "\n",
              "    .dataframe tbody tr th {\n",
              "        vertical-align: top;\n",
              "    }\n",
              "\n",
              "    .dataframe thead th {\n",
              "        text-align: right;\n",
              "    }\n",
              "</style>\n",
              "<table border=\"1\" class=\"dataframe\">\n",
              "  <thead>\n",
              "    <tr style=\"text-align: right;\">\n",
              "      <th></th>\n",
              "      <th>title_len</th>\n",
              "      <th>TotalPayBenefits</th>\n",
              "    </tr>\n",
              "  </thead>\n",
              "  <tbody>\n",
              "    <tr>\n",
              "      <th>title_len</th>\n",
              "      <td>1.000000</td>\n",
              "      <td>-0.036878</td>\n",
              "    </tr>\n",
              "    <tr>\n",
              "      <th>TotalPayBenefits</th>\n",
              "      <td>-0.036878</td>\n",
              "      <td>1.000000</td>\n",
              "    </tr>\n",
              "  </tbody>\n",
              "</table>\n",
              "</div>"
            ],
            "text/plain": [
              "                  title_len  TotalPayBenefits\n",
              "title_len          1.000000         -0.036878\n",
              "TotalPayBenefits  -0.036878          1.000000"
            ]
          },
          "execution_count": 118,
          "metadata": {},
          "output_type": "execute_result"
        }
      ],
      "source": [
        "sal[['title_len','TotalPayBenefits']].corr() # No correlation."
      ]
    },
    {
      "cell_type": "code",
      "execution_count": null,
      "metadata": {
        "id": "Cavc2_JtQUUf"
      },
      "outputs": [],
      "source": []
    },
    {
      "cell_type": "markdown",
      "metadata": {
        "id": "reDAPNkHQUUf"
      },
      "source": [
        "=========="
      ]
    },
    {
      "cell_type": "markdown",
      "metadata": {
        "id": "1H8KfYPeQUUf"
      },
      "source": [
        "# THANK YOU!"
      ]
    }
  ],
  "metadata": {
    "kernelspec": {
      "display_name": "Python 3",
      "language": "python",
      "name": "python3"
    },
    "language_info": {
      "codemirror_mode": {
        "name": "ipython",
        "version": 3
      },
      "file_extension": ".py",
      "mimetype": "text/x-python",
      "name": "python",
      "nbconvert_exporter": "python",
      "pygments_lexer": "ipython3",
      "version": "3.8.3"
    },
    "colab": {
      "provenance": [],
      "include_colab_link": true
    }
  },
  "nbformat": 4,
  "nbformat_minor": 0
}