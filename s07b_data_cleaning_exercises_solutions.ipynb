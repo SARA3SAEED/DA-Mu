{
  "cells": [
    {
      "cell_type": "markdown",
      "metadata": {
        "id": "view-in-github",
        "colab_type": "text"
      },
      "source": [
        "<a href=\"https://colab.research.google.com/github/SARA3SAEED/DA-Mu/blob/main/s07b_data_cleaning_exercises_solutions.ipynb\" target=\"_parent\"><img src=\"https://colab.research.google.com/assets/colab-badge.svg\" alt=\"Open In Colab\"/></a>"
      ]
    },
    {
      "cell_type": "markdown",
      "metadata": {
        "id": "Jq7UQr2ldYGx"
      },
      "source": [
        "# Data Manipulation Exercises"
      ]
    },
    {
      "cell_type": "markdown",
      "metadata": {
        "id": "VyZcsVuBdYG-"
      },
      "source": [
        "- Data Cleaning & Preparation Exercises\n",
        "    - Dealing with Missing & Duplicated Data\n",
        "    - String Manipulation (Regular Expression)\n",
        "    - Data Transformation"
      ]
    },
    {
      "cell_type": "markdown",
      "metadata": {
        "id": "iF6R80sUdYHA"
      },
      "source": [
        "##### Importing Libraries"
      ]
    },
    {
      "cell_type": "code",
      "execution_count": null,
      "metadata": {
        "id": "m9raVsKCdYHD"
      },
      "outputs": [],
      "source": [
        "import numpy as np\n",
        "import pandas as pd\n",
        "\n",
        "import matplotlib.pyplot as plt\n",
        "import seaborn as sns\n",
        "\n",
        "%matplotlib inline\n",
        "sns.set()"
      ]
    },
    {
      "cell_type": "code",
      "execution_count": null,
      "metadata": {
        "id": "QXdDelMPdYHK"
      },
      "outputs": [],
      "source": []
    },
    {
      "cell_type": "markdown",
      "metadata": {
        "id": "ZebHQAgEdYHM"
      },
      "source": [
        "=========="
      ]
    },
    {
      "cell_type": "markdown",
      "metadata": {
        "id": "HHU5__OIdYHO"
      },
      "source": [
        "## Data Cleaning"
      ]
    },
    {
      "cell_type": "markdown",
      "metadata": {
        "id": "Oad0OzM6dYHT"
      },
      "source": [
        "##### Importing Data"
      ]
    },
    {
      "cell_type": "code",
      "execution_count": null,
      "metadata": {
        "id": "GdIlMGRjdYHV"
      },
      "outputs": [],
      "source": [
        "mpg = pd.read_csv('data/mpg-unclean.csv')"
      ]
    },
    {
      "cell_type": "markdown",
      "metadata": {
        "id": "AsuAEclpdYHY"
      },
      "source": [
        "##### Inspecting the DataFrame and Identifing the Inconsistent Data"
      ]
    },
    {
      "cell_type": "code",
      "execution_count": null,
      "metadata": {
        "id": "V7Dkg0JCdYHZ"
      },
      "outputs": [],
      "source": [
        "mpg.head()"
      ]
    },
    {
      "cell_type": "code",
      "execution_count": null,
      "metadata": {
        "id": "Cb3h2TChdYHb"
      },
      "outputs": [],
      "source": [
        "mpg.info()"
      ]
    },
    {
      "cell_type": "code",
      "execution_count": null,
      "metadata": {
        "id": "f-0IkwwRdYHe"
      },
      "outputs": [],
      "source": [
        "mpg.describe().round(2)"
      ]
    },
    {
      "cell_type": "code",
      "execution_count": null,
      "metadata": {
        "id": "PxAMJ10JdYHj"
      },
      "outputs": [],
      "source": [
        "mpg.plot(subplots = True, figsize = (15,10))\n",
        "plt.show()"
      ]
    },
    {
      "cell_type": "markdown",
      "metadata": {
        "id": "Kix86cwmdYHk"
      },
      "source": [
        "##### Q. Identify one column label that should be changed and adjust/rename the column label!"
      ]
    },
    {
      "cell_type": "code",
      "execution_count": null,
      "metadata": {
        "id": "SA_OFvEudYHm"
      },
      "outputs": [],
      "source": [
        "mpg.rename(columns = {\"model year\": \"model_year\"}, inplace = True)"
      ]
    },
    {
      "cell_type": "markdown",
      "metadata": {
        "id": "wQev-nz4dYHn"
      },
      "source": [
        "##### Q. Have a closer look to the origin column by analyzing the frequency/count of unique values! Can you find any inconsistency?"
      ]
    },
    {
      "cell_type": "code",
      "execution_count": null,
      "metadata": {
        "id": "zZZLcro6dYHo"
      },
      "outputs": [],
      "source": [
        "mpg.origin.value_counts()"
      ]
    },
    {
      "cell_type": "markdown",
      "metadata": {
        "id": "vmAKFqD7dYHp"
      },
      "source": [
        "##### Q. Replace the value \"United States\" in the origin column! Save the change!"
      ]
    },
    {
      "cell_type": "code",
      "execution_count": null,
      "metadata": {
        "id": "XbtOZ1wbdYHq"
      },
      "outputs": [],
      "source": [
        "mpg['origin'].replace(\"United States\", \"usa\", inplace = True)"
      ]
    },
    {
      "cell_type": "code",
      "execution_count": null,
      "metadata": {
        "id": "9QlX9WhJdYHr"
      },
      "outputs": [],
      "source": [
        "mpg['origin'].value_counts()"
      ]
    },
    {
      "cell_type": "markdown",
      "metadata": {
        "id": "ZGQqkawndYHt"
      },
      "source": [
        "##### Q. Inspect and identify the problem in the column horsepower!"
      ]
    },
    {
      "cell_type": "code",
      "execution_count": null,
      "metadata": {
        "id": "6wBzywGgdYHu"
      },
      "outputs": [],
      "source": [
        "mpg.horsepower.head()"
      ]
    },
    {
      "cell_type": "code",
      "execution_count": null,
      "metadata": {
        "id": "cBIqz7jFdYHw"
      },
      "outputs": [],
      "source": [
        "mpg['horsepower'] = mpg['horsepower'].str.replace(\" hp\", \"\")"
      ]
    },
    {
      "cell_type": "code",
      "execution_count": null,
      "metadata": {
        "id": "KPrDylRCdYHx"
      },
      "outputs": [],
      "source": [
        "mpg['horsepower'].value_counts().head()"
      ]
    },
    {
      "cell_type": "code",
      "execution_count": null,
      "metadata": {
        "id": "5eEF1MRBdYHz"
      },
      "outputs": [],
      "source": [
        "# Create \"real\" missing values in the column horsepower!\n",
        "mpg['horsepower'].replace(\"Not available\", np.nan, inplace = True)"
      ]
    },
    {
      "cell_type": "markdown",
      "metadata": {
        "id": "oz6VW0etdYH0"
      },
      "source": [
        "##### Q. Now you can convert the datatype in the column horsepower! Overwrite the column!"
      ]
    },
    {
      "cell_type": "code",
      "execution_count": null,
      "metadata": {
        "id": "Ruj0FT9XdYH2"
      },
      "outputs": [],
      "source": [
        "mpg['horsepower'] = mpg['horsepower'].astype(\"float\")"
      ]
    },
    {
      "cell_type": "code",
      "execution_count": null,
      "metadata": {
        "id": "fOT4n8ejdYH3"
      },
      "outputs": [],
      "source": [
        "mpg.info()"
      ]
    },
    {
      "cell_type": "code",
      "execution_count": null,
      "metadata": {
        "id": "DrThjPs6dYH4"
      },
      "outputs": [],
      "source": [
        "mpg.tail()"
      ]
    },
    {
      "cell_type": "markdown",
      "metadata": {
        "id": "NO1f48uldYH4"
      },
      "source": [
        "##### Q. What about the 'name' column?"
      ]
    },
    {
      "cell_type": "code",
      "execution_count": null,
      "metadata": {
        "id": "OOt2hGVYdYH5"
      },
      "outputs": [],
      "source": [
        "mpg['name'].head()"
      ]
    },
    {
      "cell_type": "code",
      "execution_count": null,
      "metadata": {
        "id": "JlJbEMNbdYH8"
      },
      "outputs": [],
      "source": [
        "mpg.name = mpg.name.str.lower().str.strip()"
      ]
    },
    {
      "cell_type": "code",
      "execution_count": null,
      "metadata": {
        "id": "elRAFZ9xdYH9"
      },
      "outputs": [],
      "source": [
        "# Convert all names to lowercase and remove all whitespaces on the left ends and right ends!\n",
        "mpg.head()"
      ]
    },
    {
      "cell_type": "code",
      "execution_count": null,
      "metadata": {
        "id": "AtesweE8dYIC"
      },
      "outputs": [],
      "source": [
        "mpg.describe().round(2)"
      ]
    },
    {
      "cell_type": "markdown",
      "metadata": {
        "id": "mn4pKAlmdYIO"
      },
      "source": [
        "##### Q. Inspect the column __model_year__ in more detail by analyzing the __frequency/counts__ of unique values! Anything __strange__?"
      ]
    },
    {
      "cell_type": "code",
      "execution_count": null,
      "metadata": {
        "id": "cEhiVWZ_dYIQ"
      },
      "outputs": [],
      "source": [
        "mpg['model_year'].value_counts()"
      ]
    },
    {
      "cell_type": "code",
      "execution_count": null,
      "metadata": {
        "id": "v_7qO25AdYIQ"
      },
      "outputs": [],
      "source": [
        "mpg['model_year'].replace(1973, 73, inplace = True)"
      ]
    },
    {
      "cell_type": "markdown",
      "metadata": {
        "id": "vZbVMCT7dYIS"
      },
      "source": [
        "##### Q. Inspect the column weight by sorting the values from high to low. Can you see the extreme value?"
      ]
    },
    {
      "cell_type": "code",
      "execution_count": null,
      "metadata": {
        "id": "uZMkio_1dYIy"
      },
      "outputs": [],
      "source": [
        "mpg['weight'].sort_values(ascending = False)"
      ]
    },
    {
      "cell_type": "code",
      "execution_count": null,
      "metadata": {
        "id": "LwYqeJb3dYI3"
      },
      "outputs": [],
      "source": [
        "# Select the complete row of the outlier with the method idxmax()!\n",
        "mpg.loc[mpg.weight.idxmax()]"
      ]
    },
    {
      "cell_type": "code",
      "execution_count": null,
      "metadata": {
        "id": "BhSchyYZdYI6"
      },
      "outputs": [],
      "source": [
        "# Overwrite the erroneous outlier! Fill in the gaps!\n",
        "mpg.loc[mpg.weight.idxmax(), \"weight\"] = 2300"
      ]
    },
    {
      "cell_type": "markdown",
      "metadata": {
        "id": "9qNPV_rLdYI7"
      },
      "source": [
        "##### Q. Let's check out the column mpg too"
      ]
    },
    {
      "cell_type": "code",
      "execution_count": null,
      "metadata": {
        "id": "3T-_nMK9dYI9"
      },
      "outputs": [],
      "source": [
        "mpg['mpg'].sort_values()"
      ]
    },
    {
      "cell_type": "code",
      "execution_count": null,
      "metadata": {
        "id": "pSOP84UMdYI-"
      },
      "outputs": [],
      "source": [
        "# Select the complete row of the outlier with the method idxmin\n",
        "mpg.loc[mpg['mpg'].idxmin()]"
      ]
    },
    {
      "cell_type": "code",
      "execution_count": null,
      "metadata": {
        "id": "QBIG-VImdYJB"
      },
      "outputs": [],
      "source": [
        "# After some research we have found out that this extreme value is in \"gallons per mile\" units instead of \"miles per gallon\". Convert to \"miles per gallon\" units!\n",
        "mpg.loc[mpg.mpg.idxmin(), \"mpg\"] = 1/mpg.loc[mpg.mpg.idxmin(), \"mpg\"]"
      ]
    },
    {
      "cell_type": "markdown",
      "metadata": {
        "id": "vUdxfY6adYJD"
      },
      "source": [
        "##### Q. Select all rows with at least one missing/na value!"
      ]
    },
    {
      "cell_type": "code",
      "execution_count": null,
      "metadata": {
        "id": "S5VhjKQndYJG"
      },
      "outputs": [],
      "source": [
        "mpg.loc[mpg.isna().any(axis = 1)]"
      ]
    },
    {
      "cell_type": "code",
      "execution_count": null,
      "metadata": {
        "id": "XJjR0ilndYJJ"
      },
      "outputs": [],
      "source": [
        "mpg.dropna(inplace= True)"
      ]
    },
    {
      "cell_type": "markdown",
      "metadata": {
        "id": "8EfptwVHdYJK"
      },
      "source": [
        "##### Q. Finding the duplicated records in care names"
      ]
    },
    {
      "cell_type": "code",
      "execution_count": null,
      "metadata": {
        "id": "hzzj4HATdYJL"
      },
      "outputs": [],
      "source": [
        "mpg.duplicated().sum()"
      ]
    },
    {
      "cell_type": "code",
      "execution_count": null,
      "metadata": {
        "id": "TFFjOE-wdYJM"
      },
      "outputs": [],
      "source": [
        "mpg.duplicated(subset = [\"name\"]).sum()"
      ]
    },
    {
      "cell_type": "code",
      "execution_count": null,
      "metadata": {
        "id": "VvBCi_e7dYJQ"
      },
      "outputs": [],
      "source": [
        "mpg.loc[mpg.duplicated(subset = [\"name\"], keep = False)].sort_values(\"name\")"
      ]
    },
    {
      "cell_type": "code",
      "execution_count": null,
      "metadata": {
        "id": "OOVa4gyDdYJU"
      },
      "outputs": [],
      "source": [
        "mpg.loc[mpg.duplicated(keep = False)].sort_values(\"name\")"
      ]
    },
    {
      "cell_type": "code",
      "execution_count": null,
      "metadata": {
        "id": "JhhfOC6sdYJX"
      },
      "outputs": [],
      "source": [
        "mpg.drop_duplicates(inplace = True)"
      ]
    },
    {
      "cell_type": "code",
      "execution_count": null,
      "metadata": {
        "id": "ZjybrKnKdYJa"
      },
      "outputs": [],
      "source": [
        "mpg.head()"
      ]
    },
    {
      "cell_type": "code",
      "execution_count": null,
      "metadata": {
        "scrolled": true,
        "id": "rD76lA2ddYJe"
      },
      "outputs": [],
      "source": [
        "mpg.info()"
      ]
    },
    {
      "cell_type": "markdown",
      "metadata": {
        "id": "9dGDbQoSdYJh"
      },
      "source": [
        "##### Q. It's a good practice to save the cleaned version of your dataset again"
      ]
    },
    {
      "cell_type": "code",
      "execution_count": null,
      "metadata": {
        "id": "4Xx1hsfGdYJi"
      },
      "outputs": [],
      "source": [
        "mpg.to_csv(\"data/mpg_clean.csv\", index= False)"
      ]
    },
    {
      "cell_type": "code",
      "execution_count": null,
      "metadata": {
        "id": "PyyrnfwtdYJk"
      },
      "outputs": [],
      "source": []
    },
    {
      "cell_type": "markdown",
      "metadata": {
        "id": "WstzrQYkdYJl"
      },
      "source": [
        "=========="
      ]
    },
    {
      "cell_type": "markdown",
      "metadata": {
        "id": "AtKMGwS-dYJn"
      },
      "source": [
        "## String Manipulation (Regular Expression)"
      ]
    },
    {
      "cell_type": "markdown",
      "metadata": {
        "id": "cbsPKvHcdYJo"
      },
      "source": [
        "##### Check if String Contain Only Defined Characters using Regex"
      ]
    },
    {
      "cell_type": "code",
      "execution_count": null,
      "metadata": {
        "id": "2k9NeoFydYJp"
      },
      "outputs": [],
      "source": [
        "import re\n",
        "if re.search(r'^[1234]+$', '2134'):\n",
        "    print(True)"
      ]
    },
    {
      "cell_type": "markdown",
      "metadata": {
        "id": "wrkn39tTdYJp"
      },
      "source": [
        "##### Count Uppercase, Lowercase, and numeric values using Regex"
      ]
    },
    {
      "cell_type": "code",
      "execution_count": null,
      "metadata": {
        "id": "iyFicAN2dYJq"
      },
      "outputs": [],
      "source": [
        "s = 'My name is Mustafa Othman, I am 34 years old'\n",
        "\n",
        "import re\n",
        "upper = re.findall(r'[A-Z]', s)\n",
        "lower = re.findall(r'[a-z]', s)\n",
        "numeric = re.findall(r'[0-9]', s)\n",
        "\n",
        "print('The no. of uppercase characters is:', len(upper))\n",
        "print('The no. of lowercase characters is:', len(lower))\n",
        "print('The no. of numerical characters is:', len(numeric))"
      ]
    },
    {
      "cell_type": "markdown",
      "metadata": {
        "id": "-C5weRMMdYJq"
      },
      "source": [
        "##### Regex to extract maximum numeric value from a string"
      ]
    },
    {
      "cell_type": "code",
      "execution_count": null,
      "metadata": {
        "id": "Oh__t-WsdYJr"
      },
      "outputs": [],
      "source": [
        "s = '100khj26io58sgtq1723mnb'\n",
        "import re\n",
        "numeric = re.findall(r'\\d+', s)\n",
        "max([int(i) for i in numeric])"
      ]
    },
    {
      "cell_type": "markdown",
      "metadata": {
        "id": "dlY2y4tgdYJr"
      },
      "source": [
        "##### Remove all characters except letters and numbers"
      ]
    },
    {
      "cell_type": "code",
      "execution_count": null,
      "metadata": {
        "id": "DxVk-IiSdYJs"
      },
      "outputs": [],
      "source": [
        "s = \"123abcjw:, .@! eiw\"\n",
        "re.sub('[\\W_]+', '', s)"
      ]
    },
    {
      "cell_type": "markdown",
      "metadata": {
        "id": "IvFvNSnjdYJs"
      },
      "source": [
        "##### Regex to put spaces between words starting with capital letters"
      ]
    },
    {
      "cell_type": "code",
      "execution_count": null,
      "metadata": {
        "id": "hNebO4fBdYJt"
      },
      "outputs": [],
      "source": [
        "results = re.findall('[A-Z][a-z]*', 'MustafaOthmanMustafaEl-Nahas')\n",
        "' '.join(results)"
      ]
    },
    {
      "cell_type": "code",
      "execution_count": null,
      "metadata": {
        "id": "2YS_PX8-dYJv"
      },
      "outputs": [],
      "source": []
    },
    {
      "cell_type": "markdown",
      "metadata": {
        "id": "yo3vBBwtdYJx"
      },
      "source": [
        "=========="
      ]
    },
    {
      "cell_type": "markdown",
      "metadata": {
        "id": "m5D6nzEPdYJy"
      },
      "source": [
        "# GOOD LUCK!"
      ]
    }
  ],
  "metadata": {
    "kernelspec": {
      "display_name": "Python 3",
      "language": "python",
      "name": "python3"
    },
    "language_info": {
      "codemirror_mode": {
        "name": "ipython",
        "version": 3
      },
      "file_extension": ".py",
      "mimetype": "text/x-python",
      "name": "python",
      "nbconvert_exporter": "python",
      "pygments_lexer": "ipython3",
      "version": "3.8.3"
    },
    "colab": {
      "provenance": [],
      "include_colab_link": true
    }
  },
  "nbformat": 4,
  "nbformat_minor": 0
}