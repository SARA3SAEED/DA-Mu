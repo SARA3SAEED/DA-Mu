{
  "cells": [
    {
      "cell_type": "markdown",
      "metadata": {
        "id": "view-in-github",
        "colab_type": "text"
      },
      "source": [
        "<a href=\"https://colab.research.google.com/github/SARA3SAEED/DA-Mu/blob/main/s09b_databases_importing.ipynb\" target=\"_parent\"><img src=\"https://colab.research.google.com/assets/colab-badge.svg\" alt=\"Open In Colab\"/></a>"
      ]
    },
    {
      "cell_type": "markdown",
      "metadata": {
        "id": "DpQxxMrfaBQI"
      },
      "source": [
        "# ADVANCED PANDAS: DATA IMPORTING & WEB SCRAPING"
      ]
    },
    {
      "cell_type": "markdown",
      "metadata": {
        "id": "9oQeuEataBQM"
      },
      "source": [
        "Course Outline:\n",
        "- Basic Data Importing\n",
        "    - Flat Files (.csv, .tsv, .txt)\n",
        "    - Excel Files (.xlsx)\n",
        "    - Other Files (.dta, .mat, .. etc)\n",
        "    - Basic Data Importing Exercises\n",
        "- ***Importing Data from Databases***\n",
        "    - ***SQL Crash Course***\n",
        "    - ***Database Files (.db, .sqlite, .. etc)***\n",
        "    - ***Case-study: Chinook Database***\n",
        "- Importing Data from the Internet\n",
        "    - HTML & CSS Crash Course\n",
        "    - Web Scraping Basics\n",
        "    - Working with JSON Data & APIs\n",
        "    - Case-study: Wuzzuf.com [Web Scraping]"
      ]
    },
    {
      "cell_type": "code",
      "execution_count": null,
      "metadata": {
        "id": "ghf5YfwcaBQO"
      },
      "outputs": [],
      "source": []
    },
    {
      "cell_type": "markdown",
      "metadata": {
        "id": "uKFRKsvlaBQQ"
      },
      "source": [
        "### Importing Libraries"
      ]
    },
    {
      "cell_type": "code",
      "execution_count": null,
      "metadata": {
        "id": "idWZIOtVaBQQ"
      },
      "outputs": [],
      "source": [
        "import numpy as np\n",
        "import pandas as pd\n",
        "import matplotlib.pyplot as plt\n",
        "import seaborn as sns\n",
        "%matplotlib inline\n",
        "sns.set()"
      ]
    },
    {
      "cell_type": "code",
      "execution_count": null,
      "metadata": {
        "id": "1OtmlNl8aBQS"
      },
      "outputs": [],
      "source": []
    },
    {
      "cell_type": "markdown",
      "metadata": {
        "id": "YaMggNpGaBQS"
      },
      "source": [
        "=========="
      ]
    },
    {
      "cell_type": "markdown",
      "metadata": {
        "id": "AKONM8GhaBQS"
      },
      "source": [
        "## Importing Data from Databases"
      ]
    },
    {
      "cell_type": "markdown",
      "metadata": {
        "id": "QamCP0FcaBQT"
      },
      "source": [
        "- Relational Databases Basics\n",
        "    - Spreadsheets vs Databases\n",
        "        - Excel vs. Access (Demo)\n",
        "    - Common Relational Databases\n",
        "- SQL Crash Course\n",
        "- Importing Database Files in Pandas"
      ]
    },
    {
      "cell_type": "code",
      "execution_count": null,
      "metadata": {
        "id": "F5UZFflzaBQU"
      },
      "outputs": [],
      "source": []
    },
    {
      "cell_type": "markdown",
      "metadata": {
        "id": "hWoW2Qb1aBQU"
      },
      "source": [
        "### SQL Crash Course"
      ]
    },
    {
      "cell_type": "markdown",
      "metadata": {
        "id": "oC8MQfJnaBQU"
      },
      "source": [
        "- SQL Tutorial:\n",
        "    - https://www.w3schools.com/sql/\n",
        "    - https://www.sololearn.com/learning/1060\n",
        "\n",
        "\n",
        "- SQL Online IDEs:\n",
        "    - https://sqliteonline.com/\n",
        "    - http://sqlfiddle.com/"
      ]
    },
    {
      "cell_type": "code",
      "execution_count": null,
      "metadata": {
        "id": "oU4XZ-psaBQV"
      },
      "outputs": [],
      "source": []
    },
    {
      "cell_type": "markdown",
      "metadata": {
        "id": "wLcPnAKMaBQV"
      },
      "source": [
        "#### Pandas vs SQL (Demo)"
      ]
    },
    {
      "cell_type": "code",
      "execution_count": null,
      "metadata": {
        "id": "9BYxZHJ3aBQV"
      },
      "outputs": [],
      "source": [
        "df = pd.read_excel('data/students.xlsx')\n",
        "df"
      ]
    },
    {
      "cell_type": "code",
      "execution_count": null,
      "metadata": {
        "id": "F6BVP5DwaBQW"
      },
      "outputs": [],
      "source": [
        "df.info()"
      ]
    },
    {
      "cell_type": "markdown",
      "metadata": {
        "id": "umftJVDAaBQW"
      },
      "source": [
        "###### *selecting the column 'first_name' from students table*"
      ]
    },
    {
      "cell_type": "code",
      "execution_count": null,
      "metadata": {
        "id": "bduaDeZdaBQX"
      },
      "outputs": [],
      "source": [
        "# SQL Syntax\n",
        "''' SELECT first_name\n",
        "FROM students\n",
        "'''"
      ]
    },
    {
      "cell_type": "code",
      "execution_count": null,
      "metadata": {
        "id": "-5qhU9ZOaBQX"
      },
      "outputs": [],
      "source": [
        "# Pandas Syntax\n",
        "df['first_name']"
      ]
    },
    {
      "cell_type": "markdown",
      "metadata": {
        "id": "Z7XSrn9GaBQX"
      },
      "source": [
        "###### selecting all columns from students table"
      ]
    },
    {
      "cell_type": "code",
      "execution_count": null,
      "metadata": {
        "id": "0ledyxEJaBQX"
      },
      "outputs": [],
      "source": [
        "# SQL Syntax\n",
        "''' SELECT *\n",
        "FROM students\n",
        "'''"
      ]
    },
    {
      "cell_type": "code",
      "execution_count": null,
      "metadata": {
        "id": "KI2dC9DIaBQY"
      },
      "outputs": [],
      "source": [
        "# Pandas Syntax\n",
        "df"
      ]
    },
    {
      "cell_type": "markdown",
      "metadata": {
        "id": "I_rEMaXGaBQY"
      },
      "source": [
        "###### let's select all Egyptian students"
      ]
    },
    {
      "cell_type": "code",
      "execution_count": null,
      "metadata": {
        "id": "StsaYZVfaBQY"
      },
      "outputs": [],
      "source": [
        "# SQL Syntax\n",
        "''' SELECT *\n",
        "FROM students\n",
        "'''"
      ]
    },
    {
      "cell_type": "code",
      "execution_count": null,
      "metadata": {
        "id": "QsCS53fCaBQY"
      },
      "outputs": [],
      "source": [
        "# Pandas Syntax\n",
        "df"
      ]
    },
    {
      "cell_type": "markdown",
      "metadata": {
        "id": "H3QnaKp_aBQZ"
      },
      "source": [
        "###### selecting all names which start with 'M' letter"
      ]
    },
    {
      "cell_type": "code",
      "execution_count": null,
      "metadata": {
        "id": "ozfz2FROaBQZ"
      },
      "outputs": [],
      "source": [
        "# SQL Syntax\n",
        "''' SELECT *\n",
        "FROM  students\n",
        "WHERE first_name LIKE 'M%'\n",
        "'''"
      ]
    },
    {
      "cell_type": "code",
      "execution_count": null,
      "metadata": {
        "id": "QWBrrRwYaBQZ"
      },
      "outputs": [],
      "source": [
        "# Pandas Syntax\n",
        "df[df['first_name'].str.startswith('M')]"
      ]
    },
    {
      "cell_type": "markdown",
      "metadata": {
        "id": "pFHkNJ-waBQa"
      },
      "source": [
        "##### finding the students whose ages are between 17 and 30 years old"
      ]
    },
    {
      "cell_type": "code",
      "execution_count": null,
      "metadata": {
        "id": "c2fp0hS-aBQa"
      },
      "outputs": [],
      "source": [
        "# SQL Syntax\n",
        "''' SELECT *\n",
        "FROM  students\n",
        "WHERE age BETWEEN 17 AND 30\n",
        "'''"
      ]
    },
    {
      "cell_type": "code",
      "execution_count": null,
      "metadata": {
        "id": "BJQufcBQaBQa"
      },
      "outputs": [],
      "source": [
        "# Pandas Syntax\n",
        "df[(df.age >= 17) & (df.age <= 30)]"
      ]
    },
    {
      "cell_type": "markdown",
      "metadata": {
        "id": "cXjc0Z37aBQa"
      },
      "source": [
        "###### sorting the students by their grades in descending order"
      ]
    },
    {
      "cell_type": "code",
      "execution_count": null,
      "metadata": {
        "id": "fmbqk9ebaBQb"
      },
      "outputs": [],
      "source": [
        "# SQL Syntax\n",
        "''' SELECT *\n",
        "FROM  students\n",
        "ORDER BY grade DESC\n",
        "'''"
      ]
    },
    {
      "cell_type": "code",
      "execution_count": null,
      "metadata": {
        "id": "Gz-R-7M_aBQb"
      },
      "outputs": [],
      "source": [
        "# Pandas Syntax\n",
        "df.sort_values(by=df['grade'], ascending=False)"
      ]
    },
    {
      "cell_type": "markdown",
      "metadata": {
        "id": "Y4f1opwZaBQc"
      },
      "source": [
        "###### select all topics without duplication"
      ]
    },
    {
      "cell_type": "code",
      "execution_count": null,
      "metadata": {
        "id": "Q15xdsTKaBQd"
      },
      "outputs": [],
      "source": [
        "# SQL Syntax\n",
        "''' SELECT DISTINCT topic\n",
        "from students\n",
        "'''"
      ]
    },
    {
      "cell_type": "code",
      "execution_count": null,
      "metadata": {
        "id": "wEwv_80xaBQd"
      },
      "outputs": [],
      "source": [
        "# Pandas Syntax\n",
        "df['topic'].value_counts()\n",
        "# df[df['topic'].duplicated(keep='last')]"
      ]
    },
    {
      "cell_type": "code",
      "execution_count": null,
      "metadata": {
        "id": "MCCnr52yaBQd"
      },
      "outputs": [],
      "source": []
    },
    {
      "cell_type": "markdown",
      "metadata": {
        "id": "B4gLBW3YaBQe"
      },
      "source": [
        "##### Creating a Database from Scratch (Optional)"
      ]
    },
    {
      "cell_type": "code",
      "execution_count": null,
      "metadata": {
        "scrolled": true,
        "id": "7_k_s7_IaBQf"
      },
      "outputs": [],
      "source": [
        "# creating a SQLite database\n",
        "import sqlite3\n",
        "\n",
        "# an sql-query to create a database\n",
        "query = '''\n",
        "        CREATE TABLE students\n",
        "        (a VARCHAR(20), b VARCHAR(20),\n",
        "        c REAL, d INTEGER\n",
        "        );\n",
        "    '''\n",
        "\n",
        "# create a new connection\n",
        "con = sqlite3.connect('data.sqlite')\n",
        "\n",
        "# execute the qurey\n",
        "con.execute(query)\n",
        "con.commit()\n",
        "\n",
        "# insert new data to the table\n",
        "new_query = \"INSERT INTO students VALUES('Mustafa', 'Othman', 33.5, 6)\"\n",
        "\n",
        "con.execute(new_query)\n",
        "con.commit()\n",
        "\n",
        "# listing the new data\n",
        "cursor = con.execute('SELECT * FROM students')\n",
        "rows = cursor.fetchall()\n",
        "rows\n",
        "\n",
        "# converting the results to a DataFrame\n",
        "pd.DataFrame(rows, columns=[x[0] for x in cursor.description])"
      ]
    },
    {
      "cell_type": "code",
      "execution_count": null,
      "metadata": {
        "id": "xps4vhW5aBQf"
      },
      "outputs": [],
      "source": []
    },
    {
      "cell_type": "markdown",
      "metadata": {
        "id": "WqXnNy-EaBQf"
      },
      "source": [
        "##### Getting Data from a Database"
      ]
    },
    {
      "cell_type": "code",
      "execution_count": null,
      "metadata": {
        "scrolled": true,
        "id": "00jFM_pgaBQg"
      },
      "outputs": [],
      "source": [
        "# Load sqlalchemy's create_engine\n",
        "from sqlalchemy import create_engine\n",
        "\n",
        "# Create database engine to manage connections\n",
        "engine = create_engine(\"sqlite:///data/data.db\")\n",
        "\n",
        "# Getting tables names\n",
        "table_names = engine.table_names()\n",
        "table_names"
      ]
    },
    {
      "cell_type": "code",
      "execution_count": null,
      "metadata": {
        "id": "asUfl1g_aBQg"
      },
      "outputs": [],
      "source": [
        "# Load entire weather table by table name\n",
        "weather = pd.read_sql(\"weather\", engine)\n",
        "weather.head()"
      ]
    },
    {
      "cell_type": "code",
      "execution_count": null,
      "metadata": {
        "id": "DePzMJ1jaBQh"
      },
      "outputs": [],
      "source": []
    },
    {
      "cell_type": "markdown",
      "metadata": {
        "id": "wng7KSp-aBQh"
      },
      "source": [
        "##### Your First SQL Query"
      ]
    },
    {
      "cell_type": "code",
      "execution_count": null,
      "metadata": {
        "id": "lIEa6IBdaBQi"
      },
      "outputs": [],
      "source": [
        "# Load entire weather table with SQL\n",
        "weather = pd.read_sql(\"SELECT * FROM weather\", engine)\n",
        "weather.head()"
      ]
    },
    {
      "cell_type": "code",
      "execution_count": null,
      "metadata": {
        "id": "twfQouIVaBQi"
      },
      "outputs": [],
      "source": [
        "# Write query to get records from Brooklyn\n",
        "query = \"\"\"\n",
        "            SELECT *\n",
        "            FROM hpd311calls\n",
        "            WHERE borough = 'BROOKLYN';\n",
        "        \"\"\"\n",
        "\n",
        "# Query the database\n",
        "brooklyn_calls = pd.read_sql(query, engine)\n",
        "brooklyn_calls.head()"
      ]
    },
    {
      "cell_type": "code",
      "execution_count": null,
      "metadata": {
        "id": "s26ticGtaBQi"
      },
      "outputs": [],
      "source": [
        "# Write query to get records about plumbing in the Bronx\n",
        "and_query = \"\"\"\n",
        "                SELECT *\n",
        "                FROM hpd311calls\n",
        "                WHERE borough = 'BRONX' AND complaint_type = 'PLUMBING';\n",
        "                \"\"\"\n",
        "\n",
        "# Get calls about plumbing issues in the Bronx\n",
        "bx_plumbing_calls = pd.read_sql(and_query, engine)\n",
        "bx_plumbing_calls.head()"
      ]
    },
    {
      "cell_type": "code",
      "execution_count": null,
      "metadata": {
        "id": "Seh6MY2ZaBQj"
      },
      "outputs": [],
      "source": []
    },
    {
      "cell_type": "markdown",
      "metadata": {
        "id": "OptulP66aBQj"
      },
      "source": [
        "##### Grouping & Aggregation"
      ]
    },
    {
      "cell_type": "code",
      "execution_count": null,
      "metadata": {
        "id": "TWFU3HobaBQj"
      },
      "outputs": [],
      "source": [
        "# Write query to get plumbing call counts by borough\n",
        "query = \"\"\"\n",
        "            SELECT borough, COUNT(*)\n",
        "            FROM hpd311calls\n",
        "            WHERE complaint_type = 'PLUMBING'\n",
        "            GROUP BY borough;\n",
        "            \"\"\"\n",
        "\n",
        "# Query the database and create a dataframe\n",
        "plumbing_call_counts = pd.read_sql(query, engine)\n",
        "plumbing_call_counts"
      ]
    },
    {
      "cell_type": "code",
      "execution_count": null,
      "metadata": {
        "id": "lsTqLn7haBQk"
      },
      "outputs": [],
      "source": []
    },
    {
      "cell_type": "markdown",
      "metadata": {
        "id": "vJaml-VyaBQk"
      },
      "source": [
        "##### Loading Multiple Tables with joins"
      ]
    },
    {
      "cell_type": "code",
      "execution_count": null,
      "metadata": {
        "id": "EXEDn0TgaBQk"
      },
      "outputs": [],
      "source": [
        "# Get call counts by borough and join in population and housing counts\n",
        "query = \"\"\"\n",
        "            SELECT hpd311calls.borough,\n",
        "            COUNT(*),\n",
        "            boro_census.total_population,\n",
        "            boro_census.housing_units\n",
        "            FROM hpd311calls\n",
        "            JOIN boro_census\n",
        "            ON hpd311calls.borough = boro_census.borough\n",
        "            GROUP BY hpd311calls.borough;\n",
        "            \"\"\"\n",
        "\n",
        "# Query the database and create a dataframe\n",
        "call_counts = pd.read_sql(query, engine)\n",
        "call_counts"
      ]
    },
    {
      "cell_type": "code",
      "execution_count": null,
      "metadata": {
        "id": "3U2v9rp4aBQl"
      },
      "outputs": [],
      "source": []
    },
    {
      "cell_type": "markdown",
      "metadata": {
        "id": "RmPY4DjGaBQl"
      },
      "source": [
        "=========="
      ]
    },
    {
      "cell_type": "markdown",
      "metadata": {
        "id": "DDnhLQmHaBQm"
      },
      "source": [
        "## Case-study: Chinook Database"
      ]
    },
    {
      "cell_type": "code",
      "execution_count": null,
      "metadata": {
        "id": "7NkxzAIdaBQm"
      },
      "outputs": [],
      "source": [
        "from IPython.display import Image\n",
        "Image(\"data/chinook-erd.png\")"
      ]
    },
    {
      "cell_type": "code",
      "execution_count": null,
      "metadata": {
        "id": "viaoxH7XaBQm"
      },
      "outputs": [],
      "source": []
    },
    {
      "cell_type": "markdown",
      "metadata": {
        "id": "rawHZdcUaBQm"
      },
      "source": [
        "##### Importing Libraries & Database"
      ]
    },
    {
      "cell_type": "code",
      "execution_count": null,
      "metadata": {
        "id": "v6e2yz-yaBQm"
      },
      "outputs": [],
      "source": [
        "# Load sqlalchemy's create_engine\n",
        "from sqlalchemy import create_engine\n",
        "\n",
        "# Create database engine to manage connections\n",
        "engine = create_engine(\"sqlite:///data/chinook.sqlite\")"
      ]
    },
    {
      "cell_type": "code",
      "execution_count": null,
      "metadata": {
        "id": "_i8j9mcGaBQn"
      },
      "outputs": [],
      "source": [
        "# Getting tables names\n",
        "table_names = engine.table_names()\n",
        "table_names"
      ]
    },
    {
      "cell_type": "code",
      "execution_count": null,
      "metadata": {
        "id": "5iEvX0zYaBQn"
      },
      "outputs": [],
      "source": [
        "# Load entire 'Album' table\n",
        "album = pd.read_sql(\"Album\", engine)\n",
        "album.head()"
      ]
    },
    {
      "cell_type": "code",
      "execution_count": null,
      "metadata": {
        "id": "7MCeTtjCaBQn"
      },
      "outputs": [],
      "source": [
        "# Another way to get the entire 'Album' table\n",
        "pd.read_sql_table(\"Album\", engine).head()"
      ]
    },
    {
      "cell_type": "code",
      "execution_count": null,
      "metadata": {
        "id": "93UKRP6OaBQn"
      },
      "outputs": [],
      "source": []
    },
    {
      "cell_type": "markdown",
      "metadata": {
        "id": "c2wYFs1HaBQo"
      },
      "source": [
        "##### Provide a query showing Customers (just their full names, customer ID and country) who are not in the US.\n"
      ]
    },
    {
      "cell_type": "code",
      "execution_count": null,
      "metadata": {
        "id": "eeRCkRy1aBQo"
      },
      "outputs": [],
      "source": [
        "# Write query to get the specified customers' info\n",
        "query = '''\n",
        "select customerid, firstname, lastname, country\n",
        "from customer\n",
        "where not country = 'USA';\n",
        "'''"
      ]
    },
    {
      "cell_type": "code",
      "execution_count": null,
      "metadata": {
        "id": "otSLQ6TWaBQo"
      },
      "outputs": [],
      "source": [
        "pd.read_sql(query, engine).head()"
      ]
    },
    {
      "cell_type": "code",
      "execution_count": null,
      "metadata": {
        "id": "Vm_u4e8JaBQo"
      },
      "outputs": [],
      "source": []
    },
    {
      "cell_type": "markdown",
      "metadata": {
        "id": "sBLoOtcGaBQp"
      },
      "source": [
        "##### Provide a query only showing the Customers from Brazil."
      ]
    },
    {
      "cell_type": "code",
      "execution_count": null,
      "metadata": {
        "id": "Usj0cfWjaBQp"
      },
      "outputs": [],
      "source": [
        "# Let's use 'pd.read_sql_query' method for simplicity\n",
        "pd.read_sql_query(\"select * from customer where country = 'Brazil';\", engine)"
      ]
    },
    {
      "cell_type": "code",
      "execution_count": null,
      "metadata": {
        "id": "6O-KVJ9iaBQp"
      },
      "outputs": [],
      "source": []
    },
    {
      "cell_type": "markdown",
      "metadata": {
        "id": "RncdWNbZaBQp"
      },
      "source": [
        "##### Provide a query showing the Invoices of customers who are from Brazil. The resultant table should show the customer's full name, Invoice ID, Date of the invoice and billing country."
      ]
    },
    {
      "cell_type": "code",
      "execution_count": null,
      "metadata": {
        "scrolled": true,
        "id": "cXmqVdsxaBQq"
      },
      "outputs": [],
      "source": [
        "query = '''\n",
        "select c.firstname, c.lastname, i.invoiceid, i.invoicedate, i.billingcountry\n",
        "from customer as c, invoice as i\n",
        "where c.country = 'Brazil' and\n",
        "c.customerid = i.customerid;\n",
        "'''\n",
        "pd.read_sql(query, engine).head()\n"
      ]
    },
    {
      "cell_type": "code",
      "execution_count": null,
      "metadata": {
        "id": "ht_jjKXCaBQq"
      },
      "outputs": [],
      "source": []
    },
    {
      "cell_type": "markdown",
      "metadata": {
        "id": "cmL-aa_paBQq"
      },
      "source": [
        "##### Provide a query showing only the Employees who are Sales Agents."
      ]
    },
    {
      "cell_type": "code",
      "execution_count": null,
      "metadata": {
        "id": "HxFeZN_zaBQq"
      },
      "outputs": [],
      "source": [
        "pd.read_sql(\"select * from employee where employee.title = 'Sales Support Agent';\", engine)"
      ]
    },
    {
      "cell_type": "code",
      "execution_count": null,
      "metadata": {
        "id": "l3mzVhhoaBQr"
      },
      "outputs": [],
      "source": []
    },
    {
      "cell_type": "markdown",
      "metadata": {
        "id": "y-L2GZdfaBQr"
      },
      "source": [
        "##### Provide a query showing a unique list of billing countries from the Invoice table."
      ]
    },
    {
      "cell_type": "code",
      "execution_count": null,
      "metadata": {
        "id": "mmQxXJHgaBQr"
      },
      "outputs": [],
      "source": [
        "pd.read_sql_query(\"select distinct billingcountry from invoice;\", engine)"
      ]
    },
    {
      "cell_type": "code",
      "execution_count": null,
      "metadata": {
        "id": "9i0ZbMxJaBQr"
      },
      "outputs": [],
      "source": []
    },
    {
      "cell_type": "markdown",
      "metadata": {
        "id": "5rxS9ojKaBQr"
      },
      "source": [
        "##### Provide a query showing the invoices of customers who are from Brazil."
      ]
    },
    {
      "cell_type": "code",
      "execution_count": null,
      "metadata": {
        "id": "dqrtMvnwaBQs"
      },
      "outputs": [],
      "source": [
        "query = '''\n",
        "select *\n",
        "from customer as c, invoice as i\n",
        "where c.country = 'Brazil' and\n",
        "c.customerid = i.customerid;\n",
        "'''\n",
        "\n",
        "pd.read_sql(query, engine).head()"
      ]
    },
    {
      "cell_type": "code",
      "execution_count": null,
      "metadata": {
        "id": "oQub_R-raBQs"
      },
      "outputs": [],
      "source": []
    },
    {
      "cell_type": "markdown",
      "metadata": {
        "id": "nbgwfmIjaBQs"
      },
      "source": [
        "##### Provide a query that shows the invoices associated with each sales agent. The resultant table should include the Sales Agent's full name."
      ]
    },
    {
      "cell_type": "code",
      "execution_count": null,
      "metadata": {
        "id": "qTUTZprWaBQs"
      },
      "outputs": [],
      "source": [
        "query = '''\n",
        "select e.firstname, e.lastname, i.invoiceid, i.customerid, i.invoicedate, i.billingaddress, i.billingcountry, i.billingpostalcode, i.total\n",
        "from customer as c, invoice as i\n",
        "on c.customerid = i.customerid\n",
        "join employee as e\n",
        "on e.employeeid = c.supportrepid\n",
        "order by e.employeeid;\n",
        "'''\n",
        "\n",
        "pd.read_sql(query, engine).head()"
      ]
    },
    {
      "cell_type": "code",
      "execution_count": null,
      "metadata": {
        "id": "5Fx_B32SaBQs"
      },
      "outputs": [],
      "source": []
    },
    {
      "cell_type": "markdown",
      "metadata": {
        "id": "qzEPE-_faBQs"
      },
      "source": [
        "##### Provide a query that shows the Invoice Total, Customer name, Country and Sale Agent name for all invoices and customers."
      ]
    },
    {
      "cell_type": "code",
      "execution_count": null,
      "metadata": {
        "id": "1Sjc1QlgaBQt"
      },
      "outputs": [],
      "source": [
        "query = '''\n",
        "select e.firstname as 'employee first', e.lastname as 'employee last', c.firstname as 'customer first', c.lastname as 'customer last', c.country, i.total\n",
        "from employee as e\n",
        "join customer as c on e.employeeid = c.supportrepid\n",
        "join invoice as i on c.customerid = i.customerid\n",
        "'''\n",
        "\n",
        "pd.read_sql(query, engine).head()"
      ]
    },
    {
      "cell_type": "code",
      "execution_count": null,
      "metadata": {
        "id": "rMa50NcnaBQt"
      },
      "outputs": [],
      "source": []
    },
    {
      "cell_type": "markdown",
      "metadata": {
        "id": "Lm6z2LRoaBQt"
      },
      "source": [
        "##### How many Invoices were there in 2009 and 2011? What are the respective total sales for each of those years?"
      ]
    },
    {
      "cell_type": "code",
      "execution_count": null,
      "metadata": {
        "id": "GOp4_9vSaBQt"
      },
      "outputs": [],
      "source": [
        "query = '''\n",
        "select count(i.invoiceid), sum(i.total)\n",
        "from invoice as i\n",
        "where i.invoicedate between datetime('2011-01-01 00:00:00') and datetime('2011-12-31 00:00:00');\n",
        "'''\n",
        "\n",
        "pd.read_sql(query, engine).head()"
      ]
    },
    {
      "cell_type": "code",
      "execution_count": null,
      "metadata": {
        "id": "FI0jzxgEaBQt"
      },
      "outputs": [],
      "source": []
    },
    {
      "cell_type": "markdown",
      "metadata": {
        "id": "O0q54fZwaBQu"
      },
      "source": [
        "##### Looking at the InvoiceLine table, provide a query that COUNTs the number of line items for Invoice ID 37."
      ]
    },
    {
      "cell_type": "code",
      "execution_count": null,
      "metadata": {
        "id": "fGe5EiQkaBQu"
      },
      "outputs": [],
      "source": [
        "pd.read_sql(\"select count(i.invoicelineid) from invoiceline as i where i.invoiceid = 37\", engine)"
      ]
    },
    {
      "cell_type": "code",
      "execution_count": null,
      "metadata": {
        "id": "y3yaglAbaBQu"
      },
      "outputs": [],
      "source": []
    },
    {
      "cell_type": "markdown",
      "metadata": {
        "id": "cGChWyd3aBQu"
      },
      "source": [
        "=========="
      ]
    },
    {
      "cell_type": "markdown",
      "metadata": {
        "id": "j_WMmiSJaBQu"
      },
      "source": [
        "# THANK YOU!"
      ]
    }
  ],
  "metadata": {
    "kernelspec": {
      "display_name": "Python 3",
      "language": "python",
      "name": "python3"
    },
    "language_info": {
      "codemirror_mode": {
        "name": "ipython",
        "version": 3
      },
      "file_extension": ".py",
      "mimetype": "text/x-python",
      "name": "python",
      "nbconvert_exporter": "python",
      "pygments_lexer": "ipython3",
      "version": "3.8.3"
    },
    "colab": {
      "provenance": [],
      "include_colab_link": true
    }
  },
  "nbformat": 4,
  "nbformat_minor": 0
}