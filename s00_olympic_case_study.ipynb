{
  "cells": [
    {
      "cell_type": "markdown",
      "metadata": {
        "id": "view-in-github",
        "colab_type": "text"
      },
      "source": [
        "<a href=\"https://colab.research.google.com/github/SARA3SAEED/DA-Mu/blob/main/s00_olympic_case_study.ipynb\" target=\"_parent\"><img src=\"https://colab.research.google.com/assets/colab-badge.svg\" alt=\"Open In Colab\"/></a>"
      ]
    },
    {
      "cell_type": "markdown",
      "metadata": {
        "id": "ZkJZk1oR7VXs"
      },
      "source": [
        "# Project - Olympic Sports Analysis [Data Pre-processing]"
      ]
    },
    {
      "cell_type": "markdown",
      "metadata": {
        "id": "qPUYlW5r7VXu"
      },
      "source": [
        "- You can find the full project & the dataset at: https://www.kaggle.com/the-guardian/olympic-games\n",
        "- In this project, we will consider these topics:\n",
        "    - Data Cleaning & Manipulation\n",
        "    - Data Grouping & Aggregation\n",
        "    - Data Reshaping & Pivoting\n",
        "    - Data Merging, Joining, & Concatenation"
      ]
    },
    {
      "cell_type": "markdown",
      "metadata": {
        "id": "O0Y7aZbx7VXw"
      },
      "source": [
        "## Olympic Sports and Medals, 1896-2014\n",
        "Which countries and athletes have won the most medals at the Olympic games?"
      ]
    },
    {
      "cell_type": "markdown",
      "metadata": {
        "id": "vL3L4SZd7VXx"
      },
      "source": [
        "### Importing libraries & data"
      ]
    },
    {
      "cell_type": "code",
      "execution_count": null,
      "metadata": {
        "id": "KxlKGxf17VXy"
      },
      "outputs": [],
      "source": [
        "import numpy as np\n",
        "import pandas as pd\n",
        "import matplotlib.pyplot as plt\n",
        "import seaborn as sns\n",
        "%matplotlib inline\n",
        "sns.set()"
      ]
    },
    {
      "cell_type": "code",
      "execution_count": null,
      "metadata": {
        "id": "CSmMpFQI7VX0"
      },
      "outputs": [],
      "source": [
        "summer = pd.read_csv('data/summer.csv')"
      ]
    },
    {
      "cell_type": "code",
      "execution_count": null,
      "metadata": {
        "id": "gTyqNGRQ7VX1"
      },
      "outputs": [],
      "source": [
        "winter = pd.read_csv('data/winter.csv')"
      ]
    },
    {
      "cell_type": "code",
      "execution_count": null,
      "metadata": {
        "id": "FFRf_gUf7VX1"
      },
      "outputs": [],
      "source": [
        "countries = pd.read_csv('data/dictionary.csv')"
      ]
    },
    {
      "cell_type": "code",
      "execution_count": null,
      "metadata": {
        "id": "ffHAYOyq7VX2"
      },
      "outputs": [],
      "source": []
    },
    {
      "cell_type": "markdown",
      "metadata": {
        "id": "1ysOBRfY7VX2"
      },
      "source": [
        "### Inspecting Datasets"
      ]
    },
    {
      "cell_type": "code",
      "execution_count": null,
      "metadata": {
        "id": "6YD7EKQ77VX3"
      },
      "outputs": [],
      "source": [
        "summer.head()"
      ]
    },
    {
      "cell_type": "code",
      "execution_count": null,
      "metadata": {
        "id": "pPn0Au8z7VX3"
      },
      "outputs": [],
      "source": [
        "summer.info()"
      ]
    },
    {
      "cell_type": "code",
      "execution_count": null,
      "metadata": {
        "id": "oPp0syG57VX3"
      },
      "outputs": [],
      "source": [
        "winter.head()"
      ]
    },
    {
      "cell_type": "code",
      "execution_count": null,
      "metadata": {
        "id": "LhZoUKLy7VX4"
      },
      "outputs": [],
      "source": [
        "winter.info()"
      ]
    },
    {
      "cell_type": "code",
      "execution_count": null,
      "metadata": {
        "id": "uY1EX-ja7VX4"
      },
      "outputs": [],
      "source": [
        "countries.head()"
      ]
    },
    {
      "cell_type": "code",
      "execution_count": null,
      "metadata": {
        "id": "TpfMzShh7VX5"
      },
      "outputs": [],
      "source": [
        "countries.info()"
      ]
    },
    {
      "cell_type": "code",
      "execution_count": null,
      "metadata": {
        "id": "RZgZNNwj7VX5"
      },
      "outputs": [],
      "source": [
        "# Listing all of the missing data in the 'countries' dataframe\n",
        "countries[countries.isnull().any(axis = 1)].reset_index(drop=True)"
      ]
    },
    {
      "cell_type": "code",
      "execution_count": null,
      "metadata": {
        "id": "UBMP52S77VX5"
      },
      "outputs": [],
      "source": []
    },
    {
      "cell_type": "markdown",
      "metadata": {
        "id": "4vADpa667VX5"
      },
      "source": [
        "### Proposed Questions\n",
        "\n",
        "- ***Analysing all Summer editions data***\n",
        "    - Can you find the __highest__ male / female __athletes__ of all time in the Summer editions?\n",
        "    - Find the highest __athletes__ regarding to each __medal type__ in the Summer editions?\n",
        "\n",
        "- ***Which are the most successful countries in both Summer and Winter editions?***\n",
        "    - What are the __Top 10__ Countries by __total medals__?\n",
        "    - __Split__ the total medals of Top 10 Countries into __Summer / Winter__. Are there typical Summer/Winter Games Countries?\n",
        "    - __Split__ the total medals of Top 10 Countries into __Gold, Silver, Bronze__.\n"
      ]
    },
    {
      "cell_type": "code",
      "execution_count": null,
      "metadata": {
        "id": "40gCiEvP7VX6"
      },
      "outputs": [],
      "source": []
    },
    {
      "cell_type": "markdown",
      "metadata": {
        "id": "VZMAjCIv7VX6"
      },
      "source": [
        "=========="
      ]
    },
    {
      "cell_type": "markdown",
      "metadata": {
        "id": "OFXROb1G7VX6"
      },
      "source": [
        "- ***Analysing all Summer editions data***\n",
        "    - Can you find the __highest__ male / female __athletes__ of all time in the Summer editions?\n",
        "    - Find the highest __athletes__ regarding to each __medal type__ in the Summer editions?"
      ]
    },
    {
      "cell_type": "markdown",
      "metadata": {
        "id": "x8kQxrT27VX6"
      },
      "source": [
        "##### Q. Can you find the highest male / female athletes of all time in the Summer editions"
      ]
    },
    {
      "cell_type": "code",
      "execution_count": null,
      "metadata": {
        "id": "mELCl-IL7VX7"
      },
      "outputs": [],
      "source": [
        "summer.head()"
      ]
    },
    {
      "cell_type": "code",
      "execution_count": null,
      "metadata": {
        "id": "wqByG_hQ7VX7"
      },
      "outputs": [],
      "source": [
        "# Modify the full name of the athletes in Winter and Summer editions\n",
        "summer['Athlete'] = summer['Athlete'].str.split(', ').str[::-1].str.join(' ')\n",
        "summer['Athlete'] = summer['Athlete'].str.title()\n",
        "summer.head()"
      ]
    },
    {
      "cell_type": "code",
      "execution_count": null,
      "metadata": {
        "id": "xjD2tRrI7VX7"
      },
      "outputs": [],
      "source": [
        "# Adding the countries column to our dataframe\n",
        "summer = summer.merge(countries,left_on='Country',right_on='Code',how='left')\n",
        "summer.head()"
      ]
    },
    {
      "cell_type": "code",
      "execution_count": null,
      "metadata": {
        "id": "Ob7iSy597VX7"
      },
      "outputs": [],
      "source": [
        "summer=summer[['Year','City','Sport','Discipline','Athlete','Country_x','Gender','Event','Medal','Country_y']]\n",
        "summer.columns=['Year','City','Sport','Discipline','Athlete','Code','Gender','Event','Medal','Country']\n",
        "summer.head()"
      ]
    },
    {
      "cell_type": "code",
      "execution_count": null,
      "metadata": {
        "id": "IeJWwBp-7VX7"
      },
      "outputs": [],
      "source": [
        "# The highest male athlete of all Summer editions\n",
        "male_athlete = summer[summer['Gender']=='Men']['Athlete'].value_counts()[:1].index[0]\n",
        "male_athlete"
      ]
    },
    {
      "cell_type": "code",
      "execution_count": null,
      "metadata": {
        "id": "M3NBDQLR7VX8"
      },
      "outputs": [],
      "source": [
        "# His total number of medals\n",
        "num_of_male_medals = summer[summer['Gender']=='Men']['Athlete'].value_counts()[:1].values[0]\n",
        "num_of_male_medals"
      ]
    },
    {
      "cell_type": "code",
      "execution_count": null,
      "metadata": {
        "id": "3pNR4i3w7VX8"
      },
      "outputs": [],
      "source": [
        "# The highest female athlete of all Summer editions\n",
        "female_athlete = summer[summer['Gender']=='Women']['Athlete'].value_counts()[:1].index[0]\n",
        "female_athlete"
      ]
    },
    {
      "cell_type": "code",
      "execution_count": null,
      "metadata": {
        "id": "3sX_dqHD7VX8"
      },
      "outputs": [],
      "source": [
        "# Her total number of medals\n",
        "num_of_female_medals = summer[summer['Gender']=='Women']['Athlete'].value_counts()[:1].values[0]\n",
        "num_of_female_medals"
      ]
    },
    {
      "cell_type": "code",
      "execution_count": null,
      "metadata": {
        "id": "n2wikC8G7VX8"
      },
      "outputs": [],
      "source": []
    },
    {
      "cell_type": "markdown",
      "metadata": {
        "id": "ln-0HCy_7VX8"
      },
      "source": [
        "##### Q. Find the highest athletes regarding to each medal type in the Summer editions"
      ]
    },
    {
      "cell_type": "code",
      "execution_count": null,
      "metadata": {
        "id": "Ev3jV67u7VX9"
      },
      "outputs": [],
      "source": [
        "summer.head()"
      ]
    },
    {
      "cell_type": "code",
      "execution_count": null,
      "metadata": {
        "id": "01e_eI207VX9"
      },
      "outputs": [],
      "source": [
        "# Let's discover what does 'Michael Phelps' have of medals\n",
        "summer[summer.Athlete == 'Michael Phelps']"
      ]
    },
    {
      "cell_type": "code",
      "execution_count": null,
      "metadata": {
        "id": "B4yJ13kV7VX-"
      },
      "outputs": [],
      "source": [
        "top_medals = summer.groupby(['Athlete','Medal'])['Sport'].count().reset_index().sort_values(by='Sport',ascending=False)\n",
        "top_medals"
      ]
    },
    {
      "cell_type": "code",
      "execution_count": null,
      "metadata": {
        "id": "tnoUWUiz7VX-"
      },
      "outputs": [],
      "source": [
        "top_medals = top_medals.drop_duplicates(subset=['Medal'],keep='first')\n",
        "top_medals.columns = [['Athlete','Medal','Count']]\n",
        "top_medals"
      ]
    },
    {
      "cell_type": "code",
      "execution_count": null,
      "metadata": {
        "id": "payHnj3d7VX-"
      },
      "outputs": [],
      "source": []
    },
    {
      "cell_type": "markdown",
      "metadata": {
        "id": "1wKIXKcr7VX-"
      },
      "source": [
        "##### Q. Calculate the medals per each country for the best male and females athletes in all of the Summer editions and visualize the results"
      ]
    },
    {
      "cell_type": "code",
      "execution_count": null,
      "metadata": {
        "id": "rECV01pJ7VYA"
      },
      "outputs": [],
      "source": [
        "medals_country = summer.groupby(['Country','Medal'])['Gender'].count().reset_index().sort_values(by='Gender',ascending=False)\n",
        "medals_country = medals_country.pivot('Country','Medal','Gender').fillna(0)\n",
        "medals_country"
      ]
    },
    {
      "cell_type": "code",
      "execution_count": null,
      "metadata": {
        "id": "cnCrxld37VYA"
      },
      "outputs": [],
      "source": [
        "top_10 = medals_country.sort_values(by='Gold',ascending=False)[:11]\n",
        "top_10"
      ]
    },
    {
      "cell_type": "code",
      "execution_count": null,
      "metadata": {
        "id": "y9ACI2OD7VYB"
      },
      "outputs": [],
      "source": [
        "top_10.plot.barh(width=0.8,color=['#CD7F32','#FFDF00','#D3D3D3'])\n",
        "fig = plt.gcf()\n",
        "fig.set_size_inches(12,12)\n",
        "plt.title('Medals Distribution Of Top 10 Countries (Summer Olympics)')\n",
        "plt.show()"
      ]
    },
    {
      "cell_type": "code",
      "execution_count": null,
      "metadata": {
        "id": "urEPd5Dl7VYB"
      },
      "outputs": [],
      "source": [
        "fig,ax=plt.subplots(1,2,figsize=(18,15))\n",
        "men=summer[summer['Gender']=='Men']\n",
        "men=men.groupby(['Athlete','Medal'])['Country'].count().reset_index().sort_values(by='Country',ascending=False)\n",
        "men=men[men['Athlete'].isin(summer['Athlete'].value_counts().index[:15])]\n",
        "men=men.pivot('Athlete','Medal','Country')\n",
        "men.plot.barh(width=0.8,color=['#CD7F32','#FFDF00','#D3D3D3'],ax=ax[0])\n",
        "ax[0].set_title('Best Male Athletes')\n",
        "ax[0].set_ylabel('Athlete')\n",
        "\n",
        "women=summer[summer['Gender']=='Women']\n",
        "women=women.groupby(['Athlete','Medal'])['Country'].count().reset_index().sort_values(by='Country',ascending=False)\n",
        "women=women[women['Athlete'].isin(summer['Athlete'].value_counts().index[:30])]\n",
        "women=women.pivot('Athlete','Medal','Country')\n",
        "women.plot.barh(width=0.8,color=['#CD7F32','#FFDF00','#D3D3D3'],ax=ax[1])\n",
        "ax[1].set_title('Best Female Athletes')\n",
        "ax[1].set_ylabel('')\n",
        "plt.show()"
      ]
    },
    {
      "cell_type": "code",
      "execution_count": null,
      "metadata": {
        "id": "I5YU8Adj7VYB"
      },
      "outputs": [],
      "source": []
    },
    {
      "cell_type": "markdown",
      "metadata": {
        "id": "J46zRMam7VYB"
      },
      "source": [
        "=========="
      ]
    },
    {
      "cell_type": "markdown",
      "metadata": {
        "id": "_OXrwwrG7VYB"
      },
      "source": [
        "##### Q. Which are the most successful countries in both Summer and Winter editions?\n",
        "- What are the __Top 10__ Countries by __total medals__?\n",
        "- __Split__ the total medals of Top 10 Countries into __Summer / Winter__. Are there typical Summer/Winter Games Countries?\n",
        "- __Split__ the total medals of Top 10 Countries into __Gold, Silver, Bronze__."
      ]
    },
    {
      "cell_type": "markdown",
      "metadata": {
        "id": "onjnCVda7VYC"
      },
      "source": [
        "#### 1] Data Merging"
      ]
    },
    {
      "cell_type": "code",
      "execution_count": null,
      "metadata": {
        "id": "d7B6Xry47VYC"
      },
      "outputs": [],
      "source": [
        "summer.head()"
      ]
    },
    {
      "cell_type": "code",
      "execution_count": null,
      "metadata": {
        "id": "uDZbb5FH7VYC"
      },
      "outputs": [],
      "source": [
        "winter.head()"
      ]
    },
    {
      "cell_type": "code",
      "execution_count": null,
      "metadata": {
        "id": "mcp4Ple37VYC"
      },
      "outputs": [],
      "source": [
        "countries.head()"
      ]
    },
    {
      "cell_type": "code",
      "execution_count": null,
      "metadata": {
        "id": "qmUdqCU57VYD"
      },
      "outputs": [],
      "source": [
        "# Now you can easily merge the two dataframes\n",
        "olympics = pd.concat([summer, winter], keys = [\"Summer\", \"Winter\"], names = [\"Edition\"]).reset_index().drop(columns = \"level_1\")\n",
        "olympics"
      ]
    },
    {
      "cell_type": "code",
      "execution_count": null,
      "metadata": {
        "id": "KB5LWh_97VYD"
      },
      "outputs": [],
      "source": [
        "# We need to refine our 'olympics' dataframe by adding the 'country' column\n",
        "olympics = olympics.merge(countries.iloc[:, :2], how = \"left\", left_on = \"Country\", right_on = \"Code\").drop(columns = [\"Code\"])\n",
        "olympics"
      ]
    },
    {
      "cell_type": "code",
      "execution_count": null,
      "metadata": {
        "id": "mXces7oi7VYD"
      },
      "outputs": [],
      "source": []
    },
    {
      "cell_type": "markdown",
      "metadata": {
        "id": "BJQtCQwq7VYE"
      },
      "source": [
        "#### 2] Data Cleaning"
      ]
    },
    {
      "cell_type": "code",
      "execution_count": null,
      "metadata": {
        "id": "_xiwMXq07VYF"
      },
      "outputs": [],
      "source": [
        "olympics"
      ]
    },
    {
      "cell_type": "markdown",
      "metadata": {
        "id": "Bq3Rz-Mp7VYG"
      },
      "source": [
        "##### Assign appropriate Column Headers to Country Codes and full Country Names"
      ]
    },
    {
      "cell_type": "code",
      "execution_count": null,
      "metadata": {
        "id": "YA4p1r6A7VYH"
      },
      "outputs": [],
      "source": [
        "olympics.rename(columns = {\"Country_x\":\"Code\", \"Country_y\": \"Country\"}, inplace = True)"
      ]
    },
    {
      "cell_type": "code",
      "execution_count": null,
      "metadata": {
        "id": "GNB5OdW47VYI"
      },
      "outputs": [],
      "source": []
    },
    {
      "cell_type": "markdown",
      "metadata": {
        "id": "kxOpwGje7VYK"
      },
      "source": [
        "##### For some Country Codes, there is no corresponding __full Country Name__ available (e.g. for \"URS\") -> __missing values__ in olympics. Identify these Country Codes and search the Web for the full Country Names. __Replace__ missing values!"
      ]
    },
    {
      "cell_type": "code",
      "execution_count": null,
      "metadata": {
        "id": "k1lUf4Xl7VYK"
      },
      "outputs": [],
      "source": [
        "# Finding the missing data in the new dataframe\n",
        "olympics.loc[olympics.Country.isnull()]"
      ]
    },
    {
      "cell_type": "code",
      "execution_count": null,
      "metadata": {
        "id": "EVFNfrYr7VYL"
      },
      "outputs": [],
      "source": [
        "# List all of the old countries' codes\n",
        "olympics.loc[olympics.Country.isnull()].Code.value_counts()"
      ]
    },
    {
      "cell_type": "code",
      "execution_count": null,
      "metadata": {
        "scrolled": true,
        "id": "f6SKvGzu7VYL"
      },
      "outputs": [],
      "source": [
        "# Get all of the indicies of the old countries\n",
        "old_indices = olympics.loc[olympics.Country.isnull()].Code.value_counts().index\n",
        "old_indices"
      ]
    },
    {
      "cell_type": "raw",
      "metadata": {
        "id": "HjLmhZc17VYL"
      },
      "source": [
        "{'URS': 'Soviet Union',\n",
        " 'GDR': 'East Germany',\n",
        " 'ROU': 'Romania',\n",
        " 'FRG': 'West Germany',\n",
        " 'TCH': 'Czechoslovakia',\n",
        " 'YUG': 'Yugoslavia',\n",
        " 'EUN': 'Unified Team',\n",
        " 'EUA': 'Unified Team of Germany',\n",
        " 'ZZX': 'Mixed teams',\n",
        " 'SRB': 'Serbia',\n",
        " 'ANZ': 'Australasia',\n",
        " 'RU1': 'Russian Empire',\n",
        " 'MNE': 'Montenegro',\n",
        " 'TTO': 'Trinidad and Tobago',\n",
        " 'BOH': 'Bohemia',\n",
        " 'BWI': 'West Indies Federation',\n",
        " 'SGP': 'Singapore',\n",
        " 'IOP': 'Independent Olympic Participants'}"
      ]
    },
    {
      "cell_type": "code",
      "execution_count": null,
      "metadata": {
        "id": "L2mPX__t7VYM"
      },
      "outputs": [],
      "source": [
        "# Create a mapper to match the old countries' codes with their corresponding names\n",
        "mapper = pd.Series(index=old_indices, name = \"Country\", data = [\"Soviet Union\", \"East Germany\", \"Romania\", \"West Germany\", \"Czechoslovakia\",\n",
        "                               \"Yugoslavia\", \"Unified Team\", \"Unified Team of Germany\", \"Mixed teams\", \"Serbia\",\n",
        "                              \"Australasia\", \"Russian Empire\", \"Montenegro\", \"Trinidad and Tobago\", \"Bohemia\",\n",
        "                              \"West Indies Federation\", \"Singapore\", \"Independent Olympic Participants\"])\n",
        "\n",
        "mapper"
      ]
    },
    {
      "cell_type": "code",
      "execution_count": null,
      "metadata": {
        "id": "6bnssl-m7VYM"
      },
      "outputs": [],
      "source": [
        "# Let's get all the missing data indicies to map them to countries\n",
        "missing_indices = olympics.loc[olympics.Country.isnull()].index\n",
        "missing_indices"
      ]
    },
    {
      "cell_type": "code",
      "execution_count": null,
      "metadata": {
        "id": "TVRp1lLD7VYM"
      },
      "outputs": [],
      "source": [
        "# Now, we need to map the names\n",
        "olympics.loc[missing_indices, \"Code\"].map(mapper)"
      ]
    },
    {
      "cell_type": "code",
      "execution_count": null,
      "metadata": {
        "id": "xQrEf4Ko7VYM"
      },
      "outputs": [],
      "source": [
        "# Filling the missing data with the new names\n",
        "olympics.Country.fillna(olympics.Code.map(mapper), inplace = True)"
      ]
    },
    {
      "cell_type": "code",
      "execution_count": null,
      "metadata": {
        "id": "B31jIN6v7VYN"
      },
      "outputs": [],
      "source": [
        "olympics.loc[missing_indices]"
      ]
    },
    {
      "cell_type": "markdown",
      "metadata": {
        "id": "GL33N3va7VYN"
      },
      "source": [
        "##### Remove rows from olympics where the Country code is unknown"
      ]
    },
    {
      "cell_type": "code",
      "execution_count": null,
      "metadata": {
        "id": "LsUgf7M27VYN"
      },
      "outputs": [],
      "source": [
        "# Double-check for any missing data\n",
        "olympics[olympics.Code.isna()]"
      ]
    },
    {
      "cell_type": "code",
      "execution_count": null,
      "metadata": {
        "id": "JciIgps07VYN"
      },
      "outputs": [],
      "source": [
        "# Drop these missing records\n",
        "olympics.dropna(subset = [\"Code\"], inplace = True)"
      ]
    },
    {
      "cell_type": "code",
      "execution_count": null,
      "metadata": {
        "id": "iw1XvBst7VYO"
      },
      "outputs": [],
      "source": [
        "# Reseting indicies to get rid of the deleted records\n",
        "olympics.reset_index(drop = True, inplace = True)"
      ]
    },
    {
      "cell_type": "code",
      "execution_count": null,
      "metadata": {
        "id": "cx2VKHcI7VYO"
      },
      "outputs": [],
      "source": [
        "olympics.info()"
      ]
    },
    {
      "cell_type": "markdown",
      "metadata": {
        "id": "fCfZRWab7VYO"
      },
      "source": [
        "##### Convert the column Medal into an ordered Categorical column (\"Bronze\" < \"Silver\" < \"Gold\")"
      ]
    },
    {
      "cell_type": "code",
      "execution_count": null,
      "metadata": {
        "id": "j9i0k77J7VYO"
      },
      "outputs": [],
      "source": [
        "olympics['Medal'] = olympics['Medal'].astype(\"category\")"
      ]
    },
    {
      "cell_type": "code",
      "execution_count": null,
      "metadata": {
        "id": "5g2yFiqj7VYP"
      },
      "outputs": [],
      "source": [
        "olympics.info()"
      ]
    },
    {
      "cell_type": "code",
      "execution_count": null,
      "metadata": {
        "id": "r2SE4wh67VYP"
      },
      "outputs": [],
      "source": [
        "olympics.Medal.sort_values()"
      ]
    },
    {
      "cell_type": "code",
      "execution_count": null,
      "metadata": {
        "id": "4dEmsx_x7VYQ"
      },
      "outputs": [],
      "source": [
        "olympics.Medal.cat.set_categories([\"Bronze\", \"Silver\", \"Gold\"], ordered = True, inplace = True)"
      ]
    },
    {
      "cell_type": "code",
      "execution_count": null,
      "metadata": {
        "id": "ccGYCTD67VYR"
      },
      "outputs": [],
      "source": [
        "olympics.Medal.sort_values()"
      ]
    },
    {
      "cell_type": "code",
      "execution_count": null,
      "metadata": {
        "id": "95X22UMw7VYR"
      },
      "outputs": [],
      "source": []
    },
    {
      "cell_type": "markdown",
      "metadata": {
        "id": "xkV50nhd7VYR"
      },
      "source": [
        "#### 3] Data Analysis & Visualization (EDA)"
      ]
    },
    {
      "cell_type": "markdown",
      "metadata": {
        "id": "QAFEFmh37VYR"
      },
      "source": [
        "##### Q. What are the Top 10 Countries by total medals?"
      ]
    },
    {
      "cell_type": "code",
      "execution_count": null,
      "metadata": {
        "id": "B4TCBCm77VYR"
      },
      "outputs": [],
      "source": [
        "olympics"
      ]
    },
    {
      "cell_type": "code",
      "execution_count": null,
      "metadata": {
        "id": "8Zmwjsin7VYS"
      },
      "outputs": [],
      "source": [
        "olympics.Country.value_counts()"
      ]
    },
    {
      "cell_type": "code",
      "execution_count": null,
      "metadata": {
        "id": "fZ_IIYAY7VYS"
      },
      "outputs": [],
      "source": [
        "top_10 = olympics.Country.value_counts().nlargest(10)\n",
        "top_10"
      ]
    },
    {
      "cell_type": "code",
      "execution_count": null,
      "metadata": {
        "id": "HcgSDXC67VYS"
      },
      "outputs": [],
      "source": [
        "top_10.plot(kind = \"bar\", fontsize = 15, figsize=(12,8))\n",
        "plt.title(\"Top 10 Countries by Medals\", fontsize = 15)\n",
        "plt.ylabel(\"Medals\", fontsize = 14)\n",
        "plt.show()"
      ]
    },
    {
      "cell_type": "code",
      "execution_count": null,
      "metadata": {
        "id": "9uB2UeYJ7VYS"
      },
      "outputs": [],
      "source": []
    },
    {
      "cell_type": "markdown",
      "metadata": {
        "id": "IXYzP5PF7VYS"
      },
      "source": [
        "##### Q. Split the total medals of Top 10 Countries into Summer / Winter. Are there typical Summer/Winter Games Countries?"
      ]
    },
    {
      "cell_type": "code",
      "execution_count": null,
      "metadata": {
        "id": "YcSLLh6A7VYT"
      },
      "outputs": [],
      "source": [
        "# Gathering the top10 data\n",
        "olympics_10 = olympics[olympics.Country.isin(top_10.index)]\n",
        "olympics_10"
      ]
    },
    {
      "cell_type": "code",
      "execution_count": null,
      "metadata": {
        "id": "QYpEKGT57VYT"
      },
      "outputs": [],
      "source": [
        "plt.figure(figsize=(20,10))\n",
        "sns.set(font_scale=1.5, palette= \"dark\")\n",
        "sns.countplot(data = olympics_10, x = \"Country\", order = top_10.index)\n",
        "plt.title(\"Top 10 Countries by Medals\", fontsize = 20)\n",
        "plt.show()"
      ]
    },
    {
      "cell_type": "code",
      "execution_count": null,
      "metadata": {
        "id": "5tI1Cgwr7VYT"
      },
      "outputs": [],
      "source": [
        "plt.figure(figsize=(20,10))\n",
        "sns.set(font_scale=1.5, palette= \"dark\")\n",
        "sns.countplot(data = olympics_10, x = \"Country\", hue = \"Edition\", order = top_10.index)\n",
        "plt.title(\"Top 10 Countries by Medals\", fontsize = 20)\n",
        "plt.show()"
      ]
    },
    {
      "cell_type": "code",
      "execution_count": null,
      "metadata": {
        "id": "0kHKve0Z7VYU"
      },
      "outputs": [],
      "source": [
        "plt.figure(figsize=(20,10))\n",
        "sns.set(font_scale=1.5, palette= \"dark\")\n",
        "sns.countplot(data = olympics_10, x = \"Edition\", hue = \"Country\", hue_order = top_10.index)\n",
        "plt.title(\"Top 10 Countries by Medals\", fontsize = 20)\n",
        "plt.show()"
      ]
    },
    {
      "cell_type": "code",
      "execution_count": null,
      "metadata": {
        "id": "_pFwtssK7VYU"
      },
      "outputs": [],
      "source": []
    },
    {
      "cell_type": "markdown",
      "metadata": {
        "id": "9oXTPBoO7VYU"
      },
      "source": [
        "##### Q. Split the total medals of Top 10 Countries into Gold, Silver, Bronze"
      ]
    },
    {
      "cell_type": "code",
      "execution_count": null,
      "metadata": {
        "id": "B_OIzBaD7VYU"
      },
      "outputs": [],
      "source": [
        "plt.figure(figsize=(20,10))\n",
        "sns.set(font_scale=1.5, palette= \"dark\")\n",
        "sns.countplot(data = olympics_10, x = \"Country\", hue = \"Medal\", order = top_10.index,\n",
        "              hue_order = [\"Gold\", \"Silver\", \"Bronze\"], palette = [\"gold\", \"silver\", \"brown\"])\n",
        "plt.title(\"Top 10 Countries by Medals\", fontsize = 20)\n",
        "plt.show()"
      ]
    },
    {
      "cell_type": "code",
      "execution_count": null,
      "metadata": {
        "id": "0oz66y3r7VYV"
      },
      "outputs": [],
      "source": [
        "plt.figure(figsize=(20,10))\n",
        "sns.set(font_scale=1.5, palette= \"dark\")\n",
        "sns.countplot(data = olympics_10, x = \"Medal\", hue = \"Country\",\n",
        "              order = [\"Gold\", \"Silver\", \"Bronze\"], hue_order= top_10.index)\n",
        "plt.title(\"Top 10 Countries by Medals\", fontsize = 20)\n",
        "plt.show()"
      ]
    },
    {
      "cell_type": "code",
      "execution_count": null,
      "metadata": {
        "id": "vDza5Nhm7VYV"
      },
      "outputs": [],
      "source": []
    },
    {
      "cell_type": "markdown",
      "metadata": {
        "id": "LN-M9HWc7VYV"
      },
      "source": [
        "==========="
      ]
    },
    {
      "cell_type": "markdown",
      "metadata": {
        "id": "0kSq6Add7VYV"
      },
      "source": [
        "# THANK YOU!"
      ]
    }
  ],
  "metadata": {
    "kernelspec": {
      "display_name": "Python 3",
      "language": "python",
      "name": "python3"
    },
    "language_info": {
      "codemirror_mode": {
        "name": "ipython",
        "version": 3
      },
      "file_extension": ".py",
      "mimetype": "text/x-python",
      "name": "python",
      "nbconvert_exporter": "python",
      "pygments_lexer": "ipython3",
      "version": "3.8.3"
    },
    "colab": {
      "provenance": [],
      "include_colab_link": true
    }
  },
  "nbformat": 4,
  "nbformat_minor": 0
}